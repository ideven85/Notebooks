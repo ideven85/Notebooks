{
 "cells": [
  {
   "cell_type": "code",
   "execution_count": 55,
   "id": "64b6f6e2",
   "metadata": {
    "scrolled": true
   },
   "outputs": [],
   "source": [
    "import pandas as pd\n",
    "\n",
    "from nltk.corpus import stopwords\n",
    "from nltk.tokenize import word_tokenize, sent_tokenize\n",
    "\n",
    "\n",
    "corpus_1 = 'India, officially the Republic of India, is a country in South Asia. It is the seventh-largest country by area, the second-most populous country, and the most populous democracy in the world. Bounded by the Indian Ocean on the south, the Arabian Sea on the southwest, and the Bay of Bengal on the southeast, it shares land borders with Pakistan to the west; China, Nepal, and Bhutan to the north; and Bangladesh and Myanmar to the east. In the Indian Ocean, India is in the vicinity of Sri Lanka and the Maldives; its Andaman and Nicobar Islands share a maritime border with Thailand, Myanmar and Indonesia.'\n",
    "corpus_2 = 'The Voyager program is an American scientific program that employs two robotic interstellar probes, Voyager I and Voyager II. They were launched in 1977 to take advantage of a favorable alignment of Jupiter and Saturn, to fly near them while collecting data for transmission back to Earth. After launch the decision was taken to send Voyager II near Uranus and Neptune to collect data for transmission back to Earth'\n",
    "corpus_3 = 'A black hole is a region of spacetime where gravity is so strong that nothing — no particles or even electromagnetic radiation such as light — can escape from it. The theory of general relativity predicts that a sufficiently compact mass can deform spacetime to form a black hole. The boundary of no escape is called the event horizon. Although it has an enormous effect on the fate and circumstances of an object crossing it, it has no locally detectable features according to general relativity. In many ways, a black hole acts like an ideal black body, as it reflects no light. Moreover, quantum field theory in curved spacetime predicts that event horizons emit Hawking radiation, with the same spectrum as a black body of a temperature inversely proportional to its mass. This temperature is of the order of billionths of a kelvin for stellar black holes, making it essentially impossible to observe directly.'\n",
    "corpus_4 = \"Hawking scientific works included a collaboration with Roger Penrose on gravitational singularity theorems in the framework of general relativity, and the theoretical prediction that black holes emit radiation, often called Hawking radiation. Initially, Hawking radiation was controversial. By the late 1970s and following the publication of further research, the discovery was widely accepted as a major breakthrough in theoretical physics. Hawking was the first to set out a theory of cosmology explained by a union of the general theory of relativity and quantum mechanics. He was a vigorous supporter of the many-worlds interpretation of quantum mechanics.\""
   ]
  },
  {
   "cell_type": "markdown",
   "id": "c130986f",
   "metadata": {},
   "source": [
    "## Remove Stop Words and Creating Vocab"
   ]
  },
  {
   "cell_type": "code",
   "execution_count": 56,
   "id": "2a135f93",
   "metadata": {},
   "outputs": [],
   "source": [
    "words = []\n",
    "\n",
    "for word in word_tokenize(corpus_4):\n",
    "    if(word.lower() not in stopwords.words('english')) and (len(word) >= 2):\n",
    "        words.append(word.lower())\n",
    "        \n",
    "vocab = list(set(words))"
   ]
  },
  {
   "cell_type": "markdown",
   "id": "4ff7f8c2",
   "metadata": {},
   "source": [
    "## Creating Count Dictionary"
   ]
  },
  {
   "cell_type": "code",
   "execution_count": 57,
   "id": "0eb0f304",
   "metadata": {},
   "outputs": [],
   "source": [
    "word_freq = {}\n",
    "\n",
    "for word in vocab:\n",
    "    word_freq[word] = 0"
   ]
  },
  {
   "cell_type": "markdown",
   "id": "97721abf",
   "metadata": {},
   "source": [
    "## Count the Frequency of Words"
   ]
  },
  {
   "cell_type": "code",
   "execution_count": 58,
   "id": "4d109372",
   "metadata": {
    "scrolled": true
   },
   "outputs": [],
   "source": [
    "words = []\n",
    "\n",
    "for word in word_tokenize(corpus_4):\n",
    "    if(word.lower() not in stopwords.words('english')) and (len(word) >= 2):\n",
    "        words.append(word.lower())\n",
    "        \n",
    "for word in words:\n",
    "    word_freq[word] = word_freq[word] + 1"
   ]
  },
  {
   "cell_type": "markdown",
   "id": "38be2ac8",
   "metadata": {},
   "source": [
    "## Creating Dataframe for Sorting"
   ]
  },
  {
   "cell_type": "code",
   "execution_count": 59,
   "id": "dde029e3",
   "metadata": {},
   "outputs": [],
   "source": [
    "data = []\n",
    "\n",
    "for key in word_freq.keys():\n",
    "    data.append([key, word_freq[key]])\n",
    "    \n",
    "df = pd.DataFrame(data, columns= ['word','freq'])"
   ]
  },
  {
   "cell_type": "code",
   "execution_count": 60,
   "id": "7b1304e0",
   "metadata": {},
   "outputs": [
    {
     "data": {
      "text/html": [
       "<div>\n",
       "<style scoped>\n",
       "    .dataframe tbody tr th:only-of-type {\n",
       "        vertical-align: middle;\n",
       "    }\n",
       "\n",
       "    .dataframe tbody tr th {\n",
       "        vertical-align: top;\n",
       "    }\n",
       "\n",
       "    .dataframe thead th {\n",
       "        text-align: right;\n",
       "    }\n",
       "</style>\n",
       "<table border=\"1\" class=\"dataframe\">\n",
       "  <thead>\n",
       "    <tr style=\"text-align: right;\">\n",
       "      <th></th>\n",
       "      <th>word</th>\n",
       "      <th>freq</th>\n",
       "    </tr>\n",
       "  </thead>\n",
       "  <tbody>\n",
       "    <tr>\n",
       "      <th>30</th>\n",
       "      <td>hawking</td>\n",
       "      <td>4</td>\n",
       "    </tr>\n",
       "    <tr>\n",
       "      <th>26</th>\n",
       "      <td>radiation</td>\n",
       "      <td>3</td>\n",
       "    </tr>\n",
       "    <tr>\n",
       "      <th>41</th>\n",
       "      <td>theory</td>\n",
       "      <td>2</td>\n",
       "    </tr>\n",
       "  </tbody>\n",
       "</table>\n",
       "</div>"
      ],
      "text/plain": [
       "         word  freq\n",
       "30    hawking     4\n",
       "26  radiation     3\n",
       "41     theory     2"
      ]
     },
     "execution_count": 60,
     "metadata": {},
     "output_type": "execute_result"
    }
   ],
   "source": [
    "df.sort_values(by = 'freq', ascending = False).head(3)"
   ]
  }
 ],
 "metadata": {
  "kernelspec": {
   "display_name": "Python 3 (ipykernel)",
   "language": "python",
   "name": "python3"
  },
  "language_info": {
   "codemirror_mode": {
    "name": "ipython",
    "version": 3
   },
   "file_extension": ".py",
   "mimetype": "text/x-python",
   "name": "python",
   "nbconvert_exporter": "python",
   "pygments_lexer": "ipython3",
   "version": "3.9.7"
  }
 },
 "nbformat": 4,
 "nbformat_minor": 5
}
