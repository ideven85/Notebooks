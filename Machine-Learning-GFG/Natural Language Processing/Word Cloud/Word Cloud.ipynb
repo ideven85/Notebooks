{
 "cells": [
  {
   "cell_type": "code",
   "execution_count": 126,
   "id": "16ea4d9f",
   "metadata": {
    "scrolled": true
   },
   "outputs": [],
   "source": [
    "from nltk.tokenize import word_tokenize, sent_tokenize\n",
    "from nltk.corpus import stopwords\n",
    "\n",
    "\n",
    "corpus = 'India, officially the Republic of India, is a country in South Asia. It is the seventh-largest country by area, the second-most populous country, and the most populous democracy in the world. Bounded by the Indian Ocean on the south, the Arabian Sea on the southwest, and the Bay of Bengal on the southeast, it shares land borders with Pakistan to the west; China, Nepal, and Bhutan to the north; and Bangladesh and Myanmar to the east. In the Indian Ocean, India is in the vicinity of Sri Lanka and the Maldives; its Andaman and Nicobar Islands share a maritime border with Thailand, Myanmar and Indonesia.'"
   ]
  },
  {
   "cell_type": "markdown",
   "id": "22254df3",
   "metadata": {},
   "source": [
    "## Stop Word Removal"
   ]
  },
  {
   "cell_type": "code",
   "execution_count": 127,
   "id": "35160f90",
   "metadata": {},
   "outputs": [],
   "source": [
    "words = []\n",
    "\n",
    "for word in word_tokenize(corpus):\n",
    "    if (word.lower() not in stopwords.words('english')) and (len(word) >= 2):\n",
    "        words.append(word.lower())"
   ]
  },
  {
   "cell_type": "markdown",
   "id": "fd6581be",
   "metadata": {},
   "source": [
    "## Creating Vocab"
   ]
  },
  {
   "cell_type": "code",
   "execution_count": 128,
   "id": "ac5ef77f",
   "metadata": {},
   "outputs": [],
   "source": [
    "vocab = list(set(words))"
   ]
  },
  {
   "cell_type": "code",
   "execution_count": 129,
   "id": "57d1733f",
   "metadata": {
    "scrolled": true
   },
   "outputs": [
    {
     "data": {
      "text/plain": [
       "45"
      ]
     },
     "execution_count": 129,
     "metadata": {},
     "output_type": "execute_result"
    }
   ],
   "source": [
    "len(vocab)"
   ]
  },
  {
   "cell_type": "markdown",
   "id": "e02ba788",
   "metadata": {},
   "source": [
    "## Creating Encoders and Decoders"
   ]
  },
  {
   "cell_type": "code",
   "execution_count": null,
   "id": "4eeb0fe9",
   "metadata": {},
   "outputs": [],
   "source": [
    "'this is a car'\n",
    "\n",
    "# this = 1\n",
    "# is = 2\n",
    "# a = 3 \n",
    "# car = 4\n",
    "\n",
    "# 1 2 3 4 (this is a car)\n",
    "# 2 1 3 4 (is this a car)"
   ]
  },
  {
   "cell_type": "code",
   "execution_count": 141,
   "id": "88a5e477",
   "metadata": {},
   "outputs": [],
   "source": [
    "num = 1\n",
    "\n",
    "word_to_num = {}\n",
    "num_to_word = {}\n",
    "\n",
    "for word in vocab:\n",
    "    word_to_num[word] = num\n",
    "    num_to_word[num] = word\n",
    "    num += 1"
   ]
  },
  {
   "cell_type": "code",
   "execution_count": 145,
   "id": "0cc13e4b",
   "metadata": {},
   "outputs": [
    {
     "data": {
      "text/plain": [
       "30"
      ]
     },
     "execution_count": 145,
     "metadata": {},
     "output_type": "execute_result"
    }
   ],
   "source": [
    "word_to_num['islands']"
   ]
  },
  {
   "cell_type": "code",
   "execution_count": 144,
   "id": "b1195ee3",
   "metadata": {},
   "outputs": [
    {
     "data": {
      "text/plain": [
       "'islands'"
      ]
     },
     "execution_count": 144,
     "metadata": {},
     "output_type": "execute_result"
    }
   ],
   "source": [
    "num_to_word[30]"
   ]
  },
  {
   "cell_type": "code",
   "execution_count": 148,
   "id": "1eab1a57",
   "metadata": {
    "scrolled": true
   },
   "outputs": [
    {
     "data": {
      "text/plain": [
       "['India',\n",
       " ',',\n",
       " 'officially',\n",
       " 'the',\n",
       " 'Republic',\n",
       " 'of',\n",
       " 'India',\n",
       " ',',\n",
       " 'is',\n",
       " 'a',\n",
       " 'country',\n",
       " 'in',\n",
       " 'South',\n",
       " 'Asia',\n",
       " '.']"
      ]
     },
     "execution_count": 148,
     "metadata": {},
     "output_type": "execute_result"
    }
   ],
   "source": [
    "word_tokenize(sent_tokenize(corpus)[0])"
   ]
  },
  {
   "cell_type": "code",
   "execution_count": 155,
   "id": "9fb64ba7",
   "metadata": {},
   "outputs": [
    {
     "data": {
      "text/plain": [
       "17"
      ]
     },
     "execution_count": 155,
     "metadata": {},
     "output_type": "execute_result"
    }
   ],
   "source": [
    "word_to_num['asia']"
   ]
  },
  {
   "cell_type": "code",
   "execution_count": null,
   "id": "f38a6331",
   "metadata": {},
   "outputs": [],
   "source": [
    "['india', 'officially','republic','india','country','south','asia']"
   ]
  },
  {
   "cell_type": "code",
   "execution_count": 160,
   "id": "f06a4abe",
   "metadata": {},
   "outputs": [
    {
     "name": "stdout",
     "output_type": "stream",
     "text": [
      "india\n",
      "officially\n",
      "republic\n",
      "india\n",
      "country\n",
      "south\n",
      "asia\n"
     ]
    }
   ],
   "source": [
    "for i in [29,39,42,29,13,35,17]:\n",
    "    print(num_to_word[i])"
   ]
  },
  {
   "cell_type": "code",
   "execution_count": 157,
   "id": "8977735d",
   "metadata": {},
   "outputs": [
    {
     "data": {
      "text/plain": [
       "{1: 'southwest',\n",
       " 2: 'border',\n",
       " 3: 'bangladesh',\n",
       " 4: 'sri',\n",
       " 5: 'second-most',\n",
       " 6: 'bay',\n",
       " 7: 'vicinity',\n",
       " 8: 'nicobar',\n",
       " 9: 'nepal',\n",
       " 10: 'east',\n",
       " 11: 'china',\n",
       " 12: 'maritime',\n",
       " 13: 'country',\n",
       " 14: 'pakistan',\n",
       " 15: 'land',\n",
       " 16: 'share',\n",
       " 17: 'asia',\n",
       " 18: 'democracy',\n",
       " 19: 'arabian',\n",
       " 20: 'southeast',\n",
       " 21: 'bhutan',\n",
       " 22: 'borders',\n",
       " 23: 'area',\n",
       " 24: 'north',\n",
       " 25: 'maldives',\n",
       " 26: 'sea',\n",
       " 27: 'lanka',\n",
       " 28: 'indian',\n",
       " 29: 'india',\n",
       " 30: 'islands',\n",
       " 31: 'indonesia',\n",
       " 32: 'seventh-largest',\n",
       " 33: 'myanmar',\n",
       " 34: 'andaman',\n",
       " 35: 'south',\n",
       " 36: 'ocean',\n",
       " 37: 'world',\n",
       " 38: 'populous',\n",
       " 39: 'officially',\n",
       " 40: 'bounded',\n",
       " 41: 'shares',\n",
       " 42: 'republic',\n",
       " 43: 'west',\n",
       " 44: 'bengal',\n",
       " 45: 'thailand'}"
      ]
     },
     "execution_count": 157,
     "metadata": {},
     "output_type": "execute_result"
    }
   ],
   "source": [
    "for num_to_word"
   ]
  },
  {
   "cell_type": "code",
   "execution_count": null,
   "id": "4f0dae65",
   "metadata": {},
   "outputs": [],
   "source": []
  }
 ],
 "metadata": {
  "kernelspec": {
   "display_name": "Python 3 (ipykernel)",
   "language": "python",
   "name": "python3"
  },
  "language_info": {
   "codemirror_mode": {
    "name": "ipython",
    "version": 3
   },
   "file_extension": ".py",
   "mimetype": "text/x-python",
   "name": "python",
   "nbconvert_exporter": "python",
   "pygments_lexer": "ipython3",
   "version": "3.9.7"
  }
 },
 "nbformat": 4,
 "nbformat_minor": 5
}
