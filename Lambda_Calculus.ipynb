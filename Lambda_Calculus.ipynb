{
 "cells": [
  {
   "cell_type": "code",
   "execution_count": 1,
   "id": "9389d47c",
   "metadata": {
    "ExecuteTime": {
     "end_time": "2023-05-12T20:02:06.482482Z",
     "start_time": "2023-05-12T20:02:06.475399Z"
    }
   },
   "outputs": [],
   "source": [
    "run = lambda x:lambda y:x+y"
   ]
  },
  {
   "cell_type": "code",
   "execution_count": 2,
   "id": "8aa5b596",
   "metadata": {
    "ExecuteTime": {
     "end_time": "2023-05-12T20:02:06.484866Z",
     "start_time": "2023-05-12T20:02:06.482964Z"
    }
   },
   "outputs": [],
   "source": [
    "z = run(5)(6)"
   ]
  },
  {
   "cell_type": "code",
   "execution_count": 3,
   "id": "e93e1d5b",
   "metadata": {
    "ExecuteTime": {
     "end_time": "2023-05-12T20:02:06.492940Z",
     "start_time": "2023-05-12T20:02:06.486969Z"
    }
   },
   "outputs": [
    {
     "data": {
      "text/plain": "11"
     },
     "execution_count": 3,
     "metadata": {},
     "output_type": "execute_result"
    }
   ],
   "source": [
    "z"
   ]
  },
  {
   "cell_type": "code",
   "execution_count": 1,
   "id": "7be46de9",
   "metadata": {
    "ExecuteTime": {
     "end_time": "2023-05-12T19:20:49.791032Z",
     "start_time": "2023-05-12T19:20:49.786752Z"
    }
   },
   "outputs": [],
   "source": [
    "add = lambda x: lambda y: x+y"
   ]
  },
  {
   "cell_type": "code",
   "execution_count": 2,
   "id": "e372553d",
   "metadata": {
    "ExecuteTime": {
     "end_time": "2023-05-12T19:20:57.198516Z",
     "start_time": "2023-05-12T19:20:57.187883Z"
    }
   },
   "outputs": [
    {
     "data": {
      "text/plain": [
       "7"
      ]
     },
     "execution_count": 2,
     "metadata": {},
     "output_type": "execute_result"
    }
   ],
   "source": [
    "add(3)(4)"
   ]
  },
  {
   "cell_type": "code",
   "execution_count": null,
   "id": "b3d9b499",
   "metadata": {},
   "outputs": [],
   "source": [
    "multAdd = "
   ]
  }
 ],
 "metadata": {
  "hide_input": false,
  "kernelspec": {
   "display_name": "Python 3 (ipykernel)",
   "language": "python",
   "name": "python3"
  },
  "language_info": {
   "codemirror_mode": {
    "name": "ipython",
    "version": 3
   },
   "file_extension": ".py",
   "mimetype": "text/x-python",
   "name": "python",
   "nbconvert_exporter": "python",
   "pygments_lexer": "ipython3",
   "version": "3.11.3"
  },
  "toc": {
   "base_numbering": 1,
   "nav_menu": {},
   "number_sections": true,
   "sideBar": true,
   "skip_h1_title": false,
   "title_cell": "Table of Contents",
   "title_sidebar": "Contents",
   "toc_cell": false,
   "toc_position": {},
   "toc_section_display": true,
   "toc_window_display": false
  },
  "varInspector": {
   "cols": {
    "lenName": 16,
    "lenType": 16,
    "lenVar": 40
   },
   "kernels_config": {
    "python": {
     "delete_cmd_postfix": "",
     "delete_cmd_prefix": "del ",
     "library": "var_list.py",
     "varRefreshCmd": "print(var_dic_list())"
    },
    "r": {
     "delete_cmd_postfix": ") ",
     "delete_cmd_prefix": "rm(",
     "library": "var_list.r",
     "varRefreshCmd": "cat(var_dic_list()) "
    }
   },
   "types_to_exclude": [
    "module",
    "function",
    "builtin_function_or_method",
    "instance",
    "_Feature"
   ],
   "window_display": false
  }
 },
 "nbformat": 4,
 "nbformat_minor": 5
}
