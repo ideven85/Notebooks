{
 "cells": [
  {
   "cell_type": "code",
   "execution_count": 1,
   "id": "8a63706f",
   "metadata": {
    "ExecuteTime": {
     "end_time": "2024-02-26T18:18:25.877423Z",
     "start_time": "2024-02-26T18:18:25.823228Z"
    }
   },
   "outputs": [],
   "source": [
    "import requests"
   ]
  },
  {
   "cell_type": "code",
   "execution_count": 2,
   "id": "4212c0fe",
   "metadata": {
    "ExecuteTime": {
     "end_time": "2024-02-26T18:21:35.452810Z",
     "start_time": "2024-02-26T18:21:35.447853Z"
    }
   },
   "outputs": [],
   "source": [
    "# Definition for a binary tree node.\n",
    "class TreeNode:\n",
    "    def __init__(self, val=0, left=None, right=None):\n",
    "        self.val = val\n",
    "        self.left = left\n",
    "        self.right = right\n",
    "\n",
    "        "
   ]
  },
  {
   "cell_type": "code",
   "execution_count": 3,
   "id": "b56be99a",
   "metadata": {
    "ExecuteTime": {
     "end_time": "2024-02-26T18:22:52.168138Z",
     "start_time": "2024-02-26T18:22:52.164370Z"
    }
   },
   "outputs": [],
   "source": [
    "def insert(root:TreeNode,val):\n",
    "    if not root:\n",
    "        root = TreeNode(val)\n",
    "    elif val<root.val:\n",
    "        root.left=insert(root.left,val)\n",
    "    elif val>root.val:\n",
    "        root.right=insert(root.right,val)\n",
    "    return root"
   ]
  },
  {
   "cell_type": "code",
   "execution_count": 22,
   "id": "0c2df653",
   "metadata": {
    "ExecuteTime": {
     "end_time": "2024-02-26T18:29:07.656588Z",
     "start_time": "2024-02-26T18:29:07.652499Z"
    }
   },
   "outputs": [],
   "source": [
    "from typing import Optional\n",
    "class Solution:\n",
    "    def isSameTree(self, p: Optional[TreeNode], q: Optional[TreeNode]) -> bool:\n",
    "        if not p and not q:\n",
    "            return True\n",
    "        if (not p) or (not q):\n",
    "            return False\n",
    "        \n",
    "        return p.val == q.val and self.isSameTree(p.left,q.left) and self.isSameTree(p.right,q.right)\n",
    "        "
   ]
  },
  {
   "cell_type": "code",
   "execution_count": 18,
   "id": "9137709c",
   "metadata": {
    "ExecuteTime": {
     "end_time": "2024-02-26T18:27:35.102315Z",
     "start_time": "2024-02-26T18:27:35.098055Z"
    }
   },
   "outputs": [
    {
     "data": {
      "text/plain": [
       "<__main__.TreeNode at 0x112c91040>"
      ]
     },
     "execution_count": 18,
     "metadata": {},
     "output_type": "execute_result"
    }
   ],
   "source": [
    "root = TreeNode(10)\n",
    "insert(root,5)\n",
    "insert(root,2)\n",
    "insert(root,6)\n",
    "insert(root,15)"
   ]
  },
  {
   "cell_type": "code",
   "execution_count": 23,
   "id": "02742521",
   "metadata": {
    "ExecuteTime": {
     "end_time": "2024-02-26T18:29:11.951234Z",
     "start_time": "2024-02-26T18:29:11.947948Z"
    }
   },
   "outputs": [],
   "source": [
    "def inOrder(root):\n",
    "    if root:\n",
    "        print(root.val,end=' ')\n",
    "        inOrder(root.left)\n",
    "        inOrder(root.right)"
   ]
  },
  {
   "cell_type": "code",
   "execution_count": 24,
   "id": "cd80c532",
   "metadata": {
    "ExecuteTime": {
     "end_time": "2024-02-26T18:29:12.510369Z",
     "start_time": "2024-02-26T18:29:12.507329Z"
    }
   },
   "outputs": [
    {
     "name": "stdout",
     "output_type": "stream",
     "text": [
      "10 5 2 6 15 "
     ]
    }
   ],
   "source": [
    "inOrder(root)"
   ]
  },
  {
   "cell_type": "code",
   "execution_count": 25,
   "id": "7b0dcba2",
   "metadata": {
    "ExecuteTime": {
     "end_time": "2024-02-26T18:29:13.242513Z",
     "start_time": "2024-02-26T18:29:13.239379Z"
    }
   },
   "outputs": [
    {
     "name": "stdout",
     "output_type": "stream",
     "text": [
      "True\n"
     ]
    }
   ],
   "source": [
    "sol=Solution()\n",
    "print(sol.isSameTree(root,root))"
   ]
  },
  {
   "cell_type": "code",
   "execution_count": null,
   "id": "66c7547d",
   "metadata": {},
   "outputs": [],
   "source": []
  }
 ],
 "metadata": {
  "hide_input": false,
  "kernelspec": {
   "display_name": "Python 3 (ipykernel)",
   "language": "python",
   "name": "python3"
  },
  "language_info": {
   "codemirror_mode": {
    "name": "ipython",
    "version": 3
   },
   "file_extension": ".py",
   "mimetype": "text/x-python",
   "name": "python",
   "nbconvert_exporter": "python",
   "pygments_lexer": "ipython3",
   "version": "3.12.2"
  },
  "toc": {
   "base_numbering": 1,
   "nav_menu": {},
   "number_sections": true,
   "sideBar": true,
   "skip_h1_title": false,
   "title_cell": "Table of Contents",
   "title_sidebar": "Contents",
   "toc_cell": false,
   "toc_position": {},
   "toc_section_display": true,
   "toc_window_display": false
  },
  "varInspector": {
   "cols": {
    "lenName": 16,
    "lenType": 16,
    "lenVar": 40
   },
   "kernels_config": {
    "python": {
     "delete_cmd_postfix": "",
     "delete_cmd_prefix": "del ",
     "library": "var_list.py",
     "varRefreshCmd": "print(var_dic_list())"
    },
    "r": {
     "delete_cmd_postfix": ") ",
     "delete_cmd_prefix": "rm(",
     "library": "var_list.r",
     "varRefreshCmd": "cat(var_dic_list()) "
    }
   },
   "types_to_exclude": [
    "module",
    "function",
    "builtin_function_or_method",
    "instance",
    "_Feature"
   ],
   "window_display": false
  }
 },
 "nbformat": 4,
 "nbformat_minor": 5
}
