{
 "cells": [
  {
   "cell_type": "code",
   "id": "initial_id",
   "metadata": {
    "collapsed": true,
    "ExecuteTime": {
     "end_time": "2024-12-07T23:41:26.386840Z",
     "start_time": "2024-12-07T23:41:26.383791Z"
    }
   },
   "source": [
    "import os\n",
    "from pathlib import Path\n",
    "BASE_DIR = Path(__name__).resolve().parent.parent.parent\n",
    "\n",
    "data = \"Coronavirus disease 2019 (COVID-19) is a contagious disease caused by severe acute respiratory syndrome coronavirus 2 (SARS-CoV-2). The first known case was identified in Wuhan, China, in December 2019.[7] The disease has since spread worldwide, leading to an ongoing pandemic.[8]\\n\\nSymptoms of COVID-19 are variable, but often include fever,[9] cough, headache,[10] fatigue, breathing difficulties, and loss of smell and taste.[11][12][13] Symptoms may begin one to fourteen days after exposure to the virus. At least a third of people who are infected do not develop noticeable symptoms.[14] Of those people who develop symptoms noticeable enough to be classed as patients, most (81%) develop mild to moderate symptoms (up to mild pneumonia), while 14% develop severe symptoms (dyspnea, hypoxia, or more than 50% lung involvement on imaging), and 5% suffer critical symptoms (respiratory failure, shock, or multi-organ dysfunction).[15] Older people are at a higher risk of developing severe symptoms. Some people continue to experience a range of effects (long COVID) for months after recovery, and damage to organs has been observed.[16] Multi-year studies are underway to further investigate the long-term effects of the disease.[16]\\n\\nCOVID-19 transmits when people breathe in air contaminated by droplets and small airborne particles containing the virus. The risk of breathing these in is highest when people are in close proximity, but they can be inhaled over longer distances, particularly indoors. Transmission can also occur if splashed or sprayed with contaminated fluids in the eyes, nose or mouth, and, rarely, via contaminated surfaces. People remain contagious for up to 20 days, and can spread the virus even if they do not develop symptoms.[17][18]\\n\\nSeveral testing methods have been developed to diagnose the disease. The standard diagnostic method is by detection of the virus' nucleic acid by real-time reverse transcription polymerase chain reaction (rRT-PCR), transcription-mediated amplification (TMA), or by reverse transcription loop-mediated isothermal amplification (RT-LAMP) from a nasopharyngeal swab.\\n\\nPreventive measures include physical or social distancing, quarantining, ventilation of indoor spaces, covering coughs and sneezes, hand washing, and keeping unwashed hands away from the face. The use of face masks or coverings has been recommended in public settings to minimise the risk of transmissions.\\n\\nWhile work is underway to develop drugs that inhibit the virus (and several vaccines for it have been approved and distributed in various countries, which have since initiated mass vaccination campaigns), the primary treatment is symptomatic. Management involves the treatment of symptoms, supportive care, isolation, and experimental measures.\"\n",
    "\n"
   ],
   "outputs": [],
   "execution_count": 1
  },
  {
   "metadata": {
    "ExecuteTime": {
     "end_time": "2024-12-07T23:36:30.977696Z",
     "start_time": "2024-12-07T23:36:30.975247Z"
    }
   },
   "cell_type": "code",
   "source": "data_dir = BASE_DIR/\"datasets/text_processing\"",
   "id": "91ce5477b967e51c",
   "outputs": [],
   "execution_count": 2
  },
  {
   "metadata": {
    "ExecuteTime": {
     "end_time": "2024-12-07T23:36:31.823916Z",
     "start_time": "2024-12-07T23:36:31.818396Z"
    }
   },
   "cell_type": "code",
   "source": "type(data_dir)",
   "id": "16332194ca0de16c",
   "outputs": [
    {
     "data": {
      "text/plain": [
       "pathlib.PosixPath"
      ]
     },
     "execution_count": 3,
     "metadata": {},
     "output_type": "execute_result"
    }
   ],
   "execution_count": 3
  },
  {
   "metadata": {
    "ExecuteTime": {
     "end_time": "2024-12-07T23:36:32.399246Z",
     "start_time": "2024-12-07T23:36:32.395677Z"
    }
   },
   "cell_type": "code",
   "source": "os.path.abspath(data_dir)",
   "id": "28a6c80a4eccdf4d",
   "outputs": [
    {
     "data": {
      "text/plain": [
       "'/Users/deven/Desktop/ Geeks_For_Geeks_Machine_Learning_Course/Notebooks/datasets/text_processing'"
      ]
     },
     "execution_count": 4,
     "metadata": {},
     "output_type": "execute_result"
    }
   ],
   "execution_count": 4
  },
  {
   "metadata": {
    "ExecuteTime": {
     "end_time": "2024-12-07T23:36:32.878485Z",
     "start_time": "2024-12-07T23:36:32.875277Z"
    }
   },
   "cell_type": "code",
   "source": [
    "with open(data_dir/'data.txt','w') as f:\n",
    "    f.write(data)"
   ],
   "id": "bdc90382c4ed24c9",
   "outputs": [],
   "execution_count": 5
  },
  {
   "metadata": {
    "ExecuteTime": {
     "end_time": "2024-12-07T23:36:33.509245Z",
     "start_time": "2024-12-07T23:36:33.506202Z"
    }
   },
   "cell_type": "code",
   "source": "per = data.split(\"\\n\\n\")",
   "id": "844bc604f394d5a5",
   "outputs": [],
   "execution_count": 6
  },
  {
   "metadata": {
    "ExecuteTime": {
     "end_time": "2024-12-07T23:36:33.890506Z",
     "start_time": "2024-12-07T23:36:33.888299Z"
    }
   },
   "cell_type": "code",
   "source": "len(per)",
   "id": "10d99645f208035d",
   "outputs": [
    {
     "data": {
      "text/plain": [
       "6"
      ]
     },
     "execution_count": 7,
     "metadata": {},
     "output_type": "execute_result"
    }
   ],
   "execution_count": 7
  },
  {
   "metadata": {
    "ExecuteTime": {
     "end_time": "2024-12-07T23:36:34.332598Z",
     "start_time": "2024-12-07T23:36:34.329942Z"
    }
   },
   "cell_type": "code",
   "source": "per",
   "id": "64e838c46a1774e2",
   "outputs": [
    {
     "data": {
      "text/plain": [
       "['Coronavirus disease 2019 (COVID-19) is a contagious disease caused by severe acute respiratory syndrome coronavirus 2 (SARS-CoV-2). The first known case was identified in Wuhan, China, in December 2019.[7] The disease has since spread worldwide, leading to an ongoing pandemic.[8]',\n",
       " 'Symptoms of COVID-19 are variable, but often include fever,[9] cough, headache,[10] fatigue, breathing difficulties, and loss of smell and taste.[11][12][13] Symptoms may begin one to fourteen days after exposure to the virus. At least a third of people who are infected do not develop noticeable symptoms.[14] Of those people who develop symptoms noticeable enough to be classed as patients, most (81%) develop mild to moderate symptoms (up to mild pneumonia), while 14% develop severe symptoms (dyspnea, hypoxia, or more than 50% lung involvement on imaging), and 5% suffer critical symptoms (respiratory failure, shock, or multi-organ dysfunction).[15] Older people are at a higher risk of developing severe symptoms. Some people continue to experience a range of effects (long COVID) for months after recovery, and damage to organs has been observed.[16] Multi-year studies are underway to further investigate the long-term effects of the disease.[16]',\n",
       " 'COVID-19 transmits when people breathe in air contaminated by droplets and small airborne particles containing the virus. The risk of breathing these in is highest when people are in close proximity, but they can be inhaled over longer distances, particularly indoors. Transmission can also occur if splashed or sprayed with contaminated fluids in the eyes, nose or mouth, and, rarely, via contaminated surfaces. People remain contagious for up to 20 days, and can spread the virus even if they do not develop symptoms.[17][18]',\n",
       " \"Several testing methods have been developed to diagnose the disease. The standard diagnostic method is by detection of the virus' nucleic acid by real-time reverse transcription polymerase chain reaction (rRT-PCR), transcription-mediated amplification (TMA), or by reverse transcription loop-mediated isothermal amplification (RT-LAMP) from a nasopharyngeal swab.\",\n",
       " 'Preventive measures include physical or social distancing, quarantining, ventilation of indoor spaces, covering coughs and sneezes, hand washing, and keeping unwashed hands away from the face. The use of face masks or coverings has been recommended in public settings to minimise the risk of transmissions.',\n",
       " 'While work is underway to develop drugs that inhibit the virus (and several vaccines for it have been approved and distributed in various countries, which have since initiated mass vaccination campaigns), the primary treatment is symptomatic. Management involves the treatment of symptoms, supportive care, isolation, and experimental measures.']"
      ]
     },
     "execution_count": 8,
     "metadata": {},
     "output_type": "execute_result"
    }
   ],
   "execution_count": 8
  },
  {
   "metadata": {
    "ExecuteTime": {
     "end_time": "2024-12-07T23:36:34.840196Z",
     "start_time": "2024-12-07T23:36:34.836783Z"
    }
   },
   "cell_type": "code",
   "source": [
    "lines = data.split(\".\")\n",
    "len(lines)"
   ],
   "id": "aefe8c7ddad416ee",
   "outputs": [
    {
     "data": {
      "text/plain": [
       "21"
      ]
     },
     "execution_count": 9,
     "metadata": {},
     "output_type": "execute_result"
    }
   ],
   "execution_count": 9
  },
  {
   "metadata": {
    "ExecuteTime": {
     "end_time": "2024-12-07T23:36:35.238446Z",
     "start_time": "2024-12-07T23:36:35.236084Z"
    }
   },
   "cell_type": "code",
   "source": "len(lines[1:])",
   "id": "561815cd59e756b",
   "outputs": [
    {
     "data": {
      "text/plain": [
       "20"
      ]
     },
     "execution_count": 10,
     "metadata": {},
     "output_type": "execute_result"
    }
   ],
   "execution_count": 10
  },
  {
   "metadata": {
    "ExecuteTime": {
     "end_time": "2024-12-07T23:36:35.683808Z",
     "start_time": "2024-12-07T23:36:35.681452Z"
    }
   },
   "cell_type": "code",
   "source": [
    "data1 = data[:]\n",
    "for i in range(7,19):\n",
    "    pattern = \"[\"+str(i)+\"]\"\n",
    "    data1 = data1.replace(pattern,\"\")\n",
    "print(data1)"
   ],
   "id": "8e44c09cbb48d2f4",
   "outputs": [
    {
     "name": "stdout",
     "output_type": "stream",
     "text": [
      "Coronavirus disease 2019 (COVID-19) is a contagious disease caused by severe acute respiratory syndrome coronavirus 2 (SARS-CoV-2). The first known case was identified in Wuhan, China, in December 2019. The disease has since spread worldwide, leading to an ongoing pandemic.\n",
      "\n",
      "Symptoms of COVID-19 are variable, but often include fever, cough, headache, fatigue, breathing difficulties, and loss of smell and taste. Symptoms may begin one to fourteen days after exposure to the virus. At least a third of people who are infected do not develop noticeable symptoms. Of those people who develop symptoms noticeable enough to be classed as patients, most (81%) develop mild to moderate symptoms (up to mild pneumonia), while 14% develop severe symptoms (dyspnea, hypoxia, or more than 50% lung involvement on imaging), and 5% suffer critical symptoms (respiratory failure, shock, or multi-organ dysfunction). Older people are at a higher risk of developing severe symptoms. Some people continue to experience a range of effects (long COVID) for months after recovery, and damage to organs has been observed. Multi-year studies are underway to further investigate the long-term effects of the disease.\n",
      "\n",
      "COVID-19 transmits when people breathe in air contaminated by droplets and small airborne particles containing the virus. The risk of breathing these in is highest when people are in close proximity, but they can be inhaled over longer distances, particularly indoors. Transmission can also occur if splashed or sprayed with contaminated fluids in the eyes, nose or mouth, and, rarely, via contaminated surfaces. People remain contagious for up to 20 days, and can spread the virus even if they do not develop symptoms.\n",
      "\n",
      "Several testing methods have been developed to diagnose the disease. The standard diagnostic method is by detection of the virus' nucleic acid by real-time reverse transcription polymerase chain reaction (rRT-PCR), transcription-mediated amplification (TMA), or by reverse transcription loop-mediated isothermal amplification (RT-LAMP) from a nasopharyngeal swab.\n",
      "\n",
      "Preventive measures include physical or social distancing, quarantining, ventilation of indoor spaces, covering coughs and sneezes, hand washing, and keeping unwashed hands away from the face. The use of face masks or coverings has been recommended in public settings to minimise the risk of transmissions.\n",
      "\n",
      "While work is underway to develop drugs that inhibit the virus (and several vaccines for it have been approved and distributed in various countries, which have since initiated mass vaccination campaigns), the primary treatment is symptomatic. Management involves the treatment of symptoms, supportive care, isolation, and experimental measures.\n"
     ]
    }
   ],
   "execution_count": 11
  },
  {
   "metadata": {
    "ExecuteTime": {
     "end_time": "2024-12-07T23:36:36.607707Z",
     "start_time": "2024-12-07T23:36:36.604999Z"
    }
   },
   "cell_type": "code",
   "source": "data=data1",
   "id": "877f01a1269e9cb6",
   "outputs": [],
   "execution_count": 12
  },
  {
   "metadata": {
    "ExecuteTime": {
     "end_time": "2024-12-07T23:36:36.994190Z",
     "start_time": "2024-12-07T23:36:36.991815Z"
    }
   },
   "cell_type": "code",
   "source": [
    "for x in \"!@#$%^\":\n",
    "    data.replace(x,\"\")"
   ],
   "id": "3ffd835a3b98a352",
   "outputs": [],
   "execution_count": 13
  },
  {
   "metadata": {
    "ExecuteTime": {
     "end_time": "2024-12-07T23:36:37.397234Z",
     "start_time": "2024-12-07T23:36:37.395326Z"
    }
   },
   "cell_type": "code",
   "source": "print(data)",
   "id": "3c1b913cad415c6b",
   "outputs": [
    {
     "name": "stdout",
     "output_type": "stream",
     "text": [
      "Coronavirus disease 2019 (COVID-19) is a contagious disease caused by severe acute respiratory syndrome coronavirus 2 (SARS-CoV-2). The first known case was identified in Wuhan, China, in December 2019. The disease has since spread worldwide, leading to an ongoing pandemic.\n",
      "\n",
      "Symptoms of COVID-19 are variable, but often include fever, cough, headache, fatigue, breathing difficulties, and loss of smell and taste. Symptoms may begin one to fourteen days after exposure to the virus. At least a third of people who are infected do not develop noticeable symptoms. Of those people who develop symptoms noticeable enough to be classed as patients, most (81%) develop mild to moderate symptoms (up to mild pneumonia), while 14% develop severe symptoms (dyspnea, hypoxia, or more than 50% lung involvement on imaging), and 5% suffer critical symptoms (respiratory failure, shock, or multi-organ dysfunction). Older people are at a higher risk of developing severe symptoms. Some people continue to experience a range of effects (long COVID) for months after recovery, and damage to organs has been observed. Multi-year studies are underway to further investigate the long-term effects of the disease.\n",
      "\n",
      "COVID-19 transmits when people breathe in air contaminated by droplets and small airborne particles containing the virus. The risk of breathing these in is highest when people are in close proximity, but they can be inhaled over longer distances, particularly indoors. Transmission can also occur if splashed or sprayed with contaminated fluids in the eyes, nose or mouth, and, rarely, via contaminated surfaces. People remain contagious for up to 20 days, and can spread the virus even if they do not develop symptoms.\n",
      "\n",
      "Several testing methods have been developed to diagnose the disease. The standard diagnostic method is by detection of the virus' nucleic acid by real-time reverse transcription polymerase chain reaction (rRT-PCR), transcription-mediated amplification (TMA), or by reverse transcription loop-mediated isothermal amplification (RT-LAMP) from a nasopharyngeal swab.\n",
      "\n",
      "Preventive measures include physical or social distancing, quarantining, ventilation of indoor spaces, covering coughs and sneezes, hand washing, and keeping unwashed hands away from the face. The use of face masks or coverings has been recommended in public settings to minimise the risk of transmissions.\n",
      "\n",
      "While work is underway to develop drugs that inhibit the virus (and several vaccines for it have been approved and distributed in various countries, which have since initiated mass vaccination campaigns), the primary treatment is symptomatic. Management involves the treatment of symptoms, supportive care, isolation, and experimental measures.\n"
     ]
    }
   ],
   "execution_count": 14
  },
  {
   "metadata": {
    "ExecuteTime": {
     "end_time": "2024-12-07T23:36:37.747824Z",
     "start_time": "2024-12-07T23:36:37.745936Z"
    }
   },
   "cell_type": "code",
   "source": "file = data_dir/'data.txt'",
   "id": "145ff80ed55e2410",
   "outputs": [],
   "execution_count": 15
  },
  {
   "metadata": {
    "ExecuteTime": {
     "end_time": "2024-12-07T23:36:38.169209Z",
     "start_time": "2024-12-07T23:36:38.167064Z"
    }
   },
   "cell_type": "code",
   "source": [
    "with open(file,'r') as f:\n",
    "    txt = f.read()"
   ],
   "id": "98f4b9120c364b4b",
   "outputs": [],
   "execution_count": 16
  },
  {
   "metadata": {
    "ExecuteTime": {
     "end_time": "2024-12-07T23:36:38.543304Z",
     "start_time": "2024-12-07T23:36:38.540691Z"
    }
   },
   "cell_type": "code",
   "source": "txt",
   "id": "cc59e574fac687e0",
   "outputs": [
    {
     "data": {
      "text/plain": [
       "\"Coronavirus disease 2019 (COVID-19) is a contagious disease caused by severe acute respiratory syndrome coronavirus 2 (SARS-CoV-2). The first known case was identified in Wuhan, China, in December 2019.[7] The disease has since spread worldwide, leading to an ongoing pandemic.[8]\\n\\nSymptoms of COVID-19 are variable, but often include fever,[9] cough, headache,[10] fatigue, breathing difficulties, and loss of smell and taste.[11][12][13] Symptoms may begin one to fourteen days after exposure to the virus. At least a third of people who are infected do not develop noticeable symptoms.[14] Of those people who develop symptoms noticeable enough to be classed as patients, most (81%) develop mild to moderate symptoms (up to mild pneumonia), while 14% develop severe symptoms (dyspnea, hypoxia, or more than 50% lung involvement on imaging), and 5% suffer critical symptoms (respiratory failure, shock, or multi-organ dysfunction).[15] Older people are at a higher risk of developing severe symptoms. Some people continue to experience a range of effects (long COVID) for months after recovery, and damage to organs has been observed.[16] Multi-year studies are underway to further investigate the long-term effects of the disease.[16]\\n\\nCOVID-19 transmits when people breathe in air contaminated by droplets and small airborne particles containing the virus. The risk of breathing these in is highest when people are in close proximity, but they can be inhaled over longer distances, particularly indoors. Transmission can also occur if splashed or sprayed with contaminated fluids in the eyes, nose or mouth, and, rarely, via contaminated surfaces. People remain contagious for up to 20 days, and can spread the virus even if they do not develop symptoms.[17][18]\\n\\nSeveral testing methods have been developed to diagnose the disease. The standard diagnostic method is by detection of the virus' nucleic acid by real-time reverse transcription polymerase chain reaction (rRT-PCR), transcription-mediated amplification (TMA), or by reverse transcription loop-mediated isothermal amplification (RT-LAMP) from a nasopharyngeal swab.\\n\\nPreventive measures include physical or social distancing, quarantining, ventilation of indoor spaces, covering coughs and sneezes, hand washing, and keeping unwashed hands away from the face. The use of face masks or coverings has been recommended in public settings to minimise the risk of transmissions.\\n\\nWhile work is underway to develop drugs that inhibit the virus (and several vaccines for it have been approved and distributed in various countries, which have since initiated mass vaccination campaigns), the primary treatment is symptomatic. Management involves the treatment of symptoms, supportive care, isolation, and experimental measures.\""
      ]
     },
     "execution_count": 17,
     "metadata": {},
     "output_type": "execute_result"
    }
   ],
   "execution_count": 17
  },
  {
   "metadata": {
    "ExecuteTime": {
     "end_time": "2024-12-07T23:36:39.008257Z",
     "start_time": "2024-12-07T23:36:39.005761Z"
    }
   },
   "cell_type": "code",
   "source": "txt.replace(\"\\n\\n\",\"\")",
   "id": "62cd21d2fbfa4b81",
   "outputs": [
    {
     "data": {
      "text/plain": [
       "\"Coronavirus disease 2019 (COVID-19) is a contagious disease caused by severe acute respiratory syndrome coronavirus 2 (SARS-CoV-2). The first known case was identified in Wuhan, China, in December 2019.[7] The disease has since spread worldwide, leading to an ongoing pandemic.[8]Symptoms of COVID-19 are variable, but often include fever,[9] cough, headache,[10] fatigue, breathing difficulties, and loss of smell and taste.[11][12][13] Symptoms may begin one to fourteen days after exposure to the virus. At least a third of people who are infected do not develop noticeable symptoms.[14] Of those people who develop symptoms noticeable enough to be classed as patients, most (81%) develop mild to moderate symptoms (up to mild pneumonia), while 14% develop severe symptoms (dyspnea, hypoxia, or more than 50% lung involvement on imaging), and 5% suffer critical symptoms (respiratory failure, shock, or multi-organ dysfunction).[15] Older people are at a higher risk of developing severe symptoms. Some people continue to experience a range of effects (long COVID) for months after recovery, and damage to organs has been observed.[16] Multi-year studies are underway to further investigate the long-term effects of the disease.[16]COVID-19 transmits when people breathe in air contaminated by droplets and small airborne particles containing the virus. The risk of breathing these in is highest when people are in close proximity, but they can be inhaled over longer distances, particularly indoors. Transmission can also occur if splashed or sprayed with contaminated fluids in the eyes, nose or mouth, and, rarely, via contaminated surfaces. People remain contagious for up to 20 days, and can spread the virus even if they do not develop symptoms.[17][18]Several testing methods have been developed to diagnose the disease. The standard diagnostic method is by detection of the virus' nucleic acid by real-time reverse transcription polymerase chain reaction (rRT-PCR), transcription-mediated amplification (TMA), or by reverse transcription loop-mediated isothermal amplification (RT-LAMP) from a nasopharyngeal swab.Preventive measures include physical or social distancing, quarantining, ventilation of indoor spaces, covering coughs and sneezes, hand washing, and keeping unwashed hands away from the face. The use of face masks or coverings has been recommended in public settings to minimise the risk of transmissions.While work is underway to develop drugs that inhibit the virus (and several vaccines for it have been approved and distributed in various countries, which have since initiated mass vaccination campaigns), the primary treatment is symptomatic. Management involves the treatment of symptoms, supportive care, isolation, and experimental measures.\""
      ]
     },
     "execution_count": 18,
     "metadata": {},
     "output_type": "execute_result"
    }
   ],
   "execution_count": 18
  },
  {
   "metadata": {
    "ExecuteTime": {
     "end_time": "2024-12-07T23:36:39.391436Z",
     "start_time": "2024-12-07T23:36:39.389198Z"
    }
   },
   "cell_type": "code",
   "source": [
    "txt_lst = \"[1,2]\"\n",
    "eval(txt_lst)"
   ],
   "id": "94e20fa88fe9f1ef",
   "outputs": [
    {
     "data": {
      "text/plain": [
       "[1, 2]"
      ]
     },
     "execution_count": 19,
     "metadata": {},
     "output_type": "execute_result"
    }
   ],
   "execution_count": 19
  },
  {
   "metadata": {
    "ExecuteTime": {
     "end_time": "2024-12-07T23:36:39.812072Z",
     "start_time": "2024-12-07T23:36:39.810484Z"
    }
   },
   "cell_type": "code",
   "source": "name = \"Deven\"\n",
   "id": "cfd95118696fbe40",
   "outputs": [],
   "execution_count": 20
  },
  {
   "metadata": {
    "ExecuteTime": {
     "end_time": "2024-12-07T23:36:40.278645Z",
     "start_time": "2024-12-07T23:36:40.276275Z"
    }
   },
   "cell_type": "code",
   "source": "lst=[int(x) for x in eval(txt_lst)]",
   "id": "547a69a2864ae613",
   "outputs": [],
   "execution_count": 21
  },
  {
   "metadata": {
    "ExecuteTime": {
     "end_time": "2024-12-07T23:36:41.242542Z",
     "start_time": "2024-12-07T23:36:41.239286Z"
    }
   },
   "cell_type": "code",
   "source": "lst",
   "id": "629d8f54cd4dea2f",
   "outputs": [
    {
     "data": {
      "text/plain": [
       "[1, 2]"
      ]
     },
     "execution_count": 22,
     "metadata": {},
     "output_type": "execute_result"
    }
   ],
   "execution_count": 22
  },
  {
   "metadata": {
    "ExecuteTime": {
     "end_time": "2024-12-07T23:42:31.093161Z",
     "start_time": "2024-12-07T23:42:26.698808Z"
    }
   },
   "cell_type": "code",
   "source": [
    "import spacy\n",
    "!python3 -m spacy download en_core_web_sm\n"
   ],
   "id": "e0fa629c2fd67f6a",
   "outputs": [
    {
     "name": "stdout",
     "output_type": "stream",
     "text": [
      "Collecting en-core-web-sm==3.8.0\r\n",
      "  Downloading https://github.com/explosion/spacy-models/releases/download/en_core_web_sm-3.8.0/en_core_web_sm-3.8.0-py3-none-any.whl (12.8 MB)\r\n",
      "\u001B[2K     \u001B[90m━━━━━━━━━━━━━━━━━━━━━━━━━━━━━━━━━━━━━━━━\u001B[0m \u001B[32m12.8/12.8 MB\u001B[0m \u001B[31m23.9 MB/s\u001B[0m eta \u001B[36m0:00:00\u001B[0ma \u001B[36m0:00:01\u001B[0m\r\n",
      "\u001B[?25hInstalling collected packages: en-core-web-sm\r\n",
      "Successfully installed en-core-web-sm-3.8.0\r\n",
      "\u001B[38;5;2m✔ Download and installation successful\u001B[0m\r\n",
      "You can now load the package via spacy.load('en_core_web_sm')\r\n"
     ]
    }
   ],
   "execution_count": 3
  },
  {
   "metadata": {
    "ExecuteTime": {
     "end_time": "2024-12-07T23:42:35.618234Z",
     "start_time": "2024-12-07T23:42:35.328842Z"
    }
   },
   "cell_type": "code",
   "source": [
    "nlp=spacy.load('en_core_web_sm')\n",
    "\n",
    "\n",
    "print(nlp.Defaults.stop_words)\n",
    "\n",
    "print()\n",
    "\n",
    "print(len(nlp.Defaults.stop_words))"
   ],
   "id": "3c22d462cb21600b",
   "outputs": [
    {
     "name": "stdout",
     "output_type": "stream",
     "text": [
      "{'whether', 'really', 'thence', 'put', 'perhaps', 'few', 'everyone', 'n’t', 'even', 'formerly', 'via', 'ever', 'nobody', 'has', 'keep', 'these', 'moreover', 'so', 'beside', 'whereafter', 'about', 'why', '’s', '‘ll', 'his', 'before', 'next', 'whereby', 'serious', 'every', 'hereupon', 'becomes', 'ten', 'hereafter', 'have', 'used', 'noone', 'to', 'beforehand', 'further', 'anything', 'besides', 'off', 'such', 'their', 'unless', 'over', 'which', 'can', 'down', 'thereupon', 'own', 'were', 'an', 'while', '‘re', \"'m\", 'eight', 'often', 'through', 'top', 'indeed', 'thus', '’d', 'except', 'was', 'using', 'latter', 'take', 'twelve', 'everything', 'whither', 'already', '’re', 'five', 'rather', 'cannot', 'mine', 'where', 'sometimes', \"'re\", 'somehow', \"'ve\", 'hence', 'here', 'seeming', 'nowhere', 'for', 'whoever', 'up', 'go', 'been', 'very', 'whence', 'more', 'seems', 'are', 'along', 'its', 'less', 'elsewhere', 'themselves', 'four', 'until', 'without', 'during', 'call', 'three', 'former', 'would', 'still', 'neither', 'himself', 'once', 'we', 'full', 'this', 'again', 'against', 'wherever', 'yourself', 'as', 'none', 'it', '’ve', 'ca', 'enough', 'does', 'on', 'only', 'toward', 'but', 'hundred', 'i', 'show', 'thereafter', 'onto', 'must', 'is', 'six', 'what', 'bottom', 'nine', 'never', 'across', 'however', 'all', 'whole', 'am', 'above', '‘d', 'throughout', 'amount', 'ours', 'herself', 'became', 'from', 'nothing', 'seemed', 'behind', 'just', 'whereas', 'now', 'upon', 'regarding', 'becoming', 'us', 'whenever', 'although', 'meanwhile', 'yours', 'least', 'around', 'fifty', 'anywhere', 'forty', 'because', 'any', 'same', 'a', 'not', 'my', 'those', 'per', 'someone', 'everywhere', 'with', 'whereupon', 'anyway', 'under', 'may', 'become', 'whose', 'had', 'did', \"n't\", 'almost', 'amongst', 'when', 'well', 'itself', 'then', 'no', 'ourselves', \"'d\", 'than', 'between', 'herein', 'also', 'hers', 'below', 'side', 'please', '‘ve', 'together', 'therein', 'thereby', 'various', 'eleven', 'back', 're', 'myself', 'at', 'should', 'quite', 'front', 'them', 'one', 'seem', '‘s', 'might', 'or', 'that', 'made', 'of', 'doing', 'another', 'your', 'therefore', 'sixty', 'too', 'yourselves', 'if', 'nevertheless', 'among', 'alone', 'two', 'something', 'others', 'her', 'though', 'who', 'whatever', 'somewhere', 'by', 'done', 'many', 'being', 'n‘t', \"'ll\", 'due', 'nor', 'fifteen', '’m', 'make', 'several', 'our', 'twenty', 'otherwise', 'other', \"'s\", 'how', 'third', 'each', 'always', 'do', 'in', 'namely', '‘m', 'anyone', 'wherein', 'sometime', 'he', 'yet', 'thru', 'afterwards', 'else', 'out', 'say', 'give', 'into', 'since', 'either', 'will', 'me', 'move', 'him', 'first', 'hereby', 'empty', 'towards', 'they', 'much', 'get', 'you', 'whom', '’ll', 'both', 'see', 'anyhow', 'could', 'name', 'most', 'some', 'after', 'last', 'beyond', 'the', 'be', 'she', 'mostly', 'part', 'within', 'and', 'latterly', 'there'}\n",
      "\n",
      "326\n"
     ]
    }
   ],
   "execution_count": 4
  },
  {
   "metadata": {
    "ExecuteTime": {
     "end_time": "2024-12-07T23:44:10.517718Z",
     "start_time": "2024-12-07T23:44:10.515836Z"
    }
   },
   "cell_type": "code",
   "source": [
    "if 'done' in nlp.Defaults.stop_words:\n",
    "    nlp.Defaults.stop_words.remove('done')"
   ],
   "id": "c6a736d1e9a8f75",
   "outputs": [],
   "execution_count": 5
  },
  {
   "metadata": {
    "ExecuteTime": {
     "end_time": "2024-12-07T23:44:21.755679Z",
     "start_time": "2024-12-07T23:44:21.751237Z"
    }
   },
   "cell_type": "code",
   "source": "len(nlp.Defaults.stop_words)",
   "id": "1ecb51f7145eb285",
   "outputs": [
    {
     "data": {
      "text/plain": [
       "325"
      ]
     },
     "execution_count": 6,
     "metadata": {},
     "output_type": "execute_result"
    }
   ],
   "execution_count": 6
  },
  {
   "metadata": {
    "ExecuteTime": {
     "end_time": "2024-12-07T23:45:04.957015Z",
     "start_time": "2024-12-07T23:45:04.955199Z"
    }
   },
   "cell_type": "code",
   "source": "print(nlp.vocab['DONE'].is_stop)",
   "id": "e50b0f3be2bc5b16",
   "outputs": [
    {
     "name": "stdout",
     "output_type": "stream",
     "text": [
      "False\n"
     ]
    }
   ],
   "execution_count": 9
  },
  {
   "metadata": {
    "ExecuteTime": {
     "end_time": "2024-12-07T23:46:05.909649Z",
     "start_time": "2024-12-07T23:46:05.907909Z"
    }
   },
   "cell_type": "code",
   "source": "nlp.vocab['done'].is_stop=True",
   "id": "ac59c7ddefb98f09",
   "outputs": [],
   "execution_count": 12
  },
  {
   "metadata": {
    "ExecuteTime": {
     "end_time": "2024-12-07T23:46:56.443384Z",
     "start_time": "2024-12-07T23:46:56.441075Z"
    }
   },
   "cell_type": "code",
   "source": "'done' in nlp.Defaults.stop_words",
   "id": "13870ab22622d807",
   "outputs": [
    {
     "data": {
      "text/plain": [
       "True"
      ]
     },
     "execution_count": 17,
     "metadata": {},
     "output_type": "execute_result"
    }
   ],
   "execution_count": 17
  },
  {
   "metadata": {
    "ExecuteTime": {
     "end_time": "2024-12-07T23:46:38.302228Z",
     "start_time": "2024-12-07T23:46:38.299222Z"
    }
   },
   "cell_type": "code",
   "source": "nlp.Defaults.stop_words|={'done'}",
   "id": "8fac033773c77602",
   "outputs": [],
   "execution_count": 14
  },
  {
   "metadata": {
    "ExecuteTime": {
     "end_time": "2024-12-07T23:48:22.361178Z",
     "start_time": "2024-12-07T23:47:58.557033Z"
    }
   },
   "cell_type": "code",
   "source": [
    "import nltk\n",
    "from nltk.corpus import wordnet\n"
   ],
   "id": "413a24618e5cfb49",
   "outputs": [],
   "execution_count": 18
  },
  {
   "metadata": {
    "ExecuteTime": {
     "end_time": "2024-12-07T23:48:42.428217Z",
     "start_time": "2024-12-07T23:48:42.390497Z"
    }
   },
   "cell_type": "code",
   "source": "syn=wordnet.synsets('Book')",
   "id": "2b177379b8e1875d",
   "outputs": [],
   "execution_count": 19
  },
  {
   "metadata": {
    "ExecuteTime": {
     "end_time": "2024-12-07T23:49:01.706161Z",
     "start_time": "2024-12-07T23:49:01.702682Z"
    }
   },
   "cell_type": "code",
   "source": "print(type(syn))",
   "id": "ff35fa6d944ce173",
   "outputs": [
    {
     "name": "stdout",
     "output_type": "stream",
     "text": [
      "<class 'list'>\n"
     ]
    }
   ],
   "execution_count": 20
  },
  {
   "metadata": {
    "ExecuteTime": {
     "end_time": "2024-12-07T23:52:02.312917Z",
     "start_time": "2024-12-07T23:52:02.310143Z"
    }
   },
   "cell_type": "code",
   "source": [
    "for s in syn:\n",
    "    print(s.name(),\" has the definition\",s.definition())\n"
   ],
   "id": "c95b286e8dbf8ec3",
   "outputs": [
    {
     "name": "stdout",
     "output_type": "stream",
     "text": [
      "book.n.01  has the definition a written work or composition that has been published (printed on pages bound together)\n",
      "book.n.02  has the definition physical objects consisting of a number of pages bound together\n",
      "record.n.05  has the definition a compilation of the known facts regarding something or someone\n",
      "script.n.01  has the definition a written version of a play or other dramatic composition; used in preparing for a performance\n",
      "ledger.n.01  has the definition a record in which commercial accounts are recorded\n",
      "book.n.06  has the definition a collection of playing cards satisfying the rules of a card game\n",
      "book.n.07  has the definition a collection of rules or prescribed standards on the basis of which decisions are made\n",
      "koran.n.01  has the definition the sacred writings of Islam revealed by God to the prophet Muhammad during his life at Mecca and Medina\n",
      "bible.n.01  has the definition the sacred writings of the Christian religions\n",
      "book.n.10  has the definition a major division of a long written composition\n",
      "book.n.11  has the definition a number of sheets (ticket or stamps etc.) bound together on one edge\n",
      "book.v.01  has the definition engage for a performance\n",
      "reserve.v.04  has the definition arrange for and reserve (something for someone else) in advance\n",
      "book.v.03  has the definition record a charge in a police register\n",
      "book.v.04  has the definition register in a hotel booker\n"
     ]
    }
   ],
   "execution_count": 26
  },
  {
   "metadata": {
    "ExecuteTime": {
     "end_time": "2024-12-07T23:52:34.857843Z",
     "start_time": "2024-12-07T23:52:34.854242Z"
    }
   },
   "cell_type": "code",
   "source": [
    "ant=[]\n",
    "for a in wordnet.synsets('Healthy'):\n",
    "    for lemma in a.lemmas():\n",
    "        if lemma.antonyms():\n",
    "            ant.append(lemma.antonyms()[0].name())\n",
    "\n",
    "print(ant)"
   ],
   "id": "f843125a18af222a",
   "outputs": [
    {
     "name": "stdout",
     "output_type": "stream",
     "text": [
      "['unhealthy']\n"
     ]
    }
   ],
   "execution_count": 27
  },
  {
   "metadata": {
    "ExecuteTime": {
     "end_time": "2024-12-07T23:36:17.652010Z",
     "start_time": "2024-12-07T23:36:17.649981Z"
    }
   },
   "cell_type": "code",
   "source": "",
   "id": "639b0e91d8929b8c",
   "outputs": [],
   "execution_count": null
  },
  {
   "metadata": {},
   "cell_type": "code",
   "outputs": [],
   "execution_count": null,
   "source": "",
   "id": "e45d079b3f57ed68"
  }
 ],
 "metadata": {
  "kernelspec": {
   "display_name": "Python 3",
   "language": "python",
   "name": "python3"
  },
  "language_info": {
   "codemirror_mode": {
    "name": "ipython",
    "version": 2
   },
   "file_extension": ".py",
   "mimetype": "text/x-python",
   "name": "python",
   "nbconvert_exporter": "python",
   "pygments_lexer": "ipython2",
   "version": "2.7.6"
  }
 },
 "nbformat": 4,
 "nbformat_minor": 5
}
