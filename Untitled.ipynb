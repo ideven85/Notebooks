{
 "cells": [
  {
   "cell_type": "code",
   "execution_count": 1,
   "id": "58cd63a2",
   "metadata": {
    "ExecuteTime": {
     "end_time": "2024-02-26T17:23:22.880630Z",
     "start_time": "2024-02-26T17:23:22.875376Z"
    }
   },
   "outputs": [],
   "source": [
    "def factorial(n):\n",
    "    return 1 if n<2 else n*factorial(n-1)"
   ]
  },
  {
   "cell_type": "code",
   "execution_count": 3,
   "id": "7c81aa83",
   "metadata": {
    "ExecuteTime": {
     "end_time": "2024-02-26T17:24:04.540864Z",
     "start_time": "2024-02-26T17:23:54.381214Z"
    }
   },
   "outputs": [
    {
     "name": "stdout",
     "output_type": "stream",
     "text": [
      "12.5 ms ± 45.1 µs per loop (mean ± std. dev. of 7 runs, 100 loops each)\n"
     ]
    }
   ],
   "source": [
    "%timeit [factorial(i) for i in range(500)]"
   ]
  },
  {
   "cell_type": "code",
   "execution_count": 4,
   "id": "ca3bc1f5",
   "metadata": {
    "ExecuteTime": {
     "end_time": "2024-02-26T17:24:04.547550Z",
     "start_time": "2024-02-26T17:24:04.546200Z"
    }
   },
   "outputs": [],
   "source": [
    "import numpy as np"
   ]
  },
  {
   "cell_type": "code",
   "execution_count": 10,
   "id": "4693175a",
   "metadata": {
    "ExecuteTime": {
     "end_time": "2024-02-26T17:26:04.675236Z",
     "start_time": "2024-02-26T17:26:04.672388Z"
    }
   },
   "outputs": [],
   "source": [
    "a = np.arange(1,50)"
   ]
  },
  {
   "cell_type": "code",
   "execution_count": 12,
   "id": "869a608d",
   "metadata": {
    "ExecuteTime": {
     "end_time": "2024-02-26T17:26:19.460270Z",
     "start_time": "2024-02-26T17:26:17.558671Z"
    }
   },
   "outputs": [
    {
     "name": "stderr",
     "output_type": "stream",
     "text": [
      "/var/folders/5g/4f9yls8n7jjbnf1c57n6dltr0000gp/T/ipykernel_7259/2654033466.py:2: RuntimeWarning: overflow encountered in scalar multiply\n",
      "  return 1 if n<2 else n*factorial(n-1)\n"
     ]
    },
    {
     "name": "stdout",
     "output_type": "stream",
     "text": [
      "229 µs ± 705 ns per loop (mean ± std. dev. of 7 runs, 1,000 loops each)\n"
     ]
    }
   ],
   "source": [
    "%timeit [factorial(i) for i in a]"
   ]
  },
  {
   "cell_type": "code",
   "execution_count": 7,
   "id": "4171e992",
   "metadata": {
    "ExecuteTime": {
     "end_time": "2024-02-26T17:25:02.710142Z",
     "start_time": "2024-02-26T17:24:48.977225Z"
    }
   },
   "outputs": [
    {
     "name": "stderr",
     "output_type": "stream",
     "text": [
      "/var/folders/5g/4f9yls8n7jjbnf1c57n6dltr0000gp/T/ipykernel_7259/2654033466.py:2: RuntimeWarning: overflow encountered in scalar multiply\n",
      "  return 1 if n<2 else n*factorial(n-1)\n"
     ]
    },
    {
     "name": "stdout",
     "output_type": "stream",
     "text": [
      "16.9 ms ± 71 µs per loop (mean ± std. dev. of 7 runs, 100 loops each)\n"
     ]
    }
   ],
   "source": [
    "%timeit [factorial(i) for i in a]"
   ]
  },
  {
   "cell_type": "code",
   "execution_count": 13,
   "id": "2ac31760",
   "metadata": {
    "ExecuteTime": {
     "end_time": "2024-02-26T17:26:58.997008Z",
     "start_time": "2024-02-26T17:26:58.993622Z"
    }
   },
   "outputs": [],
   "source": [
    "def fib(n):\n",
    "    if n<2:\n",
    "        return n\n",
    "    else:\n",
    "        a=0;b=1\n",
    "        for i in range(n):\n",
    "            b+=a\n",
    "            a=b-a\n",
    "        return b"
   ]
  },
  {
   "cell_type": "code",
   "execution_count": 16,
   "id": "6d20b0fc",
   "metadata": {
    "ExecuteTime": {
     "end_time": "2024-02-26T17:27:46.121776Z",
     "start_time": "2024-02-26T17:27:37.922465Z"
    }
   },
   "outputs": [
    {
     "name": "stdout",
     "output_type": "stream",
     "text": [
      "1.02 s ± 1.3 ms per loop (mean ± std. dev. of 7 runs, 1 loop each)\n"
     ]
    }
   ],
   "source": [
    "%timeit [fib(i) for i in a]"
   ]
  },
  {
   "cell_type": "code",
   "execution_count": 15,
   "id": "354e895a",
   "metadata": {
    "ExecuteTime": {
     "end_time": "2024-02-26T17:27:34.832632Z",
     "start_time": "2024-02-26T17:27:34.829732Z"
    }
   },
   "outputs": [],
   "source": [
    "a = np.arange(1,5000)"
   ]
  },
  {
   "cell_type": "code",
   "execution_count": 19,
   "id": "c66c7422",
   "metadata": {
    "ExecuteTime": {
     "end_time": "2024-02-26T17:28:19.197876Z",
     "start_time": "2024-02-26T17:28:19.195058Z"
    }
   },
   "outputs": [],
   "source": [
    "b=a[-2]"
   ]
  },
  {
   "cell_type": "code",
   "execution_count": 20,
   "id": "cc59099c",
   "metadata": {
    "ExecuteTime": {
     "end_time": "2024-02-26T17:28:19.743457Z",
     "start_time": "2024-02-26T17:28:19.738887Z"
    }
   },
   "outputs": [
    {
     "name": "stdout",
     "output_type": "stream",
     "text": [
      "2397334346100631452333336800023778743396400988090212332865227234032387117767626167465060795065595580850691237390963845987165478074085124644348902530685083246709423858342692329718110162972268152200857232686119638781547238020078362945470777668711057069618425746387920931255084621360135655698456629322111614827324455767748623844363426260372374195153577101298837831208580530677289982029527164306876024342838547454228388796380077029917639469963653048076473269452943584037848773158456736367057460079075603072996653089318046279296240100777360367200040226807430924334616931577257195085793060133817911514540227011756335999604550121968663793604830945238116686325506344893928776515696088851468818023735825546502317562957459506612704850760351077006532507519813600498603205937022956740021970327599548184626715032015801445754074519753924901317605013561516613650173445818028242577356369143977719495739428130191089993769093308407443558168431535751910046557480949313497996285124526992631353143367314930548703966553707195171094152730704138121243470432644848607501\n"
     ]
    }
   ],
   "source": [
    "print(fib(b))"
   ]
  },
  {
   "cell_type": "code",
   "execution_count": null,
   "id": "e711699b",
   "metadata": {},
   "outputs": [],
   "source": []
  }
 ],
 "metadata": {
  "hide_input": false,
  "kernelspec": {
   "display_name": "Python 3 (ipykernel)",
   "language": "python",
   "name": "python3"
  },
  "language_info": {
   "codemirror_mode": {
    "name": "ipython",
    "version": 3
   },
   "file_extension": ".py",
   "mimetype": "text/x-python",
   "name": "python",
   "nbconvert_exporter": "python",
   "pygments_lexer": "ipython3",
   "version": "3.12.2"
  },
  "toc": {
   "base_numbering": 1,
   "nav_menu": {},
   "number_sections": true,
   "sideBar": true,
   "skip_h1_title": false,
   "title_cell": "Table of Contents",
   "title_sidebar": "Contents",
   "toc_cell": false,
   "toc_position": {},
   "toc_section_display": true,
   "toc_window_display": false
  },
  "varInspector": {
   "cols": {
    "lenName": 16,
    "lenType": 16,
    "lenVar": 40
   },
   "kernels_config": {
    "python": {
     "delete_cmd_postfix": "",
     "delete_cmd_prefix": "del ",
     "library": "var_list.py",
     "varRefreshCmd": "print(var_dic_list())"
    },
    "r": {
     "delete_cmd_postfix": ") ",
     "delete_cmd_prefix": "rm(",
     "library": "var_list.r",
     "varRefreshCmd": "cat(var_dic_list()) "
    }
   },
   "types_to_exclude": [
    "module",
    "function",
    "builtin_function_or_method",
    "instance",
    "_Feature"
   ],
   "window_display": false
  }
 },
 "nbformat": 4,
 "nbformat_minor": 5
}
