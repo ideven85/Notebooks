{
 "cells": [
  {
   "cell_type": "code",
   "execution_count": 4,
   "id": "e8469411",
   "metadata": {
    "ExecuteTime": {
     "end_time": "2024-02-26T17:42:19.636465Z",
     "start_time": "2024-02-26T17:42:19.632562Z"
    }
   },
   "outputs": [],
   "source": [
    "import numpy as np\n",
    "import pandas as pd"
   ]
  },
  {
   "cell_type": "code",
   "execution_count": 5,
   "id": "62c65d02",
   "metadata": {
    "ExecuteTime": {
     "end_time": "2024-02-26T17:42:22.076285Z",
     "start_time": "2024-02-26T17:42:21.165078Z"
    }
   },
   "outputs": [
    {
     "name": "stdout",
     "output_type": "stream",
     "text": [
      "Requirement already satisfied: numpy in /Library/Frameworks/Python.framework/Versions/3.12/lib/python3.12/site-packages (1.26.4)\n",
      "Requirement already satisfied: pandas in /Library/Frameworks/Python.framework/Versions/3.12/lib/python3.12/site-packages (2.2.0)\n",
      "Requirement already satisfied: scikit-learn in /Library/Frameworks/Python.framework/Versions/3.12/lib/python3.12/site-packages (1.4.1.post1)\n",
      "Requirement already satisfied: opencv_contrib_python in /Library/Frameworks/Python.framework/Versions/3.12/lib/python3.12/site-packages (4.9.0.80)\n",
      "Requirement already satisfied: python-dateutil>=2.8.2 in /Library/Frameworks/Python.framework/Versions/3.12/lib/python3.12/site-packages (from pandas) (2.8.2)\n",
      "Requirement already satisfied: pytz>=2020.1 in /Library/Frameworks/Python.framework/Versions/3.12/lib/python3.12/site-packages (from pandas) (2024.1)\n",
      "Requirement already satisfied: tzdata>=2022.7 in /Library/Frameworks/Python.framework/Versions/3.12/lib/python3.12/site-packages (from pandas) (2024.1)\n",
      "Requirement already satisfied: scipy>=1.6.0 in /Library/Frameworks/Python.framework/Versions/3.12/lib/python3.12/site-packages (from scikit-learn) (1.12.0)\n",
      "Requirement already satisfied: joblib>=1.2.0 in /Library/Frameworks/Python.framework/Versions/3.12/lib/python3.12/site-packages (from scikit-learn) (1.3.2)\n",
      "Requirement already satisfied: threadpoolctl>=2.0.0 in /Library/Frameworks/Python.framework/Versions/3.12/lib/python3.12/site-packages (from scikit-learn) (3.3.0)\n",
      "Requirement already satisfied: six>=1.5 in /Library/Frameworks/Python.framework/Versions/3.12/lib/python3.12/site-packages (from python-dateutil>=2.8.2->pandas) (1.16.0)\n"
     ]
    }
   ],
   "source": [
    "!pip3 install numpy pandas scikit-learn opencv_contrib_python"
   ]
  },
  {
   "cell_type": "code",
   "execution_count": 6,
   "id": "adbbb85d",
   "metadata": {
    "ExecuteTime": {
     "end_time": "2024-02-26T17:42:22.468372Z",
     "start_time": "2024-02-26T17:42:22.086110Z"
    }
   },
   "outputs": [
    {
     "name": "stdout",
     "output_type": "stream",
     "text": [
      "anyio==4.3.0\r\n",
      "appnope==0.1.4\r\n",
      "argon2-cffi==23.1.0\r\n",
      "argon2-cffi-bindings==21.2.0\r\n",
      "arrow==1.3.0\r\n",
      "asttokens==2.4.1\r\n",
      "async-lru==2.0.4\r\n",
      "attrs==23.2.0\r\n",
      "Babel==2.14.0\r\n",
      "beautifulsoup4==4.12.3\r\n",
      "bleach==6.1.0\r\n",
      "certifi==2024.2.2\r\n",
      "cffi==1.16.0\r\n",
      "charset-normalizer==3.3.2\r\n",
      "click==8.1.7\r\n",
      "comm==0.2.1\r\n",
      "Cython==3.0.8\r\n",
      "debugpy==1.8.1\r\n",
      "decorator==5.1.1\r\n",
      "defusedxml==0.7.1\r\n",
      "distlib==0.3.8\r\n",
      "dlib==19.24.2\r\n",
      "docopt==0.6.2\r\n",
      "entrypoints==0.4\r\n",
      "executing==2.0.1\r\n",
      "face-recognition==1.3.0\r\n",
      "face_recognition_models==0.3.0\r\n",
      "fastjsonschema==2.19.1\r\n",
      "filelock==3.13.1\r\n",
      "fqdn==1.5.1\r\n",
      "h11==0.14.0\r\n",
      "httpcore==1.0.3\r\n",
      "httpx==0.26.0\r\n",
      "idna==3.6\r\n",
      "ipykernel==6.29.2\r\n",
      "ipython==8.21.0\r\n",
      "ipython-genutils==0.2.0\r\n",
      "ipywidgets==8.1.2\r\n",
      "isoduration==20.11.0\r\n",
      "jedi==0.19.1\r\n",
      "Jinja2==3.1.3\r\n",
      "joblib==1.3.2\r\n",
      "json5==0.9.17\r\n",
      "jsonpointer==2.4\r\n",
      "jsonschema==4.21.1\r\n",
      "jsonschema-specifications==2023.12.1\r\n",
      "jupyter==1.0.0\r\n",
      "jupyter-console==6.6.3\r\n",
      "jupyter-events==0.9.0\r\n",
      "jupyter-highlight-selected-word==0.2.0\r\n",
      "jupyter-lsp==2.2.2\r\n",
      "jupyter-nbextensions-configurator==0.6.3\r\n",
      "jupyter_client==8.6.0\r\n",
      "jupyter_contrib_core==0.4.2\r\n",
      "jupyter_contrib_nbextensions==0.7.0\r\n",
      "jupyter_core==5.7.1\r\n",
      "jupyter_server==2.12.5\r\n",
      "jupyter_server_terminals==0.5.2\r\n",
      "jupyterlab==4.1.2\r\n",
      "jupyterlab-code-snippets==2.2.1\r\n",
      "jupyterlab-prolog-codemirror-extension==0.0.2\r\n",
      "jupyterlab_pygments==0.3.0\r\n",
      "jupyterlab_server==2.25.3\r\n",
      "jupyterlab_widgets==3.0.10\r\n",
      "lxml==5.1.0\r\n",
      "MarkupSafe==2.1.5\r\n",
      "matplotlib-inline==0.1.6\r\n",
      "mistune==0.8.4\r\n",
      "nbclient==0.9.0\r\n",
      "nbconvert==6.5.4\r\n",
      "nbformat==5.9.2\r\n",
      "nest-asyncio==1.6.0\r\n",
      "notebook==6.4.12\r\n",
      "notebook_shim==0.2.4\r\n",
      "numpy==1.26.4\r\n",
      "opencv-contrib-python==4.9.0.80\r\n",
      "overrides==7.7.0\r\n",
      "packaging==23.2\r\n",
      "pandas==2.2.0\r\n",
      "pandocfilters==1.5.1\r\n",
      "parso==0.8.3\r\n",
      "pbr==6.0.0\r\n",
      "pexpect==4.9.0\r\n",
      "pillow==10.2.0\r\n",
      "platformdirs==4.2.0\r\n",
      "prometheus_client==0.20.0\r\n",
      "prompt-toolkit==3.0.43\r\n",
      "psutil==5.9.8\r\n",
      "ptyprocess==0.7.0\r\n",
      "pure-eval==0.2.2\r\n",
      "pycparser==2.21\r\n",
      "Pygments==2.17.2\r\n",
      "PySide6==6.6.2\r\n",
      "PySide6_Addons==6.6.2\r\n",
      "PySide6_Essentials==6.6.2\r\n",
      "python-dateutil==2.8.2\r\n",
      "python-json-logger==2.0.7\r\n",
      "pytz==2024.1\r\n",
      "PyYAML==6.0.1\r\n",
      "pyzmq==25.1.2\r\n",
      "qtconsole==5.5.1\r\n",
      "QtPy==2.4.1\r\n",
      "referencing==0.33.0\r\n",
      "requests==2.31.0\r\n",
      "rfc3339-validator==0.1.4\r\n",
      "rfc3986-validator==0.1.1\r\n",
      "rpds-py==0.18.0\r\n",
      "scikit-learn==1.4.1.post1\r\n",
      "scipy==1.12.0\r\n",
      "Send2Trash==1.8.2\r\n",
      "setuptools==69.1.1\r\n",
      "shiboken6==6.6.2\r\n",
      "six==1.16.0\r\n",
      "sniffio==1.3.0\r\n",
      "soupsieve==2.5\r\n",
      "stack-data==0.6.3\r\n",
      "stevedore==5.1.0\r\n",
      "terminado==0.18.0\r\n",
      "threadpoolctl==3.3.0\r\n",
      "tinycss2==1.2.1\r\n",
      "tornado==6.4\r\n",
      "traitlets==5.9.0\r\n",
      "types-python-dateutil==2.8.19.20240106\r\n",
      "tzdata==2024.1\r\n",
      "uri-template==1.3.0\r\n",
      "urllib3==2.2.1\r\n",
      "virtualenv==20.25.0\r\n",
      "virtualenv-clone==0.5.7\r\n",
      "virtualenvwrapper==6.1.0\r\n",
      "wcwidth==0.2.13\r\n",
      "webcolors==1.13\r\n",
      "webencodings==0.5.1\r\n",
      "websocket-client==1.7.0\r\n",
      "widgetsnbextension==4.0.10\r\n"
     ]
    }
   ],
   "source": [
    "!pip3 freeze"
   ]
  },
  {
   "cell_type": "code",
   "execution_count": 9,
   "id": "2b0b8a1c",
   "metadata": {
    "ExecuteTime": {
     "end_time": "2024-02-26T17:43:47.264406Z",
     "start_time": "2024-02-26T17:42:54.878319Z"
    }
   },
   "outputs": [
    {
     "name": "stdout",
     "output_type": "stream",
     "text": [
      "Collecting gym[all]\n",
      "  Using cached gym-0.26.2-py3-none-any.whl\n",
      "Requirement already satisfied: numpy>=1.18.0 in /Library/Frameworks/Python.framework/Versions/3.12/lib/python3.12/site-packages (from gym[all]) (1.26.4)\n",
      "Collecting cloudpickle>=1.2.0 (from gym[all])\n",
      "  Using cached cloudpickle-3.0.0-py3-none-any.whl.metadata (7.0 kB)\n",
      "Collecting gym-notices>=0.0.4 (from gym[all])\n",
      "  Using cached gym_notices-0.0.8-py3-none-any.whl.metadata (1.0 kB)\n",
      "Collecting mujoco-py<2.2,>=2.1 (from gym[all])\n",
      "  Using cached mujoco_py-2.1.2.14-py3-none-any.whl.metadata (669 bytes)\n",
      "INFO: pip is looking at multiple versions of gym[all] to determine which version is compatible with other requirements. This could take a while.\n",
      "Collecting gym[all]\n",
      "  Downloading gym-0.26.1.tar.gz (719 kB)\n",
      "\u001b[2K     \u001b[90m━━━━━━━━━━━━━━━━━━━━━━━━━━━━━━━━━━━━━━\u001b[0m \u001b[32m719.9/719.9 kB\u001b[0m \u001b[31m15.6 MB/s\u001b[0m eta \u001b[36m0:00:00\u001b[0ma \u001b[36m0:00:01\u001b[0m\n",
      "\u001b[?25h  Installing build dependencies ... \u001b[?25ldone\n",
      "\u001b[?25h  Getting requirements to build wheel ... \u001b[?25ldone\n",
      "\u001b[?25h  Installing backend dependencies ... \u001b[?25ldone\n",
      "\u001b[?25h  Preparing metadata (pyproject.toml) ... \u001b[?25ldone\n",
      "\u001b[?25hCollecting pytest==7.0.1 (from gym[all])\n",
      "  Downloading pytest-7.0.1-py3-none-any.whl.metadata (7.8 kB)\n",
      "Collecting opencv-python>=3.0 (from gym[all])\n",
      "  Using cached opencv_python-4.9.0.80-cp37-abi3-macosx_11_0_arm64.whl.metadata (20 kB)\n",
      "Collecting matplotlib>=3.0 (from gym[all])\n",
      "  Using cached matplotlib-3.8.3-cp312-cp312-macosx_11_0_arm64.whl.metadata (5.8 kB)\n",
      "Collecting pygame==2.1.0 (from gym[all])\n",
      "  Downloading pygame-2.1.0.tar.gz (5.8 MB)\n",
      "\u001b[2K     \u001b[90m━━━━━━━━━━━━━━━━━━━━━━━━━━━━━━━━━━━━━━━━\u001b[0m \u001b[32m5.8/5.8 MB\u001b[0m \u001b[31m55.9 MB/s\u001b[0m eta \u001b[36m0:00:00\u001b[0ma \u001b[36m0:00:01\u001b[0m\n",
      "\u001b[?25h  Installing build dependencies ... \u001b[?25ldone\n",
      "\u001b[?25h  Getting requirements to build wheel ... \u001b[?25ldone\n",
      "\u001b[?25h  Installing backend dependencies ... \u001b[?25ldone\n",
      "\u001b[?25h  Preparing metadata (pyproject.toml) ... \u001b[?25ldone\n",
      "\u001b[?25hCollecting imageio>=2.14.1 (from gym[all])\n",
      "  Using cached imageio-2.34.0-py3-none-any.whl.metadata (4.9 kB)\n",
      "Collecting gym[all]\n",
      "  Downloading gym-0.26.0.tar.gz (710 kB)\n",
      "\u001b[2K     \u001b[90m━━━━━━━━━━━━━━━━━━━━━━━━━━━━━━━━━━━━━━\u001b[0m \u001b[32m710.3/710.3 kB\u001b[0m \u001b[31m25.5 MB/s\u001b[0m eta \u001b[36m0:00:00\u001b[0m\n",
      "\u001b[?25h  Installing build dependencies ... \u001b[?25ldone\n",
      "\u001b[?25h  Getting requirements to build wheel ... \u001b[?25ldone\n",
      "\u001b[?25h  Installing backend dependencies ... \u001b[?25ldone\n",
      "\u001b[?25h  Preparing metadata (pyproject.toml) ... \u001b[?25ldone\n",
      "\u001b[?25hCollecting lz4>=3.1.0 (from gym[all])\n",
      "  Downloading lz4-4.3.3-cp312-cp312-macosx_11_0_arm64.whl.metadata (3.7 kB)\n",
      "Collecting swig==4.* (from gym[all])\n",
      "  Using cached swig-4.2.0.post0-py2.py3-none-macosx_11_0_arm64.whl.metadata (3.6 kB)\n",
      "Collecting box2d-py==2.3.5 (from gym[all])\n",
      "  Using cached box2d-py-2.3.5.tar.gz (374 kB)\n",
      "  Installing build dependencies ... \u001b[?25ldone\n",
      "\u001b[?25h  Getting requirements to build wheel ... \u001b[?25ldone\n",
      "\u001b[?25h  Installing backend dependencies ... \u001b[?25ldone\n",
      "\u001b[?25h  Preparing metadata (pyproject.toml) ... \u001b[?25ldone\n",
      "\u001b[?25hCollecting mujoco==2.2.0 (from gym[all])\n",
      "  Downloading mujoco-2.2.0.tar.gz (138 kB)\n",
      "\u001b[2K     \u001b[90m━━━━━━━━━━━━━━━━━━━━━━━━━━━━━━━━━━━━━━\u001b[0m \u001b[32m138.2/138.2 kB\u001b[0m \u001b[31m18.7 MB/s\u001b[0m eta \u001b[36m0:00:00\u001b[0m\n",
      "\u001b[?25h  Installing build dependencies ... \u001b[?25ldone\n",
      "\u001b[?25h  Getting requirements to build wheel ... \u001b[?25ldone\n",
      "\u001b[?25h  Installing backend dependencies ... \u001b[?25ldone\n",
      "\u001b[?25h  Preparing metadata (pyproject.toml) ... \u001b[?25ldone\n",
      "\u001b[?25hCollecting gym[all]\n",
      "  Downloading gym-0.25.2.tar.gz (734 kB)\n",
      "\u001b[2K     \u001b[90m━━━━━━━━━━━━━━━━━━━━━━━━━━━━━━━━━━━━━━\u001b[0m \u001b[32m734.5/734.5 kB\u001b[0m \u001b[31m36.9 MB/s\u001b[0m eta \u001b[36m0:00:00\u001b[0m\n",
      "\u001b[?25h  Installing build dependencies ... \u001b[?25ldone\n",
      "\u001b[?25h  Getting requirements to build wheel ... \u001b[?25ldone\n",
      "\u001b[?25h  Installing backend dependencies ... \u001b[?25ldone\n",
      "\u001b[?25h  Preparing metadata (pyproject.toml) ... \u001b[?25ldone\n",
      "\u001b[?25h  Downloading gym-0.25.1.tar.gz (732 kB)\n",
      "\u001b[2K     \u001b[90m━━━━━━━━━━━━━━━━━━━━━━━━━━━━━━━━━━━━━━\u001b[0m \u001b[32m732.2/732.2 kB\u001b[0m \u001b[31m32.4 MB/s\u001b[0m eta \u001b[36m0:00:00\u001b[0m\n",
      "\u001b[?25h  Installing build dependencies ... \u001b[?25ldone\n",
      "\u001b[?25h  Getting requirements to build wheel ... \u001b[?25ldone\n",
      "\u001b[?25h  Installing backend dependencies ... \u001b[?25ldone\n",
      "\u001b[?25h  Preparing metadata (pyproject.toml) ... \u001b[?25ldone\n",
      "\u001b[?25h  Downloading gym-0.25.0.tar.gz (720 kB)\n",
      "\u001b[2K     \u001b[90m━━━━━━━━━━━━━━━━━━━━━━━━━━━━━━━━━━━━━━\u001b[0m \u001b[32m720.4/720.4 kB\u001b[0m \u001b[31m27.3 MB/s\u001b[0m eta \u001b[36m0:00:00\u001b[0m\n",
      "\u001b[?25h  Installing build dependencies ... \u001b[?25ldone\n",
      "\u001b[?25h  Getting requirements to build wheel ... \u001b[?25ldone\n",
      "\u001b[?25h  Installing backend dependencies ... \u001b[?25ldone\n",
      "\u001b[?25h  Preparing metadata (pyproject.toml) ... \u001b[?25ldone\n",
      "\u001b[?25h  Downloading gym-0.24.1.tar.gz (696 kB)\n",
      "\u001b[2K     \u001b[90m━━━━━━━━━━━━━━━━━━━━━━━━━━━━━━━━━━━━━━\u001b[0m \u001b[32m696.4/696.4 kB\u001b[0m \u001b[31m25.9 MB/s\u001b[0m eta \u001b[36m0:00:00\u001b[0m\n",
      "\u001b[?25h  Installing build dependencies ... \u001b[?25ldone\n",
      "\u001b[?25h  Getting requirements to build wheel ... \u001b[?25ldone\n",
      "\u001b[?25h  Installing backend dependencies ... \u001b[?25ldone\n",
      "\u001b[?25h  Preparing metadata (pyproject.toml) ... \u001b[?25ldone\n",
      "\u001b[?25hCollecting pytest (from gym[all])\n",
      "  Downloading pytest-8.0.2-py3-none-any.whl.metadata (7.7 kB)\n",
      "Collecting mock (from gym[all])\n",
      "  Downloading mock-5.1.0-py3-none-any.whl.metadata (3.0 kB)\n",
      "Collecting gym[all]\n",
      "  Downloading gym-0.24.0.tar.gz (694 kB)\n",
      "\u001b[2K     \u001b[90m━━━━━━━━━━━━━━━━━━━━━━━━━━━━━━━━━━━━━━\u001b[0m \u001b[32m694.4/694.4 kB\u001b[0m \u001b[31m57.8 MB/s\u001b[0m eta \u001b[36m0:00:00\u001b[0m\n",
      "\u001b[?25h  Installing build dependencies ... \u001b[?25ldone\n",
      "\u001b[?25h  Getting requirements to build wheel ... \u001b[?25ldone\n",
      "\u001b[?25h  Installing backend dependencies ... \u001b[?25ldone\n",
      "\u001b[?25h  Preparing metadata (pyproject.toml) ... \u001b[?25ldone\n",
      "\u001b[?25hRequirement already satisfied: scipy>=1.4.1 in /Library/Frameworks/Python.framework/Versions/3.12/lib/python3.12/site-packages (from gym[all]) (1.12.0)\n",
      "INFO: pip is still looking at multiple versions of gym[all] to determine which version is compatible with other requirements. This could take a while.\n",
      "  Downloading gym-0.23.1.tar.gz (626 kB)\n",
      "\u001b[2K     \u001b[90m━━━━━━━━━━━━━━━━━━━━━━━━━━━━━━━━━━━━━━\u001b[0m \u001b[32m626.2/626.2 kB\u001b[0m \u001b[31m47.3 MB/s\u001b[0m eta \u001b[36m0:00:00\u001b[0m\n",
      "\u001b[?25h  Installing build dependencies ... \u001b[?25ldone\n",
      "\u001b[?25h  Getting requirements to build wheel ... \u001b[?25ldone\n",
      "\u001b[?25h  Installing backend dependencies ... \u001b[?25ldone\n",
      "\u001b[?25h  Preparing metadata (pyproject.toml) ... \u001b[?25ldone\n",
      "\u001b[?25hCollecting mujoco-py<2.0,>=1.50 (from gym[all])\n",
      "  Downloading mujoco-py-1.50.1.68.tar.gz (120 kB)\n",
      "\u001b[2K     \u001b[90m━━━━━━━━━━━━━━━━━━━━━━━━━━━━━━━━━━━━━━━\u001b[0m \u001b[32m120.7/120.7 kB\u001b[0m \u001b[31m5.8 MB/s\u001b[0m eta \u001b[36m0:00:00\u001b[0m\n",
      "\u001b[?25h  Installing build dependencies ... \u001b[?25ldone\n",
      "\u001b[?25h  Getting requirements to build wheel ... \u001b[?25ldone\n",
      "\u001b[?25h  Installing backend dependencies ... \u001b[?25ldone\n",
      "\u001b[?25h  Preparing metadata (pyproject.toml) ... \u001b[?25ldone\n",
      "\u001b[?25hCollecting gym[all]\n",
      "  Downloading gym-0.23.0.tar.gz (624 kB)\n",
      "\u001b[2K     \u001b[90m━━━━━━━━━━━━━━━━━━━━━━━━━━━━━━━━━━━━━━\u001b[0m \u001b[32m624.4/624.4 kB\u001b[0m \u001b[31m32.1 MB/s\u001b[0m eta \u001b[36m0:00:00\u001b[0m\n",
      "\u001b[?25h  Installing build dependencies ... \u001b[?25ldone\n",
      "\u001b[?25h  Getting requirements to build wheel ... \u001b[?25ldone\n",
      "\u001b[?25h  Installing backend dependencies ... \u001b[?25ldone\n",
      "\u001b[?25h  Preparing metadata (pyproject.toml) ... \u001b[?25ldone\n",
      "\u001b[?25h  Downloading gym-0.22.0.tar.gz (631 kB)\n",
      "\u001b[2K     \u001b[90m━━━━━━━━━━━━━━━━━━━━━━━━━━━━━━━━━━━━━━\u001b[0m \u001b[32m631.1/631.1 kB\u001b[0m \u001b[31m19.7 MB/s\u001b[0m eta \u001b[36m0:00:00\u001b[0m\n",
      "\u001b[?25h  Installing build dependencies ... \u001b[?25ldone\n",
      "\u001b[?25h  Getting requirements to build wheel ... \u001b[?25ldone\n",
      "\u001b[?25h  Installing backend dependencies ... \u001b[?25ldone\n",
      "\u001b[?25h  Preparing metadata (pyproject.toml) ... \u001b[?25ldone\n",
      "\u001b[?2"
     ]
    },
    {
     "data": {
      "text/html": [
       "<b>limit_output extension: Maximum message size of 10000 exceeded with 10156 characters</b>"
      ]
     },
     "metadata": {},
     "output_type": "display_data"
    }
   ],
   "source": [
    "!pip3 install gym\\[all\\]"
   ]
  },
  {
   "cell_type": "code",
   "execution_count": 10,
   "id": "50ebd831",
   "metadata": {
    "ExecuteTime": {
     "end_time": "2024-02-26T17:43:55.740763Z",
     "start_time": "2024-02-26T17:43:47.279546Z"
    }
   },
   "outputs": [
    {
     "name": "stdout",
     "output_type": "stream",
     "text": [
      "Cloning into 'handson-ml3'...\n",
      "remote: Enumerating objects: 3861, done.\u001b[K\n",
      "remote: Counting objects: 100% (565/565), done.\u001b[K\n",
      "remote: Compressing objects: 100% (135/135), done.\u001b[K\n",
      "Receiving objects:  20% (773/3861)"
     ]
    },
    {
     "data": {
      "text/html": [
       "<b>limit_output extension: Maximum message size of 10000 exceeded with 10215 characters</b>"
      ]
     },
     "metadata": {},
     "output_type": "display_data"
    }
   ],
   "source": [
    "!git clone https://github.com/ageron/handson-ml3"
   ]
  },
  {
   "cell_type": "code",
   "execution_count": 17,
   "id": "0ffdedab",
   "metadata": {
    "ExecuteTime": {
     "end_time": "2024-02-26T17:47:08.686918Z",
     "start_time": "2024-02-26T17:46:23.130018Z"
    }
   },
   "outputs": [
    {
     "name": "stdout",
     "output_type": "stream",
     "text": [
      "Collecting jupyterlab~=4.0.8 (from -r handson-ml3/requirements.txt (line 7))\n",
      "  Using cached jupyterlab-4.0.13-py3-none-any.whl.metadata (15 kB)\n",
      "Collecting matplotlib~=3.8.1 (from -r handson-ml3/requirements.txt (line 8))\n",
      "  Using cached matplotlib-3.8.3-cp312-cp312-macosx_11_0_arm64.whl.metadata (5.8 kB)\n",
      "Requirement already satisfied: numpy~=1.26.2 in /Library/Frameworks/Python.framework/Versions/3.12/lib/python3.12/site-packages (from -r handson-ml3/requirements.txt (line 9)) (1.26.4)\n",
      "Collecting pandas~=2.1.3 (from -r handson-ml3/requirements.txt (line 10))\n",
      "  Using cached pandas-2.1.4-cp312-cp312-macosx_11_0_arm64.whl.metadata (18 kB)\n",
      "Collecting scipy~=1.11.3 (from -r handson-ml3/requirements.txt (line 11))\n",
      "  Using cached scipy-1.11.4-cp312-cp312-macosx_12_0_arm64.whl.metadata (217 kB)\n",
      "Collecting scikit-learn~=1.3.2 (from -r handson-ml3/requirements.txt (line 14))\n",
      "  Using cached scikit_learn-1.3.2-cp312-cp312-macosx_12_0_arm64.whl.metadata (11 kB)\n",
      "Collecting xgboost~=2.0.2 (from -r handson-ml3/requirements.txt (line 17))\n",
      "  Using cached xgboost-2.0.3-py3-none-macosx_12_0_arm64.whl.metadata (2.0 kB)\n",
      "Collecting transformers~=4.35.0 (from -r handson-ml3/requirements.txt (line 20))\n",
      "  Using cached transformers-4.35.2-py3-none-any.whl.metadata (123 kB)\n",
      "Requirement already satisfied: tensorflow in /Library/Frameworks/Python.framework/Versions/3.12/lib/python3.12/site-packages (from -r handson-ml3/requirements.txt (line 30)) (2.16.0rc0)\n",
      "Collecting tensorflow-serving-api~=2.14.0 (from -r handson-ml3/requirements.txt (line 33))\n",
      "  Using cached tensorflow_serving_api-2.14.1-py2.py3-none-any.whl.metadata (1.8 kB)\n",
      "Requirement already satisfied: tensorboard in /Library/Frameworks/Python.framework/Versions/3.12/lib/python3.12/site-packages (from -r handson-ml3/requirements.txt (line 35)) (2.16.2)\n",
      "Collecting tensorboard-plugin-profile (from -r handson-ml3/requirements.txt (line 36))\n",
      "  Downloading tensorboard_plugin_profile-2.15.1-py3-none-any.whl.metadata (1.0 kB)\n",
      "Collecting tensorflow-datasets (from -r handson-ml3/requirements.txt (line 37))\n",
      "  Downloading tensorflow_datasets-4.9.4-py3-none-any.whl.metadata (9.2 kB)\n",
      "Collecting tensorflow-hub (from -r handson-ml3/requirements.txt (line 38))\n",
      "  Downloading tensorflow_hub-0.16.1-py2.py3-none-any.whl.metadata (1.3 kB)\n",
      "Collecting keras-tuner~=1.4.6 (from -r handson-ml3/requirements.txt (line 41))\n",
      "  Using cached keras_tuner-1.4.6-py3-none-any.whl.metadata (5.4 kB)\n",
      "Collecting swig (from -r handson-ml3/requirements.txt (line 47))\n",
      "  Using cached swig-4.2.0.post0-py2.py3-none-macosx_11_0_arm64.whl.metadata (3.6 kB)\n",
      "Collecting Pillow~=10.1.0 (from -r handson-ml3/requirements.txt (line 56))\n",
      "  Downloading Pillow-10.1.0-cp312-cp312-macosx_11_0_arm64.whl.metadata (9.5 kB)\n",
      "Collecting graphviz~=0.20.1 (from -r handson-ml3/requirements.txt (line 57))\n",
      "  Using cached graphviz-0.20.1-py3-none-any.whl.metadata (12 kB)\n",
      "Collecting google-cloud-aiplatform~=1.36.2 (from -r handson-ml3/requirements.txt (line 60))\n",
      "  Using cached google_cloud_aiplatform-1.36.4-py2.py3-none-any.whl.metadata (27 kB)\n",
      "Collecting google-cloud-storage~=2.13.0 (from -r handson-ml3/requirements.txt (line 61))\n",
      "  Using cached google_cloud_storage-2.13.0-py2.py3-none-any.whl.metadata (6.1 kB)\n",
      "Requirement already satisfied: joblib~=1.3.2 in /Library/Frameworks/Python.framework/Versions/3.12/lib/python3.12/site-packages (from -r handson-ml3/requirements.txt (line 66)) (1.3.2)\n",
      "Requirement already satisfied: requests~=2.31.0 in /Library/Frameworks/Python.framework/Versions/3.12/lib/python3.12/site-packages (from -r handson-ml3/requirements.txt (line 69)) (2.31.0)\n",
      "Collecting nbdime~=3.2.1 (from -r handson-ml3/requirements.txt (line 72))\n",
      "  Using cached nbdime-3.2.1-py2.py3-none-any.whl.metadata (6.1 kB)\n",
      "Collecting numexpr~=2.8.7 (from -r handson-ml3/requirements.txt (line 76))\n",
      "  Downloading numexpr-2.8.8-cp312-cp312-macosx_11_0_arm64.whl.metadata (7.9 kB)\n",
      "Collecting nltk (from -r handson-ml3/requirements.txt (line 79))\n",
      "  Using cached nltk-3.8.1-py3-none-any.whl.metadata (2.8 kB)\n",
      "Collecting urlextract~=1.8.0 (from -r handson-ml3/requirements.txt (line 80))\n",
      "  Using cached urlextract-1.8.0-py3-none-any.whl.metadata (5.4 kB)\n",
      "Collecting tqdm~=4.66.1 (from -r handson-ml3/requirements.txt (line 84))\n",
      "  Using cached tqdm-4.66.2-py3-none-any.whl.metadata (57 kB)\n",
      "Requirement already satisfied: ipywidgets~=8.1.1 in /Library/Frameworks/Python.framework/Versions/3.12/lib/python3.12/site-packages (from -r handson-ml3/requirements.txt (line 85)) (8.1.2)\n",
      "Collecting pydot~=1.4.2 (from -r handson-ml3/requirements.txt (line 88))\n",
      "  Using cached pydot-1.4.2-py2.py3-none-any.whl (21 kB)\n",
      "Collecting statsmodels~=0.14.0 (from -r handson-ml3/requirements.txt (line 91))\n",
      "  Downloading statsmodels-0.14.1-cp312-cp312-macosx_11_0_arm64.whl.metadata (9.5 kB)\n",
      "Collecting gymnasium[Box2D,accept-rom-license,atari] (from -r handson-ml3/requirements.txt (line 48))\n",
      "  Using cached gymnasium-0.29.1-py3-none-any.whl.metadata (10 kB)\n",
      "Requirement already satisfied: async-lru>=1.0.0 in /Library/Frameworks/Python.framework/Versions/3.12/lib/python3.12/site-packages (from jupyterlab~=4.0.8->-r handson-ml3/requirements.txt (line 7)) (2.0.4)\n",
      "Requirement already satisfied: ipykernel in /Library/Frameworks/Python.framework/Versions/3.12/lib/python3.12/site-packages (from jupyterlab~=4.0.8->-r handson-ml3/requirements.txt (line 7)) (6.29.2)\n",
      "Requirement already satisfied: jinja2>=3.0.3 in /Library/Frameworks/Python.framework/Versions/3.12/lib/python3.12/site-packages (from jupyterlab~=4.0.8->-r handson-ml3/requirements.txt (line 7)) (3.1.3)\n",
      "Requirement already satisfied: jupyter-core in /Library/Frameworks/Python.framework/Versions/3.12/lib/python3.12/site-packages (from jupyterlab~=4.0.8->-r handson-ml3/requirements.txt (line 7)) (5.7.1)\n",
      "Requirement already satisfied: jupyter-lsp>=2.0.0 in /Library/Frameworks/Python.framework/Versions/3.12/lib/python3.12/site-packages (from jupyterlab~=4.0.8->-r handson-ml3/requirements.txt (line 7)) (2.2.2)\n",
      "Requirement already satisfied: jupyter-server<3,>=2.4.0 in /Library/Frameworks/Python.framework/Versions/3.12/lib/python3.12/site-packages (from jupyterlab~=4.0.8->-r handson-ml3/requirements.txt (line 7)) (2.12.5)\n",
      "Requirement already satisfied: jupyterlab-server<3,>=2.19.0 in /Library/Frameworks/Python.framework/Versions/3.12/lib/python3.12/site-packages (from jupyterlab~=4.0.8->-r handson-ml3/requirements.txt (line 7)) (2.25.3)\n",
      "Requirement already satisfied: notebook-shim>=0.2 in /Library/Frameworks/Python.framework/Versions/3.12/lib/python3.12/site-packages (from jupyterlab~=4.0.8->-r handson-ml3/requirements.txt (line 7)) (0.2.4)\n",
      "Requirement already satisfied: packaging in /Library/Frameworks/Python.framework/Versions/3.12/lib/python3.12/site-packages (from jupyterlab~=4.0.8->-r handson-ml3/requirements.txt (line 7)) (23.2)\n",
      "Requirement already satisfied: tornado>=6.2.0 in /Library/Frameworks/Python.framework/Versions/3.12/lib/python3.12/site-packages (from jupyterlab~=4.0.8->-r handson-ml3/requirements.txt (line 7)) (6.4)\n",
      "Requirement already satisfied: traitlets in /Library/Frameworks/Python.framework/Versions/3.12/lib/python3.12/site-packages (from jupyterlab~=4.0.8->-r handson-ml3/requirements.txt (line 7)) (5.9.0)\n",
      "Collecting contourpy>=1.0.1 (from matplotlib~=3.8.1->-r handson-ml3/requirements.txt (line 8))\n",
      "  Using cached contourpy-1.2.0-cp312-cp312-macosx_11_0_arm64.whl.metadata (5.8 kB)\n",
      "Collecting cycler>=0.10 (from matplotlib~=3.8.1->-r handson-ml3/requirements.txt (line 8))\n",
      "  Using cached cycler-0.12.1-py3-none-any.whl.metadata (3.8 kB)\n",
      "Collecting fonttools>=4.22.0 (from matplotlib~=3.8.1->-r handson-ml3/requirements.txt (line 8))\n",
      "  Using cached fonttools-4.49.0-cp312-cp312-macosx_10_9_universal2.whl.metadata (159 kB)\n",
      "Collecting kiwisolver>=1.3.1 (from matplotlib~=3.8.1->-r handson-ml3/requirements.txt (line 8))\n",
      "  Using cached kiwisolver-1.4.5-cp312-cp312-macosx_11_0_arm64.whl.metadata (6.4 kB)\n",
      "Collecting pyparsing>=2.3.1 (from matplotlib~=3.8.1->-r handson-ml3/requirements.txt (line 8))\n",
      "  Using cached pyparsing-3.1.1-py3-none-any.whl.metadata (5.1 kB)\n",
      "Requirement already satisfied: python-dateutil>=2.7 in /Library/Frameworks/Python.framework/Versions/3.12/lib/python3.12/site-packages (from matplotlib~=3.8.1->-r handson-ml3/requirements.txt (line 8)) (2.8.2)\n"
     ]
    },
    {
     "name": "stdout",
     "output_type": "stream",
     "text": [
      "Requirement already satisfied: pytz>=2020.1 in /Library/Frameworks/Python.framework/Versions/3.12/lib/python3.12/site-packages (from pandas~=2.1.3->-r handson-ml3/requirements.txt (line 10)) (2024.1)\n",
      "Requirement already satisfied: tzdata>=2022.1 in /Library/Frameworks/Python.framework/Versions/3.12/lib/python3.12/site-packages (from pandas~=2.1.3->-r handson-ml3/requirements.txt (line 10)) (2024.1)\n",
      "Requirement already satisfied: threadpoolctl>=2.0.0 in /Library/Frameworks/Python.framework/Versions/3.12/lib/python3.12/site-packages (from scikit-learn~=1.3.2->-r handson-ml3/requirements.txt (line 14)) (3.3.0)\n",
      "Requirement already satisfied: filelock in /Library/Frameworks/Python.framework/Versions/3.12/lib/python3.12/site-packages (from transformers~=4.35.0->-r handson-ml3/requirements.txt (line 20)) (3.13.1)\n",
      "Collecting huggingface-hub<1.0,>=0.16.4 (from transformers~=4.35.0->-r handson-ml3/requirements.txt (line 20))\n",
      "  Using cached huggingface_hub-0.20.3-py3-none-any.whl.metadata (12 kB)\n",
      "Requirement already satisfied: pyyaml>=5.1 in /Library/Frameworks/Python.framework/Versions/3.12/lib/python3.12/site-packages (from transformers~=4.35.0->-r handson-ml3/requirements.txt (line 20)) (6.0.1)\n",
      "Collecting regex!=2019.12.17 (from transformers~=4.35.0->-r handson-ml3/requirements.txt (line 20))\n",
      "  Using cached regex-2023.12.25-cp312-cp312-macosx_11_0_arm64.whl.metadata (40 kB)\n",
      "Collecting tokenizers<0.19,>=0.14 (from transformers~=4.35.0->-r handson-ml3/requirements.txt (line 20))\n",
      "  Downloading tokenizers-0.15.2-cp312-cp312-macosx_11_0_arm64.whl.metadata (6.7 kB)\n",
      "Collecting safetensors>=0.3.1 (from transformers~=4"
     ]
    },
    {
     "data": {
      "text/html": [
       "<b>limit_output extension: Maximum message size of 10000 exceeded with 14268 characters</b>"
      ]
     },
     "metadata": {},
     "output_type": "display_data"
    }
   ],
   "source": [
    "!pip3 install -r  handson-ml3/requirements.txt"
   ]
  },
  {
   "cell_type": "code",
   "execution_count": 16,
   "id": "c9126b5d",
   "metadata": {
    "ExecuteTime": {
     "end_time": "2024-02-26T17:45:21.692127Z",
     "start_time": "2024-02-26T17:45:06.145662Z"
    }
   },
   "outputs": [
    {
     "name": "stdout",
     "output_type": "stream",
     "text": [
      "Collecting tensorflow\n",
      "  Downloading tensorflow-2.16.0rc0-cp312-cp312-macosx_12_0_arm64.whl.metadata (4.1 kB)\n",
      "Collecting absl-py>=1.0.0 (from tensorflow)\n",
      "  Using cached absl_py-2.1.0-py3-none-any.whl.metadata (2.3 kB)\n",
      "Collecting astunparse>=1.6.0 (from tensorflow)\n",
      "  Using cached astunparse-1.6.3-py2.py3-none-any.whl (12 kB)\n",
      "Collecting flatbuffers>=23.5.26 (from tensorflow)\n",
      "  Using cached flatbuffers-23.5.26-py2.py3-none-any.whl.metadata (850 bytes)\n",
      "Collecting gast!=0.5.0,!=0.5.1,!=0.5.2,>=0.2.1 (from tensorflow)\n",
      "  Using cached gast-0.5.4-py3-none-any.whl.metadata (1.3 kB)\n",
      "Collecting google-pasta>=0.1.1 (from tensorflow)\n",
      "  Using cached google_pasta-0.2.0-py3-none-any.whl (57 kB)\n",
      "Collecting h5py>=3.10.0 (from tensorflow)\n",
      "  Using cached h5py-3.10.0-cp312-cp312-macosx_11_0_arm64.whl.metadata (2.5 kB)\n",
      "Collecting libclang>=13.0.0 (from tensorflow)\n",
      "  Using cached libclang-16.0.6-py2.py3-none-macosx_11_0_arm64.whl.metadata (5.2 kB)\n",
      "Collecting ml-dtypes~=0.3.1 (from tensorflow)\n",
      "  Downloading ml_dtypes-0.3.2-cp312-cp312-macosx_10_9_universal2.whl.metadata (20 kB)\n",
      "Collecting opt-einsum>=2.3.2 (from tensorflow)\n",
      "  Using cached opt_einsum-3.3.0-py3-none-any.whl (65 kB)\n",
      "Requirement already satisfied: packaging in /Library/Frameworks/Python.framework/Versions/3.12/lib/python3.12/site-packages (from tensorflow) (23.2)\n",
      "Collecting protobuf!=4.21.0,!=4.21.1,!=4.21.2,!=4.21.3,!=4.21.4,!=4.21.5,<5.0.0dev,>=3.20.3 (from tensorflow)\n",
      "  Using cached protobuf-4.25.3-cp37-abi3-macosx_10_9_universal2.whl.metadata (541 bytes)\n",
      "Requirement already satisfied: requests<3,>=2.21.0 in /Library/Frameworks/Python.framework/Versions/3.12/lib/python3.12/site-packages (from tensorflow) (2.31.0)\n",
      "Requirement already satisfied: setuptools in /Library/Frameworks/Python.framework/Versions/3.12/lib/python3.12/site-packages (from tensorflow) (69.1.1)\n",
      "Requirement already satisfied: six>=1.12.0 in /Library/Frameworks/Python.framework/Versions/3.12/lib/python3.12/site-packages (from tensorflow) (1.16.0)\n",
      "Collecting termcolor>=1.1.0 (from tensorflow)\n",
      "  Using cached termcolor-2.4.0-py3-none-any.whl.metadata (6.1 kB)\n",
      "Collecting typing-extensions>=3.6.6 (from tensorflow)\n",
      "  Downloading typing_extensions-4.10.0-py3-none-any.whl.metadata (3.0 kB)\n",
      "Collecting wrapt>=1.11.0 (from tensorflow)\n",
      "  Downloading wrapt-1.16.0-cp312-cp312-macosx_11_0_arm64.whl.metadata (6.6 kB)\n",
      "Collecting grpcio<2.0,>=1.24.3 (from tensorflow)\n",
      "  Downloading grpcio-1.62.0-cp312-cp312-macosx_10_10_universal2.whl.metadata (4.0 kB)\n",
      "Collecting tensorboard<2.17,>=2.16 (from tensorflow)\n",
      "  Downloading tensorboard-2.16.2-py3-none-any.whl.metadata (1.6 kB)\n",
      "Collecting keras>=3.0.0 (from tensorflow)\n",
      "  Downloading keras-3.0.5-py3-none-any.whl.metadata (4.8 kB)\n",
      "Requirement already satisfied: numpy<2.0.0,>=1.26.0 in /Library/Frameworks/Python.framework/Versions/3.12/lib/python3.12/site-packages (from tensorflow) (1.26.4)\n",
      "Collecting wheel<1.0,>=0.23.0 (from astunparse>=1.6.0->tensorflow)\n",
      "  Using cached wheel-0.42.0-py3-none-any.whl.metadata (2.2 kB)\n",
      "Collecting rich (from keras>=3.0.0->tensorflow)\n",
      "  Using cached rich-13.7.0-py3-none-any.whl.metadata (18 kB)\n",
      "Collecting namex (from keras>=3.0.0->tensorflow)\n",
      "  Using cached namex-0.0.7-py3-none-any.whl.metadata (246 bytes)\n",
      "Collecting dm-tree (from keras>=3.0.0->tensorflow)\n",
      "  Downloading dm_tree-0.1.8-cp312-cp312-macosx_11_0_arm64.whl.metadata (1.9 kB)\n",
      "Requirement already satisfied: charset-normalizer<4,>=2 in /Library/Frameworks/Python.framework/Versions/3.12/lib/python3.12/site-packages (from requests<3,>=2.21.0->tensorflow) (3.3.2)\n",
      "Requirement already satisfied: idna<4,>=2.5 in /Library/Frameworks/Python.framework/Versions/3.12/lib/python3.12/site-packages (from requests<3,>=2.21.0->tensorflow) (3.6)\n",
      "Requirement already satisfied: urllib3<3,>=1.21.1 in /Library/Frameworks/Python.framework/Versions/3.12/lib/python3.12/site-packages (from requests<3,>=2.21.0->tensorflow) (2.2.1)\n",
      "Requirement already satisfied: certifi>=2017.4.17 in /Library/Frameworks/Python.framework/Versions/3.12/lib/python3.12/site-packages (from requests<3,>=2.21.0->tensorflow) (2024.2.2)\n",
      "Collecting markdown>=2.6.8 (from tensorboard<2.17,>=2.16->tensorflow)\n",
      "  Using cached Markdown-3.5.2-py3-none-any.whl.metadata (7.0 kB)\n",
      "Collecting tensorboard-data-server<0.8.0,>=0.7.0 (from tensorboard<2.17,>=2.16->tensorflow)\n",
      "  Using cached tensorboard_data_server-0.7.2-py3-none-any.whl.metadata (1.1 kB)\n",
      "Collecting werkzeug>=1.0.1 (from tensorboard<2.17,>=2.16->tensorflow)\n",
      "  Using cached werkzeug-3.0.1-py3-none-any.whl.metadata (4.1 kB)\n",
      "Requirement already satisfied: MarkupSafe>=2.1.1 in /Library/Frameworks/Python.framework/Versions/3.12/lib/python3.12/site-packages (from werkzeug>=1.0.1->tensorboard<2.17,>=2.16->tensorflow) (2.1.5)\n",
      "Collecting markdown-it-py>=2.2.0 (from rich->keras>=3.0.0->tensorflow)\n",
      "  Using cached markdown_it_py-3.0.0-py3-none-any.whl.metadata (6.9 kB)\n",
      "Requirement already satisfied: pygments<3.0.0,>=2.13.0 in /Library/Frameworks/Python.framework/Versions/3.12/lib/python3.12/site-packages (from rich->keras>=3.0.0->tensorflow) (2.17.2)\n",
      "Collecting mdurl~=0.1 (from markdown-it-py>=2.2.0->rich->keras>=3.0.0->tensorflow)\n",
      "  Using cached mdurl-0.1.2-py3-none-any.whl.metadata (1.6 kB)\n",
      "Downloading tensorflow-2.16.0rc0-cp312-cp312-macosx_12_0_arm64.whl (227.1 MB)\n",
      "\u001b[2K   \u001b[91m━━━━━━\u001b[0m\u001b[91m╸\u001b[0m\u001b[90m━━━━━━━━━━━━━━━━━━━━━━━━━━━━━━━━━\u001b[0m \u001b[32m37.1/227.1 MB\u001b[0m \u001b[31m28.2 MB/s\u001b[0m eta \u001b[36m0:00:07\u001b[0m"
     ]
    },
    {
     "data": {
      "text/html": [
       "<b>limit_output extension: Maximum message size of 10000 exceeded with 10093 characters</b>"
      ]
     },
     "metadata": {},
     "output_type": "display_data"
    }
   ],
   "source": [
    "!pip3 install tensorflow"
   ]
  },
  {
   "cell_type": "code",
   "execution_count": 18,
   "id": "56116475",
   "metadata": {
    "ExecuteTime": {
     "end_time": "2024-02-26T17:47:08.702215Z",
     "start_time": "2024-02-26T17:47:08.698233Z"
    }
   },
   "outputs": [
    {
     "data": {
      "text/plain": [
       "'Hi'"
      ]
     },
     "execution_count": 18,
     "metadata": {},
     "output_type": "execute_result"
    }
   ],
   "source": [
    "'Hi'"
   ]
  },
  {
   "cell_type": "code",
   "execution_count": 19,
   "id": "b86be2be",
   "metadata": {
    "ExecuteTime": {
     "end_time": "2024-02-26T17:47:29.975405Z",
     "start_time": "2024-02-26T17:47:29.553738Z"
    }
   },
   "outputs": [],
   "source": [
    "!pip3 freeze > requirements.txt"
   ]
  },
  {
   "cell_type": "code",
   "execution_count": 20,
   "id": "7fc9b47c",
   "metadata": {
    "ExecuteTime": {
     "end_time": "2024-02-26T17:47:38.306104Z",
     "start_time": "2024-02-26T17:47:38.170063Z"
    }
   },
   "outputs": [
    {
     "name": "stdout",
     "output_type": "stream",
     "text": [
      "absl-py==2.1.0\r\n",
      "anyio==4.3.0\r\n",
      "appnope==0.1.4\r\n",
      "argon2-cffi==23.1.0\r\n",
      "argon2-cffi-bindings==21.2.0\r\n",
      "arrow==1.3.0\r\n",
      "asttokens==2.4.1\r\n",
      "astunparse==1.6.3\r\n",
      "async-lru==2.0.4\r\n",
      "attrs==23.2.0\r\n",
      "Babel==2.14.0\r\n",
      "beautifulsoup4==4.12.3\r\n",
      "bleach==6.1.0\r\n",
      "certifi==2024.2.2\r\n",
      "cffi==1.16.0\r\n",
      "charset-normalizer==3.3.2\r\n",
      "click==8.1.7\r\n",
      "comm==0.2.1\r\n",
      "Cython==3.0.8\r\n",
      "debugpy==1.8.1\r\n",
      "decorator==5.1.1\r\n",
      "defusedxml==0.7.1\r\n",
      "distlib==0.3.8\r\n",
      "dlib==19.24.2\r\n",
      "dm-tree==0.1.8\r\n",
      "docopt==0.6.2\r\n",
      "entrypoints==0.4\r\n",
      "executing==2.0.1\r\n",
      "face-recognition==1.3.0\r\n",
      "face_recognition_models==0.3.0\r\n",
      "fastjsonschema==2.19.1\r\n",
      "filelock==3.13.1\r\n",
      "flatbuffers==23.5.26\r\n",
      "fqdn==1.5.1\r\n",
      "gast==0.5.4\r\n",
      "google-pasta==0.2.0\r\n",
      "grpcio==1.62.0\r\n",
      "h11==0.14.0\r\n",
      "h5py==3.10.0\r\n",
      "httpcore==1.0.3\r\n",
      "httpx==0.26.0\r\n",
      "idna==3.6\r\n",
      "ipykernel==6.29.2\r\n",
      "ipython==8.21.0\r\n",
      "ipython-genutils==0.2.0\r\n",
      "ipywidgets==8.1.2\r\n",
      "isoduration==20.11.0\r\n",
      "jedi==0.19.1\r\n",
      "Jinja2==3.1.3\r\n",
      "joblib==1.3.2\r\n",
      "json5==0.9.17\r\n",
      "jsonpointer==2.4\r\n",
      "jsonschema==4.21.1\r\n",
      "jsonschema-specifications==2023.12.1\r\n",
      "jupyter==1.0.0\r\n",
      "jupyter-console==6.6.3\r\n",
      "jupyter-events==0.9.0\r\n",
      "jupyter-highlight-selected-word==0.2.0\r\n",
      "jupyter-lsp==2.2.2\r\n",
      "jupyter-nbextensions-configurator==0.6.3\r\n",
      "jupyter_client==8.6.0\r\n",
      "jupyter_contrib_core==0.4.2\r\n",
      "jupyter_contrib_nbextensions==0.7.0\r\n",
      "jupyter_core==5.7.1\r\n",
      "jupyter_server==2.12.5\r\n",
      "jupyter_server_terminals==0.5.2\r\n",
      "jupyterlab==4.1.2\r\n",
      "jupyterlab-code-snippets==2.2.1\r\n",
      "jupyterlab-prolog-codemirror-extension==0.0.2\r\n",
      "jupyterlab_pygments==0.3.0\r\n",
      "jupyterlab_server==2.25.3\r\n",
      "jupyterlab_widgets==3.0.10\r\n",
      "keras==3.0.5\r\n",
      "libclang==16.0.6\r\n",
      "lxml==5.1.0\r\n",
      "Markdown==3.5.2\r\n",
      "markdown-it-py==3.0.0\r\n",
      "MarkupSafe==2.1.5\r\n",
      "matplotlib-inline==0.1.6\r\n",
      "mdurl==0.1.2\r\n",
      "mistune==0.8.4\r\n",
      "ml-dtypes==0.3.2\r\n",
      "namex==0.0.7\r\n",
      "nbclient==0.9.0\r\n",
      "nbconvert==6.5.4\r\n",
      "nbformat==5.9.2\r\n",
      "nest-asyncio==1.6.0\r\n",
      "notebook==6.4.12\r\n",
      "notebook_shim==0.2.4\r\n",
      "numpy==1.26.4\r\n",
      "opencv-contrib-python==4.9.0.80\r\n",
      "opt-einsum==3.3.0\r\n",
      "overrides==7.7.0\r\n",
      "packaging==23.2\r\n",
      "pandas==2.2.0\r\n",
      "pandocfilters==1.5.1\r\n",
      "parso==0.8.3\r\n",
      "pbr==6.0.0\r\n",
      "pexpect==4.9.0\r\n",
      "pillow==10.2.0\r\n",
      "platformdirs==4.2.0\r\n",
      "prometheus_client==0.20.0\r\n",
      "prompt-toolkit==3.0.43\r\n",
      "protobuf==4.25.3\r\n",
      "psutil==5.9.8\r\n",
      "ptyprocess==0.7.0\r\n",
      "pure-eval==0.2.2\r\n",
      "pycparser==2.21\r\n",
      "Pygments==2.17.2\r\n",
      "PySide6==6.6.2\r\n",
      "PySide6_Addons==6.6.2\r\n",
      "PySide6_Essentials==6.6.2\r\n",
      "python-dateutil==2.8.2\r\n",
      "python-json-logger==2.0.7\r\n",
      "pytz==2024.1\r\n",
      "PyYAML==6.0.1\r\n",
      "pyzmq==25.1.2\r\n",
      "qtconsole==5.5.1\r\n",
      "QtPy==2.4.1\r\n",
      "referencing==0.33.0\r\n",
      "requests==2.31.0\r\n",
      "rfc3339-validator==0.1.4\r\n",
      "rfc3986-validator==0.1.1\r\n",
      "rich==13.7.0\r\n",
      "rpds-py==0.18.0\r\n",
      "scikit-learn==1.4.1.post1\r\n",
      "scipy==1.12.0\r\n",
      "Send2Trash==1.8.2\r\n",
      "setuptools==69.1.1\r\n",
      "shiboken6==6.6.2\r\n",
      "six==1.16.0\r\n",
      "sniffio==1.3.0\r\n",
      "soupsieve==2.5\r\n",
      "stack-data==0.6.3\r\n",
      "stevedore==5.1.0\r\n",
      "tensorboard==2.16.2\r\n",
      "tensorboard-data-server==0.7.2\r\n",
      "tensorflow==2.16.0rc0\r\n",
      "termcolor==2.4.0\r\n",
      "terminado==0.18.0\r\n",
      "threadpoolctl==3.3.0\r\n",
      "tinycss2==1.2.1\r\n",
      "tornado==6.4\r\n",
      "traitlets==5.9.0\r\n",
      "types-python-dateutil==2.8.19.20240106\r\n",
      "typing_extensions==4.10.0\r\n",
      "tzdata==2024.1\r\n",
      "uri-template==1.3.0\r\n",
      "urllib3==2.2.1\r\n",
      "virtualenv==20.25.0\r\n",
      "virtualenv-clone==0.5.7\r\n",
      "virtualenvwrapper==6.1.0\r\n",
      "wcwidth==0.2.13\r\n",
      "webcolors==1.13\r\n",
      "webencodings==0.5.1\r\n",
      "websocket-client==1.7.0\r\n",
      "Werkzeug==3.0.1\r\n",
      "wheel==0.42.0\r\n",
      "widgetsnbextension==4.0.10\r\n",
      "wrapt==1.16.0\r\n"
     ]
    }
   ],
   "source": [
    "!cat requirements.txt"
   ]
  },
  {
   "cell_type": "code",
   "execution_count": 22,
   "id": "bccf3299",
   "metadata": {
    "ExecuteTime": {
     "end_time": "2024-02-26T17:48:20.623733Z",
     "start_time": "2024-02-26T17:48:18.012263Z"
    }
   },
   "outputs": [
    {
     "name": "stdout",
     "output_type": "stream",
     "text": [
      "Collecting python_imagesearch\n",
      "  Using cached python_imagesearch-1.3.0-py3-none-any.whl.metadata (1.6 kB)\n",
      "Collecting mss (from python_imagesearch)\n",
      "  Using cached mss-9.0.1-py3-none-any.whl.metadata (3.9 kB)\n",
      "Requirement already satisfied: numpy in /Library/Frameworks/Python.framework/Versions/3.12/lib/python3.12/site-packages (from python_imagesearch) (1.26.4)\n",
      "Collecting opencv-python (from python_imagesearch)\n",
      "  Using cached opencv_python-4.9.0.80-cp37-abi3-macosx_11_0_arm64.whl.metadata (20 kB)\n",
      "Collecting pyautogui (from python_imagesearch)\n",
      "  Using cached PyAutoGUI-0.9.54-py3-none-any.whl\n",
      "Collecting python3-xlib (from python_imagesearch)\n",
      "  Using cached python3_xlib-0.15-py3-none-any.whl\n",
      "Collecting pymsgbox (from pyautogui->python_imagesearch)\n",
      "  Using cached PyMsgBox-1.0.9-py3-none-any.whl\n",
      "Collecting pytweening>=1.0.4 (from pyautogui->python_imagesearch)\n",
      "  Downloading pytweening-1.2.0.tar.gz (171 kB)\n",
      "\u001b[2K     \u001b[90m━━━━━━━━━━━━━━━━━━━━━━━━━━━━━━━━━━━━━━━\u001b[0m \u001b[32m171.2/171.2 kB\u001b[0m \u001b[31m7.3 MB/s\u001b[0m eta \u001b[36m0:00:00\u001b[0m\n",
      "\u001b[?25h  Preparing metadata (setup.py) ... \u001b[?25ldone\n",
      "\u001b[?25hCollecting pyscreeze>=0.1.21 (from pyautogui->python_imagesearch)\n",
      "  Using cached PyScreeze-0.1.30-py3-none-any.whl\n",
      "Collecting pygetwindow>=0.0.5 (from pyautogui->python_imagesearch)\n",
      "  Using cached PyGetWindow-0.0.9-py3-none-any.whl\n",
      "Collecting mouseinfo (from pyautogui->python_imagesearch)\n",
      "  Using cached MouseInfo-0.1.3-py3-none-any.whl\n",
      "Collecting pyobjc-core (from pyautogui->python_imagesearch)\n",
      "  Using cached pyobjc_core-10.1-cp312-cp312-macosx_10_9_universal2.whl.metadata (2.5 kB)\n",
      "Collecting pyobjc-framework-quartz (from pyautogui->python_imagesearch)\n",
      "  Using cached pyobjc_framework_Quartz-10.1-cp312-cp312-macosx_10_9_universal2.whl.metadata (3.3 kB)\n",
      "Collecting pyrect (from pygetwindow>=0.0.5->pyautogui->python_imagesearch)\n",
      "  Using cached PyRect-0.2.0-py2.py3-none-any.whl\n",
      "Collecting pyperclip (from mouseinfo->pyautogui->python_imagesearch)\n",
      "  Using cached pyperclip-1.8.2-py3-none-any.whl\n",
      "Collecting rubicon-objc (from mouseinfo->pyautogui->python_imagesearch)\n",
      "  Using cached rubicon_objc-0.4.7-py3-none-any.whl.metadata (5.4 kB)\n",
      "Collecting pyobjc-framework-Cocoa>=10.1 (from pyobjc-framework-quartz->pyautogui->python_imagesearch)\n",
      "  Using cached pyobjc_framework_Cocoa-10.1-cp312-cp312-macosx_10_9_universal2.whl.metadata (2.3 kB)\n",
      "Using cached python_imagesearch-1.3.0-py3-none-any.whl (5.4 kB)\n",
      "Using cached mss-9.0.1-py3-none-any.whl (22 kB)\n",
      "Using cached opencv_python-4.9.0.80-cp37-abi3-macosx_11_0_arm64.whl (35.4 MB)\n",
      "Using cached pyobjc_core-10.1-cp312-cp312-macosx_10_9_universal2.whl (763 kB)\n",
      "Using cached pyobjc_framework_Quartz-10.1-cp312-cp312-macosx_10_9_universal2.whl (230 kB)\n",
      "Using cached pyobjc_framework_Cocoa-10.1-cp312-cp312-macosx_10_9_universal2.whl (392 kB)\n",
      "Using cached rubicon_objc-0.4.7-py3-none-any.whl (61 kB)\n",
      "Building wheels for collected packages: pytweening\n",
      "  Building wheel for pytweening (setup.py) ... \u001b[?25ldone\n",
      "\u001b[?25h  Created wheel for pytweening: filename=pytweening-1.2.0-py3-none-any.whl size=8011 sha256=3e26806a671bfff63560e080c8fafedb618fec2e067f4f85f91064d785bccd4c\n",
      "  Stored in directory: /Users/ankster/Library/Caches/pip/wheels/23/d5/13/4e9bdadbfe3c78e47c675e7410c0eed2fbb63c5ea6cf1b40e7\n",
      "Successfully built pytweening\n",
      "Installing collected packages: pytweening, python3-xlib, pyscreeze, pyrect, pyperclip, pymsgbox, rubicon-objc, pyobjc-core, pygetwindow, opencv-python, mss, pyobjc-framework-Cocoa, mouseinfo, pyobjc-framework-quartz, pyautogui, python_imagesearch\n",
      "Successfully installed mouseinfo-0.1.3 mss-9.0.1 opencv-python-4.9.0.80 pyautogui-0.9.54 pygetwindow-0.0.9 pymsgbox-1.0.9 pyobjc-core-10.1 pyobjc-framework-Cocoa-10.1 pyobjc-framework-quartz-10.1 pyperclip-1.8.2 pyrect-0.2.0 pyscreeze-0.1.30 python3-xlib-0.15 python_imagesearch-1.3.0 pytweening-1.2.0 rubicon-objc-0.4.7\n"
     ]
    }
   ],
   "source": [
    "!pip3 install python_imagesearch"
   ]
  },
  {
   "cell_type": "code",
   "execution_count": 23,
   "id": "fdf4d498",
   "metadata": {
    "ExecuteTime": {
     "end_time": "2024-02-26T17:49:03.517524Z",
     "start_time": "2024-02-26T17:48:41.159470Z"
    }
   },
   "outputs": [
    {
     "name": "stdout",
     "output_type": "stream",
     "text": [
      "Collecting box2d\n",
      "  Using cached Box2D-2.3.2.tar.gz (427 kB)\n",
      "  Preparing metadata (setup.py) ... \u001b[?25ldone\n",
      "\u001b[?25hBuilding wheels for collected packages: box2d\n",
      "  Building wheel for box2d (setup.py) ... \u001b[?25ldone\n",
      "\u001b[?25h  Created wheel for box2d: filename=Box2D-2.3.2-cp312-cp312-macosx_10_9_universal2.whl size=883749 sha256=c3ce42748ea460bd8108aa9e5bedd8d9dfcf8c5cb52b80b422147cd79e4c590e\n",
      "  Stored in directory: /Users/ankster/Library/Caches/pip/wheels/e3/aa/78/424855fab27d1f687a4e80471e219da5cf2e714c0187fa3b2e\n",
      "Successfully built box2d\n",
      "Installing collected packages: box2d\n",
      "Successfully installed box2d-2.3.2\n"
     ]
    }
   ],
   "source": [
    "!pip3 install box2d"
   ]
  },
  {
   "cell_type": "code",
   "execution_count": 24,
   "id": "d2fc164f",
   "metadata": {
    "ExecuteTime": {
     "end_time": "2024-02-26T17:49:45.881731Z",
     "start_time": "2024-02-26T17:49:41.826731Z"
    }
   },
   "outputs": [
    {
     "name": "stdout",
     "output_type": "stream",
     "text": [
      "Collecting gymnasium[Box2D,accept-rom-license,atari]\n",
      "  Using cached gymnasium-0.29.1-py3-none-any.whl.metadata (10 kB)\n",
      "Requirement already satisfied: numpy>=1.21.0 in /Library/Frameworks/Python.framework/Versions/3.12/lib/python3.12/site-packages (from gymnasium[Box2D,accept-rom-license,atari]) (1.26.4)\n",
      "Collecting cloudpickle>=1.2.0 (from gymnasium[Box2D,accept-rom-license,atari])\n",
      "  Using cached cloudpickle-3.0.0-py3-none-any.whl.metadata (7.0 kB)\n",
      "Requirement already satisfied: typing-extensions>=4.3.0 in /Library/Frameworks/Python.framework/Versions/3.12/lib/python3.12/site-packages (from gymnasium[Box2D,accept-rom-license,atari]) (4.10.0)\n",
      "Collecting farama-notifications>=0.0.1 (from gymnasium[Box2D,accept-rom-license,atari])\n",
      "  Using cached Farama_Notifications-0.0.4-py3-none-any.whl.metadata (558 bytes)\n",
      "Collecting autorom~=0.4.2 (from autorom[accept-rom-license]~=0.4.2; extra == \"accept-rom-license\"->gymnasium[Box2D,accept-rom-license,atari])\n",
      "  Using cached AutoROM-0.4.2-py3-none-any.whl.metadata (2.8 kB)\n",
      "Collecting shimmy<1.0,>=0.1.0 (from shimmy[atari]<1.0,>=0.1.0; extra == \"atari\"->gymnasium[Box2D,accept-rom-license,atari])\n",
      "  Using cached Shimmy-0.2.1-py3-none-any.whl.metadata (2.3 kB)\n",
      "Collecting box2d-py==2.3.5 (from gymnasium[Box2D,accept-rom-license,atari])\n",
      "  Using cached box2d-py-2.3.5.tar.gz (374 kB)\n",
      "  Preparing metadata (setup.py) ... \u001b[?25ldone\n",
      "\u001b[?25hCollecting pygame>=2.1.3 (from gymnasium[Box2D,accept-rom-license,atari])\n",
      "  Using cached pygame-2.5.2-cp312-cp312-macosx_11_0_arm64.whl.metadata (13 kB)\n",
      "Collecting swig==4.* (from gymnasium[Box2D,accept-rom-license,atari])\n",
      "  Using cached swig-4.2.0.post0-py2.py3-none-macosx_11_0_arm64.whl.metadata (3.6 kB)\n",
      "Requirement already satisfied: click in /Library/Frameworks/Python.framework/Versions/3.12/lib/python3.12/site-packages (from autorom~=0.4.2->autorom[accept-rom-license]~=0.4.2; extra == \"accept-rom-license\"->gymnasium[Box2D,accept-rom-license,atari]) (8.1.7)\n",
      "Requirement already satisfied: requests in /Library/Frameworks/Python.framework/Versions/3.12/lib/python3.12/site-packages (from autorom~=0.4.2->autorom[accept-rom-license]~=0.4.2; extra == \"accept-rom-license\"->gymnasium[Box2D,accept-rom-license,atari]) (2.31.0)\n",
      "Collecting tqdm (from autorom~=0.4.2->autorom[accept-rom-license]~=0.4.2; extra == \"accept-rom-license\"->gymnasium[Box2D,accept-rom-license,atari])\n",
      "  Using cached tqdm-4.66.2-py3-none-any.whl.metadata (57 kB)\n",
      "Collecting AutoROM.accept-rom-license (from autorom[accept-rom-license]~=0.4.2; extra == \"accept-rom-license\"->gymnasium[Box2D,accept-rom-license,atari])\n",
      "  Using cached AutoROM.accept-rom-license-0.6.1.tar.gz (434 kB)\n",
      "  Installing build dependencies ... \u001b[?25ldone\n",
      "\u001b[?25h  Getting requirements to build wheel ... \u001b[?25ldone\n",
      "\u001b[?25h  Preparing metadata (pyproject.toml) ... \u001b[?25ldone\n",
      "\u001b[?25hINFO: pip is looking at multiple versions of shimmy[atari] to determine which version is compatible with other requirements. This could take a while.\n",
      "Collecting shimmy[atari]<1.0,>=0.1.0 (from gymnasium[Box2D,accept-rom-license,atari])\n",
      "  Using cached Shimmy-0.2.0-py3-none-any.whl.metadata (5.2 kB)\n",
      "  Using cached Shimmy-0.1.0-py3-none-any.whl.metadata (2.1 kB)\n",
      "Collecting gymnasium[Box2D,accept-rom-license,atari]\n",
      "  Using cached gymnasium-0.29.0-py3-none-any.whl.metadata (10 kB)\n",
      "  Using cached gymnasium-0.28.1-py3-none-any.whl.metadata (9.2 kB)\n",
      "Collecting jax-jumpy>=1.0.0 (from gymnasium[Box2D,accept-rom-license,atari])\n",
      "  Using cached jax_jumpy-1.0.0-py3-none-any.whl.metadata (15 kB)\n",
      "Collecting pygame==2.1.3 (from gymnasium[Box2D,accept-rom-license,atari])\n",
      "  Using cached pygame-2.1.3.tar.gz (12.8 MB)\n",
      "  Preparing metadata (setup.py) ... \u001b[?25ldone\n",
      "\u001b[?25hINFO: pip is still looking at multiple versions of shimmy[atari] to determine which version is compatible with other requirements. This could take a while.\n",
      "Collecting gymnasium[Box2D,accept-rom-license,atari]\n",
      "  Using cached gymnasium-0.28.0-py3-none-any.whl.metadata (9.2 kB)\n",
      "  Using cached gymnasium-0.27.1-py3-none-any.whl.metadata (8.5 kB)\n",
      "Collecting gymnasium-notices>=0.0.1 (from gymnasium[Box2D,accept-rom-license,atari])\n",
      "  Using cached gymnasium_notices-0.0.1-py3-none-any.whl.metadata (1.1 kB)\n",
      "Collecting pygame==2.1.3.dev8 (from gymnasium[Box2D,accept-rom-license,atari])\n",
      "  Using cached pygame-2.1.3.dev8.tar.gz (12.1 MB)\n",
      "  Preparing metadata (setup.py) ... \u001b[?25ldone\n",
      "\u001b[?25hINFO: This is taking longer than usual. You might need to provide the dependency resolver with stricter constraints to reduce runtime. See https://pip.pypa.io/warnings/backtracking for guidance. If you want to abort this run, press Ctrl + C.\n",
      "Collecting gymnasium[Box2D,accept-rom-license,atari]\n",
      "  Using cached gymnasium-0.27.0-py3-none-any.whl.metadata (8.5 kB)\n",
      "  Using cached Gymnasium-0.26.3-py3-none-any.whl.metadata (5.8 kB)\n",
      "INFO: pip is looking at multiple versions of gymnasium[accept-rom-license,atari,box2d] to determine which version is compatible with other requirements. This could take a while.\n",
      "  Using cached gymnasium-0.26.2-py3-none-any.whl.metadata (4.1 kB)\n",
      "  Using cached gymnasium-0.26.1-py3-none-any.whl.metadata (4.1 kB)\n",
      "\u001b[31mERROR: Cannot install gymnasium[accept-rom-license,atari,box2d]==0.26.1, gymnasium[accept-rom-license,atari,box2d]==0.26.2 and gymnasium[accept-rom-license,atari,box2d]==0.26.3 because these package versions have conflicting dependencies.\u001b[0m\u001b[31m\n",
      "\u001b[0m\n",
      "The conflict is caused by:\n",
      "    gymnasium[accept-rom-license,atari,box2d] 0.26.3 depends on ale-py~=0.8.0; extra == \"atari\"\n",
      "    gymnasium[accept-rom-license,atari,box2d] 0.26.2 depends on ale-py~=0.8.0; extra == \"atari\"\n",
      "    gymnasium[accept-rom-license,atari,box2d] 0.26.1 depends on ale-py~=0.8.0; extra == \"atari\"\n",
      "\n",
      "To fix this you could try to:\n",
      "1. loosen the range of package versions you've specified\n",
      "2. remove package versions to allow pip attempt to solve the dependency conflict\n",
      "\n",
      "\u001b[31mERROR: ResolutionImpossible: for help visit https://pip.pypa.io/en/latest/topics/dependency-resolution/#dealing-with-dependency-conflicts\u001b[0m\u001b[31m\n",
      "\u001b[0m"
     ]
    }
   ],
   "source": [
    "!pip3 install gymnasium\\[Box2D,atari,accept-rom-license\\]\n"
   ]
  },
  {
   "cell_type": "code",
   "execution_count": 25,
   "id": "a056c4bf",
   "metadata": {
    "ExecuteTime": {
     "end_time": "2024-02-26T17:51:03.159146Z",
     "start_time": "2024-02-26T17:51:02.230776Z"
    }
   },
   "outputs": [
    {
     "name": "stdout",
     "output_type": "stream",
     "text": [
      "Collecting gymnasium[atari]\n",
      "  Using cached gymnasium-0.29.1-py3-none-any.whl.metadata (10 kB)\n",
      "Requirement already satisfied: numpy>=1.21.0 in /Library/Frameworks/Python.framework/Versions/3.12/lib/python3.12/site-packages (from gymnasium[atari]) (1.26.4)\n",
      "Collecting cloudpickle>=1.2.0 (from gymnasium[atari])\n",
      "  Using cached cloudpickle-3.0.0-py3-none-any.whl.metadata (7.0 kB)\n",
      "Requirement already satisfied: typing-extensions>=4.3.0 in /Library/Frameworks/Python.framework/Versions/3.12/lib/python3.12/site-packages (from gymnasium[atari]) (4.10.0)\n",
      "Collecting farama-notifications>=0.0.1 (from gymnasium[atari])\n",
      "  Using cached Farama_Notifications-0.0.4-py3-none-any.whl.metadata (558 bytes)\n",
      "Collecting shimmy<1.0,>=0.1.0 (from shimmy[atari]<1.0,>=0.1.0; extra == \"atari\"->gymnasium[atari])\n",
      "  Using cached Shimmy-0.2.1-py3-none-any.whl.metadata (2.3 kB)\n",
      "INFO: pip is looking at multiple versions of shimmy[atari] to determine which version is compatible with other requirements. This could take a while.\n",
      "Collecting shimmy[atari]<1.0,>=0.1.0 (from gymnasium[atari])\n",
      "  Using cached Shimmy-0.2.0-py3-none-any.whl.metadata (5.2 kB)\n",
      "  Using cached Shimmy-0.1.0-py3-none-any.whl.metadata (2.1 kB)\n",
      "Collecting gymnasium[atari]\n",
      "  Using cached gymnasium-0.29.0-py3-none-any.whl.metadata (10 kB)\n",
      "  Using cached gymnasium-0.28.1-py3-none-any.whl.metadata (9.2 kB)\n",
      "Collecting jax-jumpy>=1.0.0 (from gymnasium[atari])\n",
      "  Using cached jax_jumpy-1.0.0-py3-none-any.whl.metadata (15 kB)\n",
      "INFO: pip is still looking at multiple versions of shimmy[atari] to determine which version is compatible with other requirements. This could take a while.\n",
      "Collecting gymnasium[atari]\n",
      "  Using cached gymnasium-0.28.0-py3-none-any.whl.metadata (9.2 kB)\n",
      "  Using cached gymnasium-0.27.1-py3-none-any.whl.metadata (8.5 kB)\n",
      "Collecting gymnasium-notices>=0.0.1 (from gymnasium[atari])\n",
      "  Using cached gymnasium_notices-0.0.1-py3-none-any.whl.metadata (1.1 kB)\n",
      "INFO: This is taking longer than usual. You might need to provide the dependency resolver with stricter constraints to reduce runtime. See https://pip.pypa.io/warnings/backtracking for guidance. If you want to abort this run, press Ctrl + C.\n",
      "Collecting gymnasium[atari]\n",
      "  Using cached gymnasium-0.27.0-py3-none-any.whl.metadata (8.5 kB)\n",
      "  Using cached Gymnasium-0.26.3-py3-none-any.whl.metadata (5.8 kB)\n",
      "INFO: pip is looking at multiple versions of gymnasium[atari] to determine which version is compatible with other requirements. This could take a while.\n",
      "  Using cached gymnasium-0.26.2-py3-none-any.whl.metadata (4.1 kB)\n",
      "  Using cached gymnasium-0.26.1-py3-none-any.whl.metadata (4.1 kB)\n",
      "\u001b[31mERROR: Cannot install gymnasium[atari]==0.26.1, gymnasium[atari]==0.26.2 and gymnasium[atari]==0.26.3 because these package versions have conflicting dependencies.\u001b[0m\u001b[31m\n",
      "\u001b[0m\n",
      "The conflict is caused by:\n",
      "    gymnasium[atari] 0.26.3 depends on ale-py~=0.8.0; extra == \"atari\"\n",
      "    gymnasium[atari] 0.26.2 depends on ale-py~=0.8.0; extra == \"atari\"\n",
      "    gymnasium[atari] 0.26.1 depends on ale-py~=0.8.0; extra == \"atari\"\n",
      "\n",
      "To fix this you could try to:\n",
      "1. loosen the range of package versions you've specified\n",
      "2. remove package versions to allow pip attempt to solve the dependency conflict\n",
      "\n",
      "\u001b[31mERROR: ResolutionImpossible: for help visit https://pip.pypa.io/en/latest/topics/dependency-resolution/#dealing-with-dependency-conflicts\u001b[0m\u001b[31m\n",
      "\u001b[0m"
     ]
    }
   ],
   "source": [
    "!pip3 install \"gymnasium[atari]\""
   ]
  },
  {
   "cell_type": "code",
   "execution_count": 38,
   "id": "f4ef073a",
   "metadata": {
    "ExecuteTime": {
     "end_time": "2024-02-26T17:56:13.547916Z",
     "start_time": "2024-02-26T17:55:53.723574Z"
    }
   },
   "outputs": [
    {
     "name": "stdout",
     "output_type": "stream",
     "text": [
      "Collecting gym[atari]\n",
      "  Using cached gym-0.26.2-py3-none-any.whl\n",
      "Requirement already satisfied: numpy>=1.18.0 in /Library/Frameworks/Python.framework/Versions/3.12/lib/python3.12/site-packages (from gym[atari]) (1.26.4)\n",
      "Collecting cloudpickle>=1.2.0 (from gym[atari])\n",
      "  Using cached cloudpickle-3.0.0-py3-none-any.whl.metadata (7.0 kB)\n",
      "Collecting gym-notices>=0.0.4 (from gym[atari])\n",
      "  Using cached gym_notices-0.0.8-py3-none-any.whl.metadata (1.0 kB)\n",
      "INFO: pip is looking at multiple versions of gym[atari] to determine which version is compatible with other requirements. This could take a while.\n",
      "Collecting gym[atari]\n",
      "  Using cached gym-0.26.1.tar.gz (719 kB)\n",
      "  Installing build dependencies ... \u001b[?25ldone\n",
      "\u001b[?25h  Getting requirements to build wheel ... \u001b[?25ldone\n",
      "\u001b[?25h  Installing backend dependencies ... \u001b[?25ldone\n",
      "\u001b[?25h  Preparing metadata (pyproject.toml) ... \u001b[?25ldone\n",
      "\u001b[?25h  Using cached gym-0.26.0.tar.gz (710 kB)\n",
      "  Installing build dependencies ... \u001b[?25ldone\n",
      "\u001b[?25h  Getting requirements to build wheel ... \u001b[?25ldone\n",
      "\u001b[?25h  Installing backend dependencies ... \u001b[?25ldone\n",
      "\u001b[?25h  Preparing metadata (pyproject.toml) ... \u001b[?25ldone\n",
      "\u001b[?25h  Using cached gym-0.25.2.tar.gz (734 kB)\n",
      "  Installing build dependencies ... \u001b[?25ldone\n",
      "\u001b[?25h  Getting requirements to build wheel ... \u001b[?25ldone\n",
      "\u001b[?25h  Installing backend dependencies ... \u001b[?25ldone\n",
      "\u001b[?25h  Preparing metadata (pyproject.toml) ... \u001b[?25ldone\n",
      "\u001b[?25h  Using cached gym-0.25.1.tar.gz (732 kB)\n",
      "  Installing build dependencies ... \u001b[?25ldone\n",
      "\u001b[?25h  Getting requirements to build wheel ... \u001b[?25ldone\n",
      "\u001b[?25h  Installing backend dependencies ... \u001b[?25ldone\n",
      "\u001b[?25h  Preparing metadata (pyproject.toml) ... \u001b[?25ldone\n",
      "\u001b[?25h  Using cached gym-0.25.0.tar.gz (720 kB)\n",
      "  Installing build dependencies ... \u001b[?25ldone\n",
      "\u001b[?25h  Getting requirements to build wheel ... \u001b[?25ldone\n",
      "\u001b[?25h  Installing backend dependencies ... \u001b[?25ldone\n",
      "\u001b[?25h  Preparing metadata (pyproject.toml) ... \u001b[?25ldone\n",
      "\u001b[?25h  Using cached gym-0.24.1.tar.gz (696 kB)\n",
      "  Installing build dependencies ... \u001b[?25ldone\n",
      "\u001b[?25h  Getting requirements to build wheel ... \u001b[?25ldone\n",
      "\u001b[?25h  Installing backend dependencies ... \u001b[?25ldone\n",
      "\u001b[?25h  Preparing metadata (pyproject.toml) ... \u001b[?25ldone\n",
      "\u001b[?25h  Using cached gym-0.24.0.tar.gz (694 kB)\n",
      "  Installing build dependencies ... \u001b[?25ldone\n",
      "\u001b[?25h  Getting requirements to build wheel ... \u001b[?25ldone\n",
      "\u001b[?25h  Installing backend dependencies ... \u001b[?25ldone\n",
      "\u001b[?25h  Preparing metadata (pyproject.toml) ... \u001b[?25ldone\n",
      "\u001b[?25hINFO: pip is still looking at multiple versions of gym[atari] to determine which version is compatible with other requirements. This could take a while.\n",
      "  Using cached gym-0.23.1.tar.gz (626 kB)\n",
      "  Installing build dependencies ... \u001b[?25ldone\n",
      "\u001b[?25h  Getting requirements to build wheel ... \u001b[?25ldone\n",
      "\u001b[?25h  Installing backend dependencies ... \u001b[?25ldone\n",
      "\u001b[?25h  Preparing metadata (pyproject.toml) ... \u001b[?25ldone\n",
      "\u001b[?25h  Using cached gym-0.23.0.tar.gz (624 kB)\n",
      "  Installing build dependencies ... \u001b[?25ldone\n",
      "\u001b[?25h  Getting requirements to build wheel ... \u001b[?25ldone\n",
      "\u001b[?25h  Installing backend dependencies ... \u001b[?25ldone\n",
      "\u001b[?25h  Preparing metadata (pyproject.toml) ... \u001b[?25ldone\n",
      "\u001b[?25h  Using cached gym-0.22.0.tar.gz (631 kB)\n",
      "  Installing build dependencies ... \u001b[?25ldone\n",
      "\u001b[?25h  Getting requirements to build wheel ... \u001b[?25ldone\n",
      "\u001b[?25h  Installing backend dependencies ... \u001b[?25ldone\n",
      "\u001b[?25h  Preparing metadata (pyproject.toml) ... \u001b[?25ldone\n",
      "\u001b[?25h  Using cached gym-0.21.0.tar.gz (1.5 MB)\n",
      "  Preparing metadata (setup.py) ... \u001b[?25lerror\n",
      "  \u001b[1;31merror\u001b[0m: \u001b[1msubprocess-exited-with-error\u001b[0m\n",
      "  \n",
      "  \u001b[31m×\u001b[0m \u001b[32mpython setup.py egg_info\u001b[0m did not run successfully.\n",
      "  \u001b[31m│\u001b[0m exit code: \u001b[1;36m1\u001b[0m\n",
      "  \u001b[31m╰─>\u001b[0m \u001b[31m[1 lines of output]\u001b[0m\n",
      "  \u001b[31m   \u001b[0m error in gym setup command: 'extras_require' must be a dictionary whose values are strings or lists of strings containing valid project/version requirement specifiers.\n",
      "  \u001b[31m   \u001b[0m \u001b[31m[end of output]\u001b[0m\n",
      "  \n",
      "  \u001b[1;35mnote\u001b[0m: This error originates from a subprocess, and is likely not a problem with pip.\n",
      "\u001b[1;31merror\u001b[0m: \u001b[1mmetadata-generation-failed\u001b[0m\n",
      "\n",
      "\u001b[31m×\u001b[0m Encountered error while generating package metadata.\n",
      "\u001b[31m╰─>\u001b[0m See above for output.\n",
      "\n",
      "\u001b[1;35mnote\u001b[0m: This is an issue with the package mentioned above, not pip.\n",
      "\u001b[1;36mhint\u001b[0m: See above for details.\n",
      "\u001b[?25h"
     ]
    }
   ],
   "source": [
    "!pip3 install gym\\[atari\\]\n",
    "\n"
   ]
  },
  {
   "cell_type": "code",
   "execution_count": 39,
   "id": "549e5afa",
   "metadata": {
    "ExecuteTime": {
     "end_time": "2024-02-26T17:56:40.360573Z",
     "start_time": "2024-02-26T17:56:38.695010Z"
    }
   },
   "outputs": [],
   "source": [
    "!/usr/bin/python3 -m venv .venv"
   ]
  },
  {
   "cell_type": "code",
   "execution_count": 40,
   "id": "68e0b904",
   "metadata": {
    "ExecuteTime": {
     "end_time": "2024-02-26T17:56:52.375388Z",
     "start_time": "2024-02-26T17:56:52.240540Z"
    }
   },
   "outputs": [],
   "source": [
    "!source .venv/bin/activate"
   ]
  },
  {
   "cell_type": "code",
   "execution_count": 42,
   "id": "a6db231e",
   "metadata": {
    "ExecuteTime": {
     "end_time": "2024-02-26T17:57:31.457431Z",
     "start_time": "2024-02-26T17:57:16.254399Z"
    }
   },
   "outputs": [
    {
     "name": "stdout",
     "output_type": "stream",
     "text": [
      "Collecting jupyterlab~=4.0.8 (from -r handson-ml3/requirements.txt (line 7))\n",
      "  Using cached jupyterlab-4.0.13-py3-none-any.whl.metadata (15 kB)\n",
      "Collecting matplotlib~=3.8.1 (from -r handson-ml3/requirements.txt (line 8))\n",
      "  Using cached matplotlib-3.8.3-cp312-cp312-macosx_11_0_arm64.whl.metadata (5.8 kB)\n",
      "Requirement already satisfied: numpy~=1.26.2 in /Library/Frameworks/Python.framework/Versions/3.12/lib/python3.12/site-packages (from -r handson-ml3/requirements.txt (line 9)) (1.26.4)\n",
      "Collecting pandas~=2.1.3 (from -r handson-ml3/requirements.txt (line 10))\n",
      "  Using cached pandas-2.1.4-cp312-cp312-macosx_11_0_arm64.whl.metadata (18 kB)\n",
      "Collecting scipy~=1.11.3 (from -r handson-ml3/requirements.txt (line 11))\n",
      "  Using cached scipy-1.11.4-cp312-cp312-macosx_12_0_arm64.whl.metadata (217 kB)\n",
      "Collecting scikit-learn~=1.3.2 (from -r handson-ml3/requirements.txt (line 14))\n",
      "  Using cached scikit_learn-1.3.2-cp312-cp312-macosx_12_0_arm64.whl.metadata (11 kB)\n",
      "Collecting xgboost~=2.0.2 (from -r handson-ml3/requirements.txt (line 17))\n",
      "  Using cached xgboost-2.0.3-py3-none-macosx_12_0_arm64.whl.metadata (2.0 kB)\n",
      "Collecting transformers~=4.35.0 (from -r handson-ml3/requirements.txt (line 20))\n",
      "  Using cached transformers-4.35.2-py3-none-any.whl.metadata (123 kB)\n",
      "Requirement already satisfied: tensorflow in /Library/Frameworks/Python.framework/Versions/3.12/lib/python3.12/site-packages (from -r handson-ml3/requirements.txt (line 30)) (2.16.0rc0)\n",
      "Collecting tensorflow-serving-api~=2.14.0 (from -r handson-ml3/requirements.txt (line 33))\n",
      "  Using cached tensorflow_serving_api-2.14.1-py2.py3-none-any.whl.metadata (1.8 kB)\n",
      "Requirement already satisfied: tensorboard in /Library/Frameworks/Python.framework/Versions/3.12/lib/python3.12/site-packages (from -r handson-ml3/requirements.txt (line 35)) (2.16.2)\n",
      "Collecting tensorboard-plugin-profile (from -r handson-ml3/requirements.txt (line 36))\n",
      "  Using cached tensorboard_plugin_profile-2.15.1-py3-none-any.whl.metadata (1.0 kB)\n",
      "Collecting tensorflow-datasets (from -r handson-ml3/requirements.txt (line 37))\n",
      "  Using cached tensorflow_datasets-4.9.4-py3-none-any.whl.metadata (9.2 kB)\n",
      "Collecting tensorflow-hub (from -r handson-ml3/requirements.txt (line 38))\n",
      "  Using cached tensorflow_hub-0.16.1-py2.py3-none-any.whl.metadata (1.3 kB)\n",
      "Collecting keras-tuner~=1.4.6 (from -r handson-ml3/requirements.txt (line 41))\n",
      "  Using cached keras_tuner-1.4.6-py3-none-any.whl.metadata (5.4 kB)\n",
      "Collecting swig (from -r handson-ml3/requirements.txt (line 47))\n",
      "  Using cached swig-4.2.0.post0-py2.py3-none-macosx_11_0_arm64.whl.metadata (3.6 kB)\n",
      "Collecting Pillow~=10.1.0 (from -r handson-ml3/requirements.txt (line 56))\n",
      "  Using cached Pillow-10.1.0-cp312-cp312-macosx_11_0_arm64.whl.metadata (9.5 kB)\n",
      "Collecting graphviz~=0.20.1 (from -r handson-ml3/requirements.txt (line 57))\n",
      "  Using cached graphviz-0.20.1-py3-none-any.whl.metadata (12 kB)\n",
      "Collecting google-cloud-aiplatform~=1.36.2 (from -r handson-ml3/requirements.txt (line 60))\n",
      "  Using cached google_cloud_aiplatform-1.36.4-py2.py3-none-any.whl.metadata (27 kB)\n",
      "Collecting google-cloud-storage~=2.13.0 (from -r handson-ml3/requirements.txt (line 61))\n",
      "  Using cached google_cloud_storage-2.13.0-py2.py3-none-any.whl.metadata (6.1 kB)\n",
      "Requirement already satisfied: joblib~=1.3.2 in /Library/Frameworks/Python.framework/Versions/3.12/lib/python3.12/site-packages (from -r handson-ml3/requirements.txt (line 66)) (1.3.2)\n",
      "Requirement already satisfied: requests~=2.31.0 in /Library/Frameworks/Python.framework/Versions/3.12/lib/python3.12/site-packages (from -r handson-ml3/requirements.txt (line 69)) (2.31.0)\n",
      "Collecting nbdime~=3.2.1 (from -r handson-ml3/requirements.txt (line 72))\n",
      "  Using cached nbdime-3.2.1-py2.py3-none-any.whl.metadata (6.1 kB)\n",
      "Collecting numexpr~=2.8.7 (from -r handson-ml3/requirements.txt (line 76))\n",
      "  Using cached numexpr-2.8.8-cp312-cp312-macosx_11_0_arm64.whl.metadata (7.9 kB)\n",
      "Collecting nltk (from -r handson-ml3/requirements.txt (line 79))\n",
      "  Using cached nltk-3.8.1-py3-none-any.whl.metadata (2.8 kB)\n",
      "Collecting urlextract~=1.8.0 (from -r handson-ml3/requirements.txt (line 80))\n",
      "  Using cached urlextract-1.8.0-py3-none-any.whl.metadata (5.4 kB)\n",
      "Collecting tqdm~=4.66.1 (from -r handson-ml3/requirements.txt (line 84))\n",
      "  Using cached tqdm-4.66.2-py3-none-any.whl.metadata (57 kB)\n",
      "Requirement already satisfied: ipywidgets~=8.1.1 in /Library/Frameworks/Python.framework/Versions/3.12/lib/python3.12/site-packages (from -r handson-ml3/requirements.txt (line 85)) (8.1.2)\n",
      "Collecting pydot~=1.4.2 (from -r handson-ml3/requirements.txt (line 88))\n",
      "  Using cached pydot-1.4.2-py2.py3-none-any.whl (21 kB)\n",
      "Collecting statsmodels~=0.14.0 (from -r handson-ml3/requirements.txt (line 91))\n",
      "  Using cached statsmodels-0.14.1-cp312-cp312-macosx_11_0_arm64.whl.metadata (9.5 kB)\n",
      "Collecting gymnasium[Box2D,accept-rom-license,atari] (from -r handson-ml3/requirements.txt (line 48))\n",
      "  Using cached gymnasium-0.29.1-py3-none-any.whl.metadata (10 kB)\n",
      "Requirement already satisfied: async-lru>=1.0.0 in /Library/Frameworks/Python.framework/Versions/3.12/lib/python3.12/site-packages (from jupyterlab~=4.0.8->-r handson-ml3/requirements.txt (line 7)) (2.0.4)\n",
      "Requirement already satisfied: ipykernel in /Library/Frameworks/Python.framework/Versions/3.12/lib/python3.12/site-packages (from jupyterlab~=4.0.8->-r handson-ml3/requirements.txt (line 7)) (6.29.2)\n",
      "Requirement already satisfied: jinja2>=3.0.3 in /Library/Frameworks/Python.framework/Versions/3.12/lib/python3.12/site-packages (from jupyterlab~=4.0.8->-r handson-ml3/requirements.txt (line 7)) (3.1.3)\n",
      "Requirement already satisfied: jupyter-core in /Library/Frameworks/Python.framework/Versions/3.12/lib/python3.12/site-packages (from jupyterlab~=4.0.8->-r handson-ml3/requirements.txt (line 7)) (5.7.1)\n",
      "Requirement already satisfied: jupyter-lsp>=2.0.0 in /Library/Frameworks/Python.framework/Versions/3.12/lib/python3.12/site-packages (from jupyterlab~=4.0.8->-r handson-ml3/requirements.txt (line 7)) (2.2.2)\n",
      "Requirement already satisfied: jupyter-server<3,>=2.4.0 in /Library/Frameworks/Python.framework/Versions/3.12/lib/python3.12/site-packages (from jupyterlab~=4.0.8->-r handson-ml3/requirements.txt (line 7)) (2.12.5)\n",
      "Requirement already satisfied: jupyterlab-server<3,>=2.19.0 in /Library/Frameworks/Python.framework/Versions/3.12/lib/python3.12/site-packages (from jupyterlab~=4.0.8->-r handson-ml3/requirements.txt (line 7)) (2.25.3)\n",
      "Requirement already satisfied: notebook-shim>=0.2 in /Library/Frameworks/Python.framework/Versions/3.12/lib/python3.12/site-packages (from jupyterlab~=4.0.8->-r handson-ml3/requirements.txt (line 7)) (0.2.4)\n",
      "Requirement already satisfied: packaging in /Library/Frameworks/Python.framework/Versions/3.12/lib/python3.12/site-packages (from jupyterlab~=4.0.8->-r handson-ml3/requirements.txt (line 7)) (23.2)\n",
      "Requirement already satisfied: tornado>=6.2.0 in /Library/Frameworks/Python.framework/Versions/3.12/lib/python3.12/site-packages (from jupyterlab~=4.0.8->-r handson-ml3/requirements.txt (line 7)) (6.4)\n",
      "Requirement already satisfied: traitlets in /Library/Frameworks/Python.framework/Versions/3.12/lib/python3.12/site-packages (from jupyterlab~=4.0.8->-r handson-ml3/requirements.txt (line 7)) (5.9.0)\n",
      "Collecting contourpy>=1.0.1 (from matplotlib~=3.8.1->-r handson-ml3/requirements.txt (line 8))\n",
      "  Using cached contourpy-1.2.0-cp312-cp312-macosx_11_0_arm64.whl.metadata (5.8 kB)\n",
      "Collecting cycler>=0.10 (from matplotlib~=3.8.1->-r handson-ml3/requirements.txt (line 8))\n",
      "  Using cached cycler-0.12.1-py3-none-any.whl.metadata (3.8 kB)\n",
      "Collecting fonttools>=4.22.0 (from matplotlib~=3.8.1->-r handson-ml3/requirements.txt (line 8))\n",
      "  Using cached fonttools-4.49.0-cp312-cp312-macosx_10_9_universal2.whl.metadata (159 kB)\n",
      "Collecting kiwisolver>=1.3.1 (from matplotlib~=3.8.1->-r handson-ml3/requirements.txt (line 8))\n",
      "  Using cached kiwisolver-1.4.5-cp312-cp312-macosx_11_0_arm64.whl.metadata (6.4 kB)\n",
      "Collecting pyparsing>=2.3.1 (from matplotlib~=3.8.1->-r handson-ml3/requirements.txt (line 8))\n",
      "  Using cached pyparsing-3.1.1-py3-none-any.whl.metadata (5.1 kB)\n",
      "Requirement already satisfied: python-dateutil>=2.7 in /Library/Frameworks/Python.framework/Versions/3.12/lib/python3.12/site-packages (from matplotlib~=3.8.1->-r handson-ml3/requirements.txt (line 8)) (2.8.2)\n"
     ]
    },
    {
     "name": "stdout",
     "output_type": "stream",
     "text": [
      "Requirement already satisfied: pytz>=2020.1 in /Library/Frameworks/Python.framework/Versions/3.12/lib/python3.12/site-packages (from pandas~=2.1.3->-r handson-ml3/requirements.txt (line 10)) (2024.1)\n",
      "Requirement already satisfied: tzdata>=2022.1 in /Library/Frameworks/Python.framework/Versions/3.12/lib/python3.12/site-packages (from pandas~=2.1.3->-r handson-ml3/requirements.txt (line 10)) (2024.1)\n",
      "Requirement already satisfied: threadpoolctl>=2.0.0 in /Library/Frameworks/Python.framework/Versions/3.12/lib/python3.12/site-packages (from scikit-learn~=1.3.2->-r handson-ml3/requirements.txt (line 14)) (3.3.0)\n",
      "Requirement already satisfied: filelock in /Library/Frameworks/Python.framework/Versions/3.12/lib/python3.12/site-packages (from transformers~=4.35.0->-r handson-ml3/requirements.txt (line 20)) (3.13.1)\n",
      "Collecting huggingface-hub<1.0,>=0.16.4 (from transformers~=4.35.0->-r handson-ml3/requirements.txt (line 20))\n",
      "  Using cached huggingface_hub-0.20.3-py3-none-any.whl.metadata (12 kB)\n",
      "Requirement already satisfied: pyyaml>=5.1 in /Library/Frameworks/Python.framework/Versions/3.12/lib/python3.12/site-packages (from transformers~=4.35.0->-r handson-ml3/requirements.txt (line 20)) (6.0.1)\n",
      "Collecting regex!=2019.12.17 (from transformers~=4.35.0->-r handson-ml3/requirements.txt (line 20))\n",
      "  Using cached regex-2023.12.25-cp312-cp312-macosx_11_0_arm64.whl.metadata (40 kB)\n",
      "Collecting tokenizers<0.19,>=0.14 (from transformers~=4.35.0->-r handson-ml3/requirements.txt (line 20))\n",
      "  Using cached tokenizers-0.15.2-cp312-cp312-macosx_11_0_arm64.whl.metadata (6.7 kB)\n",
      "Collecting safetensors>=0.3.1 (from transfor"
     ]
    },
    {
     "data": {
      "text/html": [
       "<b>limit_output extension: Maximum message size of 10000 exceeded with 10058 characters</b>"
      ]
     },
     "metadata": {},
     "output_type": "display_data"
    }
   ],
   "source": [
    "!pip3 install -r handson-ml3/requirements.txt"
   ]
  },
  {
   "cell_type": "code",
   "execution_count": 45,
   "id": "aa2a7186",
   "metadata": {
    "ExecuteTime": {
     "end_time": "2024-02-26T17:58:30.382302Z",
     "start_time": "2024-02-26T17:58:29.118897Z"
    }
   },
   "outputs": [
    {
     "name": "stdout",
     "output_type": "stream",
     "text": [
      "Collecting pygame\n",
      "  Using cached pygame-2.5.2-cp312-cp312-macosx_11_0_arm64.whl.metadata (13 kB)\n",
      "Using cached pygame-2.5.2-cp312-cp312-macosx_11_0_arm64.whl (12.3 MB)\n",
      "Installing collected packages: pygame\n",
      "Successfully installed pygame-2.5.2\n"
     ]
    }
   ],
   "source": [
    "!pip3 install pygame"
   ]
  },
  {
   "cell_type": "code",
   "execution_count": 44,
   "id": "035ecae4",
   "metadata": {
    "ExecuteTime": {
     "end_time": "2024-02-26T17:57:54.857931Z",
     "start_time": "2024-02-26T17:57:54.722553Z"
    }
   },
   "outputs": [
    {
     "name": "stdout",
     "output_type": "stream",
     "text": [
      "/Library/Frameworks/Python.framework/Versions/3.12/bin/python3\r\n"
     ]
    }
   ],
   "source": [
    "!which python3"
   ]
  },
  {
   "cell_type": "code",
   "execution_count": 46,
   "id": "86e69fac",
   "metadata": {
    "ExecuteTime": {
     "end_time": "2024-02-26T17:58:41.440088Z",
     "start_time": "2024-02-26T17:58:40.469429Z"
    }
   },
   "outputs": [
    {
     "name": "stdout",
     "output_type": "stream",
     "text": [
      "pygame 2.5.2 (SDL 2.28.3, Python 3.12.2)\n",
      "Hello from the pygame community. https://www.pygame.org/contribute.html\n"
     ]
    }
   ],
   "source": [
    "import pygame"
   ]
  },
  {
   "cell_type": "code",
   "execution_count": 47,
   "id": "5aa8f781",
   "metadata": {
    "ExecuteTime": {
     "end_time": "2024-02-26T17:59:02.360503Z",
     "start_time": "2024-02-26T17:59:02.041971Z"
    }
   },
   "outputs": [
    {
     "data": {
      "text/plain": [
       "(5, 0)"
      ]
     },
     "execution_count": 47,
     "metadata": {},
     "output_type": "execute_result"
    }
   ],
   "source": [
    "pygame.init()"
   ]
  },
  {
   "cell_type": "code",
   "execution_count": null,
   "id": "3a5445c8",
   "metadata": {},
   "outputs": [],
   "source": []
  }
 ],
 "metadata": {
  "hide_input": false,
  "kernelspec": {
   "display_name": "Python 3 (ipykernel)",
   "language": "python",
   "name": "python3"
  },
  "language_info": {
   "codemirror_mode": {
    "name": "ipython",
    "version": 3
   },
   "file_extension": ".py",
   "mimetype": "text/x-python",
   "name": "python",
   "nbconvert_exporter": "python",
   "pygments_lexer": "ipython3",
   "version": "3.12.2"
  },
  "toc": {
   "base_numbering": 1,
   "nav_menu": {},
   "number_sections": true,
   "sideBar": true,
   "skip_h1_title": false,
   "title_cell": "Table of Contents",
   "title_sidebar": "Contents",
   "toc_cell": false,
   "toc_position": {},
   "toc_section_display": true,
   "toc_window_display": false
  },
  "varInspector": {
   "cols": {
    "lenName": 16,
    "lenType": 16,
    "lenVar": 40
   },
   "kernels_config": {
    "python": {
     "delete_cmd_postfix": "",
     "delete_cmd_prefix": "del ",
     "library": "var_list.py",
     "varRefreshCmd": "print(var_dic_list())"
    },
    "r": {
     "delete_cmd_postfix": ") ",
     "delete_cmd_prefix": "rm(",
     "library": "var_list.r",
     "varRefreshCmd": "cat(var_dic_list()) "
    }
   },
   "types_to_exclude": [
    "module",
    "function",
    "builtin_function_or_method",
    "instance",
    "_Feature"
   ],
   "window_display": false
  }
 },
 "nbformat": 4,
 "nbformat_minor": 5
}
