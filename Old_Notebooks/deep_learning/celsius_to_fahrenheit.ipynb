{
 "cells": [
  {
   "cell_type": "markdown",
   "metadata": {
    "id": "HnKx50tv5aZD"
   },
   "source": [
    "##### Copyright 2018 The TensorFlow Authors."
   ]
  },
  {
   "cell_type": "code",
   "execution_count": 1,
   "metadata": {
    "cellView": "form",
    "id": "IwtS_OXU5cWG"
   },
   "outputs": [],
   "source": [
    "# @title Licensed under the Apache License, Version 2.0 (the \"License\");\n",
    "# you may not use this file except in compliance with the License.\n",
    "# You may obtain a copy of the License at\n",
    "#\n",
    "# https://www.apache.org/licenses/LICENSE-2.0\n",
    "#\n",
    "# Unless required by applicable law or agreed to in writing, software\n",
    "# distributed under the License is distributed on an \"AS IS\" BASIS,\n",
    "# WITHOUT WARRANTIES OR CONDITIONS OF ANY KIND, either express or implied.\n",
    "# See the License for the specific language governing permissions and\n",
    "# limitations under the License."
   ]
  },
  {
   "cell_type": "markdown",
   "metadata": {
    "id": "YHI3vyhv5p85"
   },
   "source": [
    "# The Basics: Training Your First Model"
   ]
  },
  {
   "cell_type": "markdown",
   "metadata": {
    "id": "_wJ2E7jV5tN5"
   },
   "source": [
    "<table class=\"tfo-notebook-buttons\" align=\"left\">\n",
    "  <td>\n",
    "    <a target=\"_blank\" href=\"https://colab.research.google.com/github/tensorflow/examples/blob/master/courses/udacity_intro_to_tensorflow_for_deep_learning/l02c01_celsius_to_fahrenheit.ipynb\"><img src=\"https://www.tensorflow.org/images/colab_logo_32px.png\" />Run in Google Colab</a>\n",
    "  </td>\n",
    "  <td>\n",
    "    <a target=\"_blank\" href=\"https://github.com/tensorflow/examples/blob/master/courses/udacity_intro_to_tensorflow_for_deep_learning/l02c01_celsius_to_fahrenheit.ipynb\"><img src=\"https://www.tensorflow.org/images/GitHub-Mark-32px.png\" />View source on GitHub</a>\n",
    "  </td>\n",
    "</table>"
   ]
  },
  {
   "cell_type": "markdown",
   "metadata": {
    "id": "F8YVA_634OFk"
   },
   "source": [
    "Welcome to this Colab where you will train your first Machine Learning model!\n",
    "\n",
    "We'll try to keep things simple here, and only introduce basic concepts. Later Colabs will cover more advanced problems.\n",
    "\n",
    "The problem we will solve is to convert from Celsius to Fahrenheit, where the approximate formula is:\n",
    "\n",
    "$$ f = c \\times 1.8 + 32 $$\n",
    "\n",
    "\n",
    "Of course, it would be simple enough to create a conventional Python function that directly performs this calculation, but that wouldn't be machine learning.\n",
    "\n",
    "\n",
    "Instead, we will give TensorFlow some sample Celsius values (0, 8, 15, 22, 38) and their corresponding Fahrenheit values (32, 46, 59, 72, 100).\n",
    "Then, we will train a model that figures out the above formula through the training process."
   ]
  },
  {
   "cell_type": "markdown",
   "metadata": {
    "id": "fA93WUy1zzWf"
   },
   "source": [
    "## Import dependencies\n",
    "\n",
    "First, import TensorFlow. Here, we're calling it `tf` for ease of use. We also tell it to only display errors.\n",
    "\n",
    "Next, import [NumPy](http://www.numpy.org/) as `np`. Numpy helps us to represent our data as highly performant lists."
   ]
  },
  {
   "cell_type": "code",
   "source": [
    "import tensorflow as tf"
   ],
   "metadata": {
    "id": "Udl5wouLA7gH"
   },
   "execution_count": 2,
   "outputs": []
  },
  {
   "cell_type": "code",
   "execution_count": 3,
   "metadata": {
    "id": "-ZMgCvSRFqxE",
    "colab": {
     "base_uri": "https://localhost:8080/",
     "height": 85
    },
    "outputId": "99496222-d0d5-4b39-8efe-3caa42dc023f"
   },
   "outputs": [
    {
     "output_type": "stream",
     "name": "stdout",
     "text": [
      "['AggregationMethod', 'Assert', 'CriticalSection', 'DType', 'DeviceSpec', 'GradientTape', 'Graph', 'IndexedSlices', 'IndexedSlicesSpec', 'Module', 'Operation', 'OptionalSpec', 'RaggedTensor', 'RaggedTensorSpec', 'RegisterGradient', 'SparseTensor', 'SparseTensorSpec', 'Tensor', 'TensorArray', 'TensorArraySpec', 'TensorShape', 'TensorSpec', 'TypeSpec', 'UnconnectedGradients', 'Variable', 'VariableAggregation', 'VariableSynchronization', '_API_MODULE', '_KerasLazyLoader', '__all__', '__builtins__', '__cached__', '__compiler_version__', '__cxx11_abi_flag__', '__cxx_version__', '__doc__', '__file__', '__git_version__', '__internal__', '__loader__', '__monolithic_build__', '__name__', '__operators__', '__package__', '__path__', '__spec__', '__version__', '_api', '_compat', '_current_file_location', '_current_module', '_distutils', '_fi', '_initializers', '_inspect', '_kernel_dir', '_ll', '_losses', '_major_api_version', '_metrics', '_module_dir', '_module_util', '_names_with_underscore', '_optimizers', '_os', '_plugin_dir', '_pywrap_tensorflow', '_running_from_pip_package', '_s', '_site', '_site_packages_dirs', '_sys', '_tf2', '_tf_api_dir', '_tf_dir', '_tf_uses_legacy_keras', 'abs', 'acos', 'acosh', 'add', 'add_n', 'approx_top_k', 'argmax', 'argmin', 'argsort', 'as_dtype', 'as_string', 'asin', 'asinh', 'assert_equal', 'assert_greater', 'assert_less', 'assert_rank', 'atan', 'atan2', 'atanh', 'audio', 'autodiff', 'autograph', 'batch_to_space', 'bfloat16', 'bitcast', 'bitwise', 'bool', 'boolean_mask', 'broadcast_dynamic_shape', 'broadcast_static_shape', 'broadcast_to', 'case', 'cast', 'clip_by_global_norm', 'clip_by_norm', 'clip_by_value', 'compat', 'complex', 'complex128', 'complex64', 'concat', 'cond', 'config', 'constant', 'constant_initializer', 'control_dependencies', 'conv', 'conv2d_backprop_filter_v2', 'conv2d_backprop_input_v2', 'convert_to_tensor', 'cos', 'cosh', 'cumsum', 'custom_gradient', 'data', 'debugging', 'device', 'distribute', 'divide', 'double', 'dtensor', 'dtypes', 'dynamic_partition', 'dynamic_stitch', 'edit_distance', 'eig', 'eigvals', 'einsum', 'ensure_shape', 'equal', 'errors', 'executing_eagerly', 'exp', 'expand_dims', 'experimental', 'extract_volume_patches', 'eye', 'feature_column', 'fftnd', 'fill', 'fingerprint', 'float16', 'float32', 'float64', 'floor', 'foldl', 'foldr', 'function', 'gather', 'gather_nd', 'get_current_name_scope', 'get_logger', 'get_static_value', 'grad_pass_through', 'gradients', 'graph_util', 'greater', 'greater_equal', 'group', 'guarantee_const', 'half', 'hessians', 'histogram_fixed_width', 'histogram_fixed_width_bins', 'identity', 'identity_n', 'ifftnd', 'image', 'import_graph_def', 'init_scope', 'initializers', 'inside_function', 'int16', 'int32', 'int64', 'int8', 'io', 'irfftnd', 'is_symbolic_tensor', 'is_tensor', 'keras', 'less', 'less_equal', 'linalg', 'linspace', 'lite', 'load_library', 'load_op_library', 'logical_and', 'logical_not', 'logical_or', 'lookup', 'losses', 'make_ndarray', 'make_tensor_proto', 'map_fn', 'math', 'matmul', 'matrix_square_root', 'maximum', 'meshgrid', 'metrics', 'minimum', 'mlir', 'multiply', 'name_scope', 'negative', 'nest', 'newaxis', 'nn', 'no_gradient', 'no_op', 'nondifferentiable_batch_function', 'norm', 'not_equal', 'numpy_function', 'one_hot', 'ones', 'ones_initializer', 'ones_like', 'optimizers', 'pad', 'parallel_stack', 'pow', 'print', 'profiler', 'py_function', 'qint16', 'qint32', 'qint8', 'quantization', 'queue', 'quint16', 'quint8', 'ragged', 'ragged_fill_empty_rows', 'ragged_fill_empty_rows_grad', 'random', 'random_index_shuffle', 'random_normal_initializer', 'random_uniform_initializer', 'range', 'rank', 'raw_ops', 'realdiv', 'recompute_grad', 'reduce_all', 'reduce_any', 'reduce_logsumexp', 'reduce_max', 'reduce_mean', 'reduce_min', 'reduce_prod', 'reduce_sum', 'register_tensor_conversion_function', 'repeat', 'required_space_to_batch_paddings', 'reshape', 'resource', 'reverse', 'reverse_sequence', 'rfftnd', 'roll', 'round', 'saturate_cast', 'saved_model', 'scalar_mul', 'scan', 'scatter_nd', 'searchsorted', 'security', 'sequence_mask', 'sets', 'shape', 'shape_n', 'sigmoid', 'sign', 'signal', 'sin', 'sinh', 'size', 'slice', 'sort', 'space_to_batch', 'space_to_batch_nd', 'sparse', 'split', 'sqrt', 'square', 'squeeze', 'stack', 'stop_gradient', 'strided_slice', 'string', 'strings', 'subtract', 'summary', 'switch_case', 'sysconfig', 'tan', 'tanh', 'tensor_scatter_nd_add', 'tensor_scatter_nd_max', 'tensor_scatter_nd_min', 'tensor_scatter_nd_sub', 'tensor_scatter_nd_update', 'tensordot', 'test', 'tile', 'timestamp', 'tools', 'tpu', 'train', 'transpose', 'truediv', 'truncatediv', 'truncatemod', 'tsl', 'tuple', 'type_spec_from_value', 'types', 'uint16', 'uint32', 'uint64', 'uint8', 'unique', 'unique_with_counts', 'unravel_index', 'unstack', 'variable_creator_scope', 'variant', 'vectorized_map', 'version', 'where', 'while_loop', 'xla', 'zeros', 'zeros_initializer', 'zeros_like']\n"
     ]
    },
    {
     "output_type": "execute_result",
     "data": {
      "text/plain": [
       "'2.17.0'"
      ],
      "application/vnd.google.colaboratory.intrinsic+json": {
       "type": "string"
      }
     },
     "metadata": {},
     "execution_count": 3
    }
   ],
   "source": [
    "print(dir(tf))\n",
    "tf.__version__"
   ]
  },
  {
   "cell_type": "code",
   "execution_count": 4,
   "metadata": {
    "id": "y_WQEM5MGmg3"
   },
   "outputs": [],
   "source": [
    "import numpy as np\n",
    "import logging\n",
    "\n",
    "logger = tf.get_logger()\n",
    "logger.setLevel(logging.INFO)"
   ]
  },
  {
   "cell_type": "markdown",
   "metadata": {
    "id": "AC3EQFi20buB"
   },
   "source": [
    "## Set up training data\n",
    "\n",
    "As we saw before, supervised Machine Learning is all about figuring out an algorithm given a set of inputs and outputs. Since the task in this Codelab is to create a model that can give the temperature in Fahrenheit when given the degrees in Celsius, we create two lists `celsius_q` and `fahrenheit_a` that we can use to train our model."
   ]
  },
  {
   "cell_type": "code",
   "execution_count": 5,
   "metadata": {
    "id": "gg4pn6aI1vms",
    "colab": {
     "base_uri": "https://localhost:8080/"
    },
    "outputId": "50f0e047-74df-4f4e-e4b4-8d03c01bade7"
   },
   "outputs": [
    {
     "output_type": "stream",
     "name": "stdout",
     "text": [
      "-40.0 degrees Celsius = -40.0 degrees Fahrenheit\n",
      "-10.0 degrees Celsius = 14.0 degrees Fahrenheit\n",
      "0.0 degrees Celsius = 32.0 degrees Fahrenheit\n",
      "8.0 degrees Celsius = 46.0 degrees Fahrenheit\n",
      "15.0 degrees Celsius = 59.0 degrees Fahrenheit\n",
      "22.0 degrees Celsius = 72.0 degrees Fahrenheit\n",
      "38.0 degrees Celsius = 100.0 degrees Fahrenheit\n",
      "40.0 degrees Celsius = 104.0 degrees Fahrenheit\n",
      "9.0 degrees Celsius = 50.0 degrees Fahrenheit\n",
      "Using the last value as an outlier\n"
     ]
    }
   ],
   "source": [
    "celsius_q = np.array([-40, -10, 0, 8, 15, 22, 38, 40, 9], dtype=float)\n",
    "fahrenheit_a = np.array([-40, 14, 32, 46, 59, 72, 100, 104, 50], dtype=float)\n",
    "\n",
    "for i, c in enumerate(celsius_q):\n",
    "    print(\"{} degrees Celsius = {} degrees Fahrenheit\".format(c, fahrenheit_a[i]))\n",
    "\n",
    "print(\"Using the last value as an outlier\")"
   ]
  },
  {
   "cell_type": "markdown",
   "metadata": {
    "id": "wwJGmDrQ0EoB"
   },
   "source": [
    "### Some Machine Learning terminology\n",
    "\n",
    " - **Feature** — The input(s) to our model. In this case, a single value — the degrees in Celsius.\n",
    "\n",
    " - **Labels** — The output our model predicts. In this case, a single value — the degrees in Fahrenheit.\n",
    "\n",
    " - **Example** — A pair of inputs/outputs used during training. In our case a pair of values from `celsius_q` and `fahrenheit_a` at a specific index, such as `(22,72)`.\n"
   ]
  },
  {
   "cell_type": "markdown",
   "metadata": {
    "id": "VM7_9Klvq7MO"
   },
   "source": [
    "## Create the model\n",
    "\n",
    "Next, create the model. We will use the simplest possible model we can, a Dense network. Since the problem is straightforward, this network will require only a single layer, with a single neuron.\n",
    "\n",
    "### Build a layer\n",
    "\n",
    "We'll call the layer `l0` and create it by instantiating `tf.keras.layers.Dense` with the following configuration:\n",
    "\n",
    "*   `input_shape=[1]` — This specifies that the input to this layer is a single value. That is, the shape is a one-dimensional array with one member. Since this is the first (and only) layer, that input shape is the input shape of the entire model. The single value is a floating point number, representing degrees Celsius.\n",
    "\n",
    "*   `units=1` — This specifies the number of neurons in the layer. The number of neurons defines how many internal variables the layer has to try to learn how to solve the problem (more later). Since this is the final layer, it is also the size of the model's output — a single float value representing degrees Fahrenheit. (In a multi-layered network, the size and shape of the layer would need to match the `input_shape` of the next layer.)\n"
   ]
  },
  {
   "cell_type": "code",
   "execution_count": 6,
   "metadata": {
    "id": "pRllo2HLfXiu",
    "colab": {
     "base_uri": "https://localhost:8080/"
    },
    "outputId": "6b32dff4-f129-4878-f6bf-f1f00dfff523"
   },
   "outputs": [
    {
     "output_type": "stream",
     "name": "stderr",
     "text": [
      "/usr/local/lib/python3.10/dist-packages/keras/src/layers/core/dense.py:87: UserWarning: Do not pass an `input_shape`/`input_dim` argument to a layer. When using Sequential models, prefer using an `Input(shape)` object as the first layer in the model instead.\n",
      "  super().__init__(activity_regularizer=activity_regularizer, **kwargs)\n"
     ]
    }
   ],
   "source": [
    "l0 = tf.keras.layers.Dense(units=1, input_shape=[1])"
   ]
  },
  {
   "cell_type": "markdown",
   "metadata": {
    "id": "_F00_J9duLBD"
   },
   "source": [
    "### Assemble layers into the model\n",
    "\n",
    "Once layers are defined, they need to be assembled into a model. The Sequential model definition takes a list of layers as an argument, specifying the calculation order from the input to the output.\n",
    "\n",
    "This model has just a single layer, l0."
   ]
  },
  {
   "cell_type": "code",
   "execution_count": 7,
   "metadata": {
    "id": "cSp-GpLSuMRq"
   },
   "outputs": [],
   "source": [
    "model = tf.keras.Sequential([l0])"
   ]
  },
  {
   "cell_type": "markdown",
   "metadata": {
    "id": "t7pfHfWxust0"
   },
   "source": [
    "**Note**\n",
    "\n",
    "You will often see the layers defined inside the model definition, rather than beforehand:\n",
    "\n",
    "```python\n",
    "model = tf.keras.Sequential([\n",
    "  tf.keras.layers.Dense(units=1, input_shape=[1])\n",
    "])\n",
    "```"
   ]
  },
  {
   "cell_type": "markdown",
   "metadata": {
    "id": "kiZG7uhm8qCF"
   },
   "source": [
    "## Compile the model, with loss and optimizer functions\n",
    "\n",
    "Before training, the model has to be compiled. When compiled for training, the model is given:\n",
    "\n",
    "- **Loss function** — A way of measuring how far off predictions are from the desired outcome. (The measured difference is called the \"loss\".)\n",
    "\n",
    "- **Optimizer function** — A way of adjusting internal values in order to reduce the loss.\n"
   ]
  },
  {
   "cell_type": "code",
   "execution_count": 8,
   "metadata": {
    "id": "m8YQN1H41L-Y"
   },
   "outputs": [],
   "source": [
    "model.compile(loss=\"mean_squared_error\", optimizer=tf.keras.optimizers.Adam(0.1))"
   ]
  },
  {
   "cell_type": "markdown",
   "metadata": {
    "id": "17M3Pqv4P52R"
   },
   "source": [
    "These are used during training (`model.fit()`, below) to first calculate the loss at each point, and then improve it. In fact, the act of calculating the current loss of a model and then improving it is precisely what training is.\n",
    "\n",
    "During training, the optimizer function is used to calculate adjustments to the model's internal variables. The goal is to adjust the internal variables until the model (which is really a math function) mirrors the actual equation for converting Celsius to Fahrenheit.\n",
    "\n",
    "TensorFlow uses numerical analysis to perform this tuning, and all this complexity is hidden from you so we will not go into the details here. What is useful to know about these parameters are:\n",
    "\n",
    "The loss function ([mean squared error](https://en.wikipedia.org/wiki/Mean_squared_error)) and the optimizer ([Adam](https://machinelearningmastery.com/adam-optimization-algorithm-for-deep-learning/)) used here are standard for simple models like this one, but many others are available. It is not important to know how these specific functions work at this point.\n",
    "\n",
    "One part of the Optimizer you may need to think about when building your own models is the learning rate (`0.1` in the code above). This is the step size taken when adjusting values in the model. If the value is too small, it will take too many iterations to train the model. Too large, and accuracy goes down. Finding a good value often involves some trial and error, but the range is usually within 0.001 (default), and 0.1"
   ]
  },
  {
   "cell_type": "markdown",
   "metadata": {
    "id": "c-Jk4dG91dvD"
   },
   "source": [
    "## Train the model\n",
    "\n",
    "Train the model by calling the `fit` method.\n",
    "\n",
    "During training, the model takes in Celsius values, performs a calculation using the current internal variables (called \"weights\") and outputs values which are meant to be the Fahrenheit equivalent. Since the weights are initially set randomly, the output will not be close to the correct value. The difference between the actual output and the desired output is calculated using the loss function, and the optimizer function directs how the weights should be adjusted.\n",
    "\n",
    "This cycle of calculate, compare, adjust is controlled by the `fit` method. The first argument is the inputs, the second argument is the desired outputs. The `epochs` argument specifies how many times this cycle should be run, and the `verbose` argument controls how much output the method produces."
   ]
  },
  {
   "cell_type": "code",
   "execution_count": 9,
   "metadata": {
    "id": "lpRrl7WK10Pq",
    "colab": {
     "base_uri": "https://localhost:8080/"
    },
    "outputId": "174db71e-d7b5-483e-ad4d-e9f7da7fe30f"
   },
   "outputs": [
    {
     "output_type": "stream",
     "name": "stdout",
     "text": [
      "Finished training the model\n"
     ]
    }
   ],
   "source": [
    "history = model.fit(celsius_q, fahrenheit_a, epochs=500, verbose=False)\n",
    "print(\"Finished training the model\")"
   ]
  },
  {
   "cell_type": "code",
   "source": [
    "history.history"
   ],
   "metadata": {
    "colab": {
     "base_uri": "https://localhost:8080/"
    },
    "id": "Ek7W648sC2VT",
    "outputId": "470f93f8-0eec-47bd-c13d-d40f4cb0d7d7"
   },
   "execution_count": 10,
   "outputs": [
    {
     "output_type": "execute_result",
     "data": {
      "text/plain": [
       "{'loss': [2338.67626953125,\n",
       "  2147.350830078125,\n",
       "  1969.248291015625,\n",
       "  1804.5615234375,\n",
       "  1653.4244384765625,\n",
       "  1515.895751953125,\n",
       "  1391.9500732421875,\n",
       "  1281.4696044921875,\n",
       "  1184.229248046875,\n",
       "  1099.888427734375,\n",
       "  1027.982666015625,\n",
       "  967.9176635742188,\n",
       "  918.966796875,\n",
       "  880.275146484375,\n",
       "  850.867919921875,\n",
       "  829.66650390625,\n",
       "  815.5126953125,\n",
       "  807.1973876953125,\n",
       "  803.497802734375,\n",
       "  803.2146606445312,\n",
       "  805.21337890625,\n",
       "  808.4588012695312,\n",
       "  812.0479125976562,\n",
       "  815.2311401367188,\n",
       "  817.426513671875,\n",
       "  818.222900390625,\n",
       "  817.3724975585938,\n",
       "  814.7784423828125,\n",
       "  810.4729614257812,\n",
       "  804.5946044921875,\n",
       "  797.361083984375,\n",
       "  789.0438232421875,\n",
       "  779.943115234375,\n",
       "  770.365966796875,\n",
       "  760.6068115234375,\n",
       "  750.9325561523438,\n",
       "  741.5706176757812,\n",
       "  732.7015991210938,\n",
       "  724.4552001953125,\n",
       "  716.9091796875,\n",
       "  710.09326171875,\n",
       "  703.991943359375,\n",
       "  698.553466796875,\n",
       "  693.6969604492188,\n",
       "  689.3214721679688,\n",
       "  685.315185546875,\n",
       "  681.5640869140625,\n",
       "  677.959228515625,\n",
       "  674.4033813476562,\n",
       "  670.815185546875,\n",
       "  667.1321411132812,\n",
       "  663.312255859375,\n",
       "  659.3328247070312,\n",
       "  655.1900024414062,\n",
       "  650.894775390625,\n",
       "  646.4705810546875,\n",
       "  641.9489135742188,\n",
       "  637.3660888671875,\n",
       "  632.7594604492188,\n",
       "  628.1641845703125,\n",
       "  623.6113891601562,\n",
       "  619.1253051757812,\n",
       "  614.7236328125,\n",
       "  610.4164428710938,\n",
       "  606.2066040039062,\n",
       "  602.0906982421875,\n",
       "  598.060302734375,\n",
       "  594.1033325195312,\n",
       "  590.205810546875,\n",
       "  586.3526000976562,\n",
       "  582.52978515625,\n",
       "  578.7246704101562,\n",
       "  574.9270629882812,\n",
       "  571.1299438476562,\n",
       "  567.3286743164062,\n",
       "  563.5219116210938,\n",
       "  559.7106323242188,\n",
       "  555.897705078125,\n",
       "  552.0873413085938,\n",
       "  548.2847290039062,\n",
       "  544.4949951171875,\n",
       "  540.72314453125,\n",
       "  536.97314453125,\n",
       "  533.2482299804688,\n",
       "  529.5504150390625,\n",
       "  525.8804321289062,\n",
       "  522.2384643554688,\n",
       "  518.623291015625,\n",
       "  515.033447265625,\n",
       "  511.4669494628906,\n",
       "  507.9217224121094,\n",
       "  504.39556884765625,\n",
       "  500.8868408203125,\n",
       "  497.3941955566406,\n",
       "  493.9167175292969,\n",
       "  490.4537658691406,\n",
       "  487.00537109375,\n",
       "  483.57171630859375,\n",
       "  480.1534423828125,\n",
       "  476.7512512207031,\n",
       "  473.36578369140625,\n",
       "  469.9978942871094,\n",
       "  466.6481628417969,\n",
       "  463.31683349609375,\n",
       "  460.00439453125,\n",
       "  456.71087646484375,\n",
       "  453.4363098144531,\n",
       "  450.1802978515625,\n",
       "  446.94256591796875,\n",
       "  443.722900390625,\n",
       "  440.5208435058594,\n",
       "  437.3360595703125,\n",
       "  434.1683349609375,\n",
       "  431.0173034667969,\n",
       "  427.8829345703125,\n",
       "  424.7651672363281,\n",
       "  421.6639404296875,\n",
       "  418.579345703125,\n",
       "  415.5115051269531,\n",
       "  412.4603271484375,\n",
       "  409.426025390625,\n",
       "  406.4085998535156,\n",
       "  403.4083557128906,\n",
       "  400.4248352050781,\n",
       "  397.4583740234375,\n",
       "  394.50872802734375,\n",
       "  391.57598876953125,\n",
       "  388.6598815917969,\n",
       "  385.76043701171875,\n",
       "  382.87750244140625,\n",
       "  380.0110168457031,\n",
       "  377.160888671875,\n",
       "  374.3270263671875,\n",
       "  371.5093994140625,\n",
       "  368.7079772949219,\n",
       "  365.92266845703125,\n",
       "  363.1534729003906,\n",
       "  360.4003601074219,\n",
       "  357.6632995605469,\n",
       "  354.9422912597656,\n",
       "  352.2371520996094,\n",
       "  349.5479736328125,\n",
       "  346.874755859375,\n",
       "  344.21734619140625,\n",
       "  341.57574462890625,\n",
       "  338.9497985839844,\n",
       "  336.33953857421875,\n",
       "  333.744873046875,\n",
       "  331.1656799316406,\n",
       "  328.60198974609375,\n",
       "  326.05377197265625,\n",
       "  323.52093505859375,\n",
       "  321.0032958984375,\n",
       "  318.5010070800781,\n",
       "  316.0138244628906,\n",
       "  313.5418701171875,\n",
       "  311.0849914550781,\n",
       "  308.6431884765625,\n",
       "  306.2163391113281,\n",
       "  303.8044738769531,\n",
       "  301.4074401855469,\n",
       "  299.02532958984375,\n",
       "  296.6580505371094,\n",
       "  294.3053283691406,\n",
       "  291.9673767089844,\n",
       "  289.64404296875,\n",
       "  287.3353271484375,\n",
       "  285.041015625,\n",
       "  282.7610778808594,\n",
       "  280.49566650390625,\n",
       "  278.2445068359375,\n",
       "  276.0075988769531,\n",
       "  273.78497314453125,\n",
       "  271.57647705078125,\n",
       "  269.3820495605469,\n",
       "  267.2016906738281,\n",
       "  265.0353698730469,\n",
       "  262.8829345703125,\n",
       "  260.7443542480469,\n",
       "  258.61962890625,\n",
       "  256.5086669921875,\n",
       "  254.411376953125,\n",
       "  252.32781982421875,\n",
       "  250.25775146484375,\n",
       "  248.20127868652344,\n",
       "  246.1582794189453,\n",
       "  244.12860107421875,\n",
       "  242.11244201660156,\n",
       "  240.10948181152344,\n",
       "  238.11973571777344,\n",
       "  236.1432342529297,\n",
       "  234.17987060546875,\n",
       "  232.22962951660156,\n",
       "  230.29234313964844,\n",
       "  228.36802673339844,\n",
       "  226.45660400390625,\n",
       "  224.55804443359375,\n",
       "  222.6722869873047,\n",
       "  220.79920959472656,\n",
       "  218.9388427734375,\n",
       "  217.09107971191406,\n",
       "  215.25579833984375,\n",
       "  213.43316650390625,\n",
       "  211.6228485107422,\n",
       "  209.82498168945312,\n",
       "  208.0393829345703,\n",
       "  206.26617431640625,\n",
       "  204.50514221191406,\n",
       "  202.75619506835938,\n",
       "  201.0193634033203,\n",
       "  199.29457092285156,\n",
       "  197.5818634033203,\n",
       "  195.88099670410156,\n",
       "  194.19204711914062,\n",
       "  192.51487731933594,\n",
       "  190.84947204589844,\n",
       "  189.19577026367188,\n",
       "  187.55374145507812,\n",
       "  185.9232940673828,\n",
       "  184.30435180664062,\n",
       "  182.6968994140625,\n",
       "  181.10089111328125,\n",
       "  179.51620483398438,\n",
       "  177.94285583496094,\n",
       "  176.3807373046875,\n",
       "  174.82986450195312,\n",
       "  173.2900848388672,\n",
       "  171.76138305664062,\n",
       "  170.24371337890625,\n",
       "  168.73699951171875,\n",
       "  167.24122619628906,\n",
       "  165.75628662109375,\n",
       "  164.28216552734375,\n",
       "  162.81881713867188,\n",
       "  161.36610412597656,\n",
       "  159.92413330078125,\n",
       "  158.49261474609375,\n",
       "  157.07168579101562,\n",
       "  155.6612091064453,\n",
       "  154.26116943359375,\n",
       "  152.8715057373047,\n",
       "  151.4921417236328,\n",
       "  150.123046875,\n",
       "  148.7640838623047,\n",
       "  147.41529846191406,\n",
       "  146.07666015625,\n",
       "  144.74795532226562,\n",
       "  143.42930603027344,\n",
       "  142.12051391601562,\n",
       "  140.8216094970703,\n",
       "  139.53256225585938,\n",
       "  138.2532958984375,\n",
       "  136.98367309570312,\n",
       "  135.72373962402344,\n",
       "  134.47344970703125,\n",
       "  133.23269653320312,\n",
       "  132.00137329101562,\n",
       "  130.7795867919922,\n",
       "  129.56712341308594,\n",
       "  128.36404418945312,\n",
       "  127.17020416259766,\n",
       "  125.98564910888672,\n",
       "  124.81024932861328,\n",
       "  123.64400482177734,\n",
       "  122.48680114746094,\n",
       "  121.33865356445312,\n",
       "  120.19943237304688,\n",
       "  119.06922912597656,\n",
       "  117.94783782958984,\n",
       "  116.83525848388672,\n",
       "  115.7314453125,\n",
       "  114.63632202148438,\n",
       "  113.54991912841797,\n",
       "  112.47211456298828,\n",
       "  111.40291595458984,\n",
       "  110.34217834472656,\n",
       "  109.2899398803711,\n",
       "  108.24608612060547,\n",
       "  107.2105712890625,\n",
       "  106.18336486816406,\n",
       "  105.16445922851562,\n",
       "  104.15373992919922,\n",
       "  103.15125274658203,\n",
       "  102.15682220458984,\n",
       "  101.17044067382812,\n",
       "  100.19209289550781,\n",
       "  99.22171783447266,\n",
       "  98.25924682617188,\n",
       "  97.30465698242188,\n",
       "  96.35786437988281,\n",
       "  95.41886901855469,\n",
       "  94.48756408691406,\n",
       "  93.56395721435547,\n",
       "  92.64794921875,\n",
       "  91.73951721191406,\n",
       "  90.83865356445312,\n",
       "  89.94525146484375,\n",
       "  89.05929565429688,\n",
       "  88.18074035644531,\n",
       "  87.30950927734375,\n",
       "  86.44558715820312,\n",
       "  85.58894348144531,\n",
       "  84.73946380615234,\n",
       "  83.89712524414062,\n",
       "  83.06195068359375,\n",
       "  82.23381805419922,\n",
       "  81.41268157958984,\n",
       "  80.5985336303711,\n",
       "  79.79129791259766,\n",
       "  78.9909439086914,\n",
       "  78.19744873046875,\n",
       "  77.4107666015625,\n",
       "  76.63077545166016,\n",
       "  75.85752868652344,\n",
       "  75.09088134765625,\n",
       "  74.3309097290039,\n",
       "  73.57748413085938,\n",
       "  72.83057403564453,\n",
       "  72.09014129638672,\n",
       "  71.35614776611328,\n",
       "  70.62857055664062,\n",
       "  69.90731811523438,\n",
       "  69.1924057006836,\n",
       "  68.48373413085938,\n",
       "  67.7812728881836,\n",
       "  67.08501434326172,\n",
       "  66.39488220214844,\n",
       "  65.7108383178711,\n",
       "  65.03286743164062,\n",
       "  64.36090087890625,\n",
       "  63.69490051269531,\n",
       "  63.03481674194336,\n",
       "  62.38063430786133,\n",
       "  61.73228073120117,\n",
       "  61.08974838256836,\n",
       "  60.45296096801758,\n",
       "  59.82189178466797,\n",
       "  59.19650650024414,\n",
       "  58.57675552368164,\n",
       "  57.96261215209961,\n",
       "  57.35406494140625,\n",
       "  56.75099182128906,\n",
       "  56.153419494628906,\n",
       "  55.56128692626953,\n",
       "  54.97454071044922,\n",
       "  54.39316940307617,\n",
       "  53.817100524902344,\n",
       "  53.246337890625,\n",
       "  52.68079376220703,\n",
       "  52.1204719543457,\n",
       "  51.56534194946289,\n",
       "  51.015342712402344,\n",
       "  50.47042465209961,\n",
       "  49.93054962158203,\n",
       "  49.39569854736328,\n",
       "  48.86585998535156,\n",
       "  48.34095764160156,\n",
       "  47.82093811035156,\n",
       "  47.30580139160156,\n",
       "  46.795501708984375,\n",
       "  46.28999328613281,\n",
       "  45.789215087890625,\n",
       "  45.29322814941406,\n",
       "  44.8018913269043,\n",
       "  44.31521224975586,\n",
       "  43.8331298828125,\n",
       "  43.35565948486328,\n",
       "  42.882747650146484,\n",
       "  42.414329528808594,\n",
       "  41.95038986206055,\n",
       "  41.490909576416016,\n",
       "  41.03581619262695,\n",
       "  40.585113525390625,\n",
       "  40.13872146606445,\n",
       "  39.696678161621094,\n",
       "  39.258880615234375,\n",
       "  38.825313568115234,\n",
       "  38.39595031738281,\n",
       "  37.97077941894531,\n",
       "  37.549739837646484,\n",
       "  37.13282775878906,\n",
       "  36.7199592590332,\n",
       "  36.3111572265625,\n",
       "  35.90632629394531,\n",
       "  35.50550842285156,\n",
       "  35.10860061645508,\n",
       "  34.71563720703125,\n",
       "  34.32655334472656,\n",
       "  33.94132995605469,\n",
       "  33.55990219116211,\n",
       "  33.1822624206543,\n",
       "  32.80839920043945,\n",
       "  32.43825912475586,\n",
       "  32.07180404663086,\n",
       "  31.709014892578125,\n",
       "  31.34986114501953,\n",
       "  30.994319915771484,\n",
       "  30.642351150512695,\n",
       "  30.293922424316406,\n",
       "  29.94902229309082,\n",
       "  29.607608795166016,\n",
       "  29.26963996887207,\n",
       "  28.93511199951172,\n",
       "  28.603965759277344,\n",
       "  28.276208877563477,\n",
       "  27.951784133911133,\n",
       "  27.63068389892578,\n",
       "  27.31288719177246,\n",
       "  26.998315811157227,\n",
       "  26.6870174407959,\n",
       "  26.378904342651367,\n",
       "  26.07393455505371,\n",
       "  25.77214813232422,\n",
       "  25.473482131958008,\n",
       "  25.17791175842285,\n",
       "  24.885406494140625,\n",
       "  24.595935821533203,\n",
       "  24.30948257446289,\n",
       "  24.0260009765625,\n",
       "  23.745521545410156,\n",
       "  23.467966079711914,\n",
       "  23.193315505981445,\n",
       "  22.92154312133789,\n",
       "  22.652650833129883,\n",
       "  22.38658332824707,\n",
       "  22.123336791992188,\n",
       "  21.862855911254883,\n",
       "  21.60515022277832,\n",
       "  21.350181579589844,\n",
       "  21.097900390625,\n",
       "  20.848325729370117,\n",
       "  20.60141372680664,\n",
       "  20.357139587402344,\n",
       "  20.11549186706543,\n",
       "  19.87641716003418,\n",
       "  19.63991928100586,\n",
       "  19.405982971191406,\n",
       "  19.174537658691406,\n",
       "  18.94561004638672,\n",
       "  18.719154357910156,\n",
       "  18.495147705078125,\n",
       "  18.273584365844727,\n",
       "  18.05443572998047,\n",
       "  17.837650299072266,\n",
       "  17.623245239257812,\n",
       "  17.411155700683594,\n",
       "  17.20142364501953,\n",
       "  16.993982315063477,\n",
       "  16.788818359375,\n",
       "  16.585905075073242,\n",
       "  16.385225296020508,\n",
       "  16.186765670776367,\n",
       "  15.990504264831543,\n",
       "  15.796403884887695,\n",
       "  15.604461669921875,\n",
       "  15.414653778076172,\n",
       "  15.226957321166992,\n",
       "  15.041364669799805,\n",
       "  14.857829093933105,\n",
       "  14.676347732543945,\n",
       "  14.49689769744873,\n",
       "  14.319461822509766,\n",
       "  14.144013404846191,\n",
       "  13.970539093017578,\n",
       "  13.79903793334961,\n",
       "  13.62946605682373,\n",
       "  13.461809158325195,\n",
       "  13.296050071716309,\n",
       "  13.132180213928223,\n",
       "  12.970165252685547,\n",
       "  12.8100004196167,\n",
       "  12.651667594909668,\n",
       "  12.495133399963379,\n",
       "  12.340388298034668,\n",
       "  12.187424659729004,\n",
       "  12.036215782165527,\n",
       "  11.886743545532227,\n",
       "  11.739002227783203,\n",
       "  11.592949867248535,\n",
       "  11.448590278625488,\n",
       "  11.305912971496582,\n",
       "  11.16486930847168,\n",
       "  11.02547550201416,\n",
       "  10.887700080871582,\n",
       "  10.751529693603516,\n",
       "  10.61694622039795,\n",
       "  10.483922004699707,\n",
       "  10.352470397949219,\n",
       "  10.22256088256836,\n",
       "  10.094162940979004,\n",
       "  9.96728515625,\n",
       "  9.841894149780273,\n",
       "  9.717988967895508,\n",
       "  9.59554672241211,\n",
       "  9.474549293518066,\n",
       "  9.354994773864746,\n",
       "  9.236856460571289,\n",
       "  9.120113372802734,\n",
       "  9.004768371582031,\n",
       "  8.890785217285156]}"
      ]
     },
     "metadata": {},
     "execution_count": 10
    }
   ]
  },
  {
   "cell_type": "markdown",
   "metadata": {
    "id": "GFcIU2-SdCrI"
   },
   "source": [
    "In later videos, we will go into more detail on what actually happens here and how a Dense layer actually works internally."
   ]
  },
  {
   "cell_type": "markdown",
   "metadata": {
    "id": "0-QsNCLD4MJZ"
   },
   "source": [
    "## Display training statistics\n",
    "\n",
    "The `fit` method returns a history object. We can use this object to plot how the loss of our model goes down after each training epoch. A high loss means that the Fahrenheit degrees the model predicts is far from the corresponding value in `fahrenheit_a`.\n",
    "\n",
    "We'll use [Matplotlib](https://matplotlib.org/) to visualize this (you could use another tool). As you can see, our model improves very quickly at first, and then has a steady, slow improvement until it is very near \"perfect\" towards the end.\n"
   ]
  },
  {
   "cell_type": "code",
   "execution_count": 11,
   "metadata": {
    "id": "IeK6BzfbdO6_",
    "colab": {
     "base_uri": "https://localhost:8080/",
     "height": 473
    },
    "outputId": "51c15a41-59b3-4b05-a20b-a0cae8289d89"
   },
   "outputs": [
    {
     "output_type": "execute_result",
     "data": {
      "text/plain": [
       "[<matplotlib.lines.Line2D at 0x7c2d1a118cd0>]"
      ]
     },
     "metadata": {},
     "execution_count": 11
    },
    {
     "output_type": "display_data",
     "data": {
      "text/plain": [
       "<Figure size 640x480 with 1 Axes>"
      ],
      "image/png": "[encoded data removed]"
     },
     "metadata": {}
    }
   ],
   "source": [
    "import matplotlib.pyplot as plt\n",
    "\n",
    "plt.xlabel(\"Epoch Number\")\n",
    "plt.ylabel(\"Loss Magnitude\")\n",
    "plt.plot(history.history[\"loss\"])"
   ]
  },
  {
   "cell_type": "markdown",
   "metadata": {
    "id": "LtQGDMob5LOD"
   },
   "source": [
    "## Use the model to predict values\n",
    "\n",
    "Now you have a model that has been trained to learn the relationship between `celsius_q` and `fahrenheit_a`. You can use the predict method to have it calculate the Fahrenheit degrees for a previously unknown Celsius degrees.\n",
    "\n",
    "So, for example, if the Celsius value is 100, what do you think the Fahrenheit result will be? Take a guess before you run this code."
   ]
  },
  {
   "cell_type": "markdown",
   "source": [],
   "metadata": {
    "id": "JrrXti4uD4mE"
   }
  },
  {
   "cell_type": "markdown",
   "source": [],
   "metadata": {
    "id": "Qm9bmfJvD49H"
   }
  },
  {
   "cell_type": "code",
   "execution_count": 12,
   "metadata": {
    "id": "oxNzL4lS2Gui",
    "colab": {
     "base_uri": "https://localhost:8080/",
     "height": 541
    },
    "outputId": "923e299a-25d8-4c95-de47-4ff559b398b2"
   },
   "outputs": [
    {
     "output_type": "error",
     "ename": "ValueError",
     "evalue": "Unrecognized data type: x=[100.0] (of type <class 'list'>)",
     "traceback": [
      "\u001b[0;31m---------------------------------------------------------------------------\u001b[0m",
      "\u001b[0;31mValueError\u001b[0m                                Traceback (most recent call last)",
      "\u001b[0;32m<ipython-input-12-5f23ede71fd3>\u001b[0m in \u001b[0;36m<cell line: 1>\u001b[0;34m()\u001b[0m\n\u001b[0;32m----> 1\u001b[0;31m \u001b[0mprint\u001b[0m\u001b[0;34m(\u001b[0m\u001b[0mmodel\u001b[0m\u001b[0;34m.\u001b[0m\u001b[0mpredict\u001b[0m\u001b[0;34m(\u001b[0m\u001b[0;34m[\u001b[0m\u001b[0;36m100.0\u001b[0m\u001b[0;34m]\u001b[0m\u001b[0;34m)\u001b[0m\u001b[0;34m)\u001b[0m\u001b[0;34m\u001b[0m\u001b[0;34m\u001b[0m\u001b[0m\n\u001b[0m",
      "\u001b[0;32m/usr/local/lib/python3.10/dist-packages/keras/src/utils/traceback_utils.py\u001b[0m in \u001b[0;36merror_handler\u001b[0;34m(*args, **kwargs)\u001b[0m\n\u001b[1;32m    120\u001b[0m             \u001b[0;31m# To get the full stack trace, call:\u001b[0m\u001b[0;34m\u001b[0m\u001b[0;34m\u001b[0m\u001b[0m\n\u001b[1;32m    121\u001b[0m             \u001b[0;31m# `keras.config.disable_traceback_filtering()`\u001b[0m\u001b[0;34m\u001b[0m\u001b[0;34m\u001b[0m\u001b[0m\n\u001b[0;32m--> 122\u001b[0;31m             \u001b[0;32mraise\u001b[0m \u001b[0me\u001b[0m\u001b[0;34m.\u001b[0m\u001b[0mwith_traceback\u001b[0m\u001b[0;34m(\u001b[0m\u001b[0mfiltered_tb\u001b[0m\u001b[0;34m)\u001b[0m \u001b[0;32mfrom\u001b[0m \u001b[0;32mNone\u001b[0m\u001b[0;34m\u001b[0m\u001b[0;34m\u001b[0m\u001b[0m\n\u001b[0m\u001b[1;32m    123\u001b[0m         \u001b[0;32mfinally\u001b[0m\u001b[0;34m:\u001b[0m\u001b[0;34m\u001b[0m\u001b[0;34m\u001b[0m\u001b[0m\n\u001b[1;32m    124\u001b[0m             \u001b[0;32mdel\u001b[0m \u001b[0mfiltered_tb\u001b[0m\u001b[0;34m\u001b[0m\u001b[0;34m\u001b[0m\u001b[0m\n",
      "\u001b[0;32m/usr/local/lib/python3.10/dist-packages/keras/src/trainers/data_adapters/__init__.py\u001b[0m in \u001b[0;36mget_data_adapter\u001b[0;34m(x, y, sample_weight, batch_size, steps_per_epoch, shuffle, class_weight)\u001b[0m\n\u001b[1;32m    118\u001b[0m         \u001b[0;31m# )\u001b[0m\u001b[0;34m\u001b[0m\u001b[0;34m\u001b[0m\u001b[0m\n\u001b[1;32m    119\u001b[0m     \u001b[0;32melse\u001b[0m\u001b[0;34m:\u001b[0m\u001b[0;34m\u001b[0m\u001b[0;34m\u001b[0m\u001b[0m\n\u001b[0;32m--> 120\u001b[0;31m         \u001b[0;32mraise\u001b[0m \u001b[0mValueError\u001b[0m\u001b[0;34m(\u001b[0m\u001b[0;34mf\"Unrecognized data type: x={x} (of type {type(x)})\"\u001b[0m\u001b[0;34m)\u001b[0m\u001b[0;34m\u001b[0m\u001b[0;34m\u001b[0m\u001b[0m\n\u001b[0m\u001b[1;32m    121\u001b[0m \u001b[0;34m\u001b[0m\u001b[0m\n\u001b[1;32m    122\u001b[0m \u001b[0;34m\u001b[0m\u001b[0m\n",
      "\u001b[0;31mValueError\u001b[0m: Unrecognized data type: x=[100.0] (of type <class 'list'>)"
     ]
    }
   ],
   "source": [
    "print(model.predict([100.0]))"
   ]
  },
  {
   "cell_type": "markdown",
   "metadata": {
    "id": "jApk6tZ1fBg1"
   },
   "source": [
    "The correct answer is $100 \\times 1.8 + 32 = 212$, so our model is doing really well.\n",
    "\n",
    "### To review\n",
    "\n",
    "\n",
    "*   We created a model with a Dense layer\n",
    "*   We trained it with 3500 examples (7 pairs, over 500 epochs).\n",
    "\n",
    "Our model tuned the variables (weights) in the Dense layer until it was able to return the correct Fahrenheit value for any Celsius value. (Remember, 100 Celsius was not part of our training data.)\n"
   ]
  },
  {
   "cell_type": "markdown",
   "metadata": {
    "id": "zRrOky5gm20Z"
   },
   "source": [
    "## Looking at the layer weights\n",
    "\n",
    "Finally, let's print the internal variables of the Dense layer."
   ]
  },
  {
   "cell_type": "code",
   "execution_count": null,
   "metadata": {
    "id": "kmIkVdkbnZJI"
   },
   "outputs": [],
   "source": [
    "print(\"These are the layer variables: {}\".format(l0.get_weights()))"
   ]
  },
  {
   "cell_type": "markdown",
   "metadata": {
    "id": "RSplSnMvnWC-"
   },
   "source": [
    "The first variable is close to ~1.8 and the second to ~32. These values (1.8 and 32) are the actual variables in the real conversion formula.\n",
    "\n",
    "This is really close to the values in the conversion formula. We'll explain this in an upcoming video where we show how a Dense layer works, but for a single neuron with a single input and a single output, the internal math looks the same as [the equation for a line](https://en.wikipedia.org/wiki/Linear_equation#Slope%E2%80%93intercept_form), $y = mx + b$, which has the same form as the conversion equation, $f = 1.8c + 32$.\n",
    "\n",
    "Since the form is the same, the variables should converge on the standard values of 1.8 and 32, which is exactly what happened.\n",
    "\n",
    "With additional neurons, additional inputs, and additional outputs, the formula becomes much more complex, but the idea is the same.\n",
    "\n",
    "### A little experiment\n",
    "\n",
    "Just for fun, what if we created more Dense layers with different units, which therefore also has more variables?"
   ]
  },
  {
   "cell_type": "code",
   "execution_count": null,
   "metadata": {
    "id": "Y2zTA-rDS5Xk"
   },
   "outputs": [],
   "source": [
    "l0 = tf.keras.layers.Dense(units=4, input_shape=[1])\n",
    "l1 = tf.keras.layers.Dense(units=4)\n",
    "l2 = tf.keras.layers.Dense(units=1)\n",
    "model = tf.keras.Sequential([l0, l1, l2])\n",
    "model.compile(loss=\"mean_squared_error\", optimizer=tf.keras.optimizers.Adam(0.1))\n",
    "model.fit(celsius_q, fahrenheit_a, epochs=500, verbose=False)\n",
    "print(\"Finished training the model\")\n",
    "print(model.predict([100.0]))\n",
    "print(\n",
    "    \"Model predicts that 100 degrees Celsius is: {} degrees Fahrenheit\".format(\n",
    "        model.predict([100.0])\n",
    "    )\n",
    ")\n",
    "print(\"These are the l0 variables: {}\".format(l0.get_weights()))\n",
    "print(\"These are the l1 variables: {}\".format(l1.get_weights()))\n",
    "print(\"These are the l2 variables: {}\".format(l2.get_weights()))"
   ]
  },
  {
   "cell_type": "markdown",
   "metadata": {
    "id": "xrpFFlgYhCty"
   },
   "source": [
    "As you can see, this model is also able to predict the corresponding Fahrenheit value really well. But when you look at the variables (weights) in the `l0` and `l1` layers, they are nothing even close to ~1.8 and ~32. The added complexity hides the \"simple\" form of the conversion equation.\n",
    "\n",
    "Stay tuned for the upcoming video on how Dense layers work for the explanation."
   ]
  }
 ],
 "metadata": {
  "colab": {
   "provenance": []
  },
  "kernelspec": {
   "display_name": "Python 3",
   "name": "python3"
  }
 },
 "nbformat": 4,
 "nbformat_minor": 0
}