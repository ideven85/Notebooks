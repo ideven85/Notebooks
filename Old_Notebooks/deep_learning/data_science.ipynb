{
 "cells": [
  {
   "cell_type": "code",
   "id": "initial_id",
   "metadata": {
    "collapsed": true,
    "ExecuteTime": {
     "end_time": "2024-10-21T21:24:14.662612Z",
     "start_time": "2024-10-21T21:24:12.804187Z"
    }
   },
   "source": [
    "# from random import random\n",
    "import random\n",
    "\n",
    "random.seed(42)\n",
    "L = [random.random() for _ in range(100)]\n",
    "print(L[:20])\n",
    "%timeit L.sort()"
   ],
   "outputs": [
    {
     "name": "stdout",
     "output_type": "stream",
     "text": [
      "[0.6394267984578837, 0.025010755222666936, 0.27502931836911926, 0.22321073814882275, 0.7364712141640124, 0.6766994874229113, 0.8921795677048454, 0.08693883262941615, 0.4219218196852704, 0.029797219438070344, 0.21863797480360336, 0.5053552881033624, 0.026535969683863625, 0.1988376506866485, 0.6498844377795232, 0.5449414806032167, 0.2204406220406967, 0.5892656838759087, 0.8094304566778266, 0.006498759678061017]\n",
      "229 ns ± 12 ns per loop (mean ± std. dev. of 7 runs, 1,000,000 loops each)\n"
     ]
    }
   ],
   "execution_count": 1
  },
  {
   "metadata": {
    "ExecuteTime": {
     "end_time": "2024-10-21T21:23:19.081248Z",
     "start_time": "2024-10-21T21:23:19.078711Z"
    }
   },
   "cell_type": "code",
   "source": "print(L[:20])",
   "id": "ccd0fd951760b581",
   "outputs": [
    {
     "name": "stdout",
     "output_type": "stream",
     "text": [
      "[0.006498759678061017, 0.025010755222666936, 0.026535969683863625, 0.029797219438070344, 0.03210024390403776, 0.045824383655662215, 0.04711637542473457, 0.06352770615195713, 0.0797919769236275, 0.08693883262941615, 0.09090941217379389, 0.09274584338014791, 0.09671637683346401, 0.10100142940972912, 0.10964913035065915, 0.15547949981178155, 0.1634024937619284, 0.171138648198097, 0.1988376506866485, 0.2095070307714877]\n"
     ]
    }
   ],
   "execution_count": 5
  },
  {
   "metadata": {
    "ExecuteTime": {
     "end_time": "2024-10-21T21:24:25.177302Z",
     "start_time": "2024-10-21T21:24:25.041849Z"
    }
   },
   "cell_type": "code",
   "source": [
    "import numpy as np\n",
    "\n",
    "L2 = [np.random.random() for _ in range(100)]  # Inserted by AI"
   ],
   "id": "458f699d5bb4d122",
   "outputs": [],
   "execution_count": 2
  },
  {
   "metadata": {
    "ExecuteTime": {
     "end_time": "2024-10-21T21:24:39.500744Z",
     "start_time": "2024-10-21T21:24:37.829012Z"
    }
   },
   "cell_type": "code",
   "source": "%timeit L2.sort()",
   "id": "8d67f6e073abbc43",
   "outputs": [
    {
     "name": "stdout",
     "output_type": "stream",
     "text": [
      "204 ns ± 1.39 ns per loop (mean ± std. dev. of 7 runs, 1,000,000 loops each)\n"
     ]
    }
   ],
   "execution_count": 3
  },
  {
   "metadata": {},
   "cell_type": "code",
   "outputs": [],
   "execution_count": null,
   "source": "",
   "id": "753ff5f0ccc6cee2"
  }
 ],
 "metadata": {
  "kernelspec": {
   "display_name": "Python 3",
   "language": "python",
   "name": "python3"
  },
  "language_info": {
   "codemirror_mode": {
    "name": "ipython",
    "version": 2
   },
   "file_extension": ".py",
   "mimetype": "text/x-python",
   "name": "python",
   "nbconvert_exporter": "python",
   "pygments_lexer": "ipython2",
   "version": "2.7.6"
  }
 },
 "nbformat": 4,
 "nbformat_minor": 5
}
